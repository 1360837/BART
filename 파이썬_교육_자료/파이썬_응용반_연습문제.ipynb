{
  "nbformat": 4,
  "nbformat_minor": 0,
  "metadata": {
    "colab": {
      "provenance": [],
      "authorship_tag": "ABX9TyNim6aiHrGReKyfsdXOJMj/",
      "include_colab_link": true
    },
    "kernelspec": {
      "name": "python3",
      "display_name": "Python 3"
    },
    "language_info": {
      "name": "python"
    }
  },
  "cells": [
    {
      "cell_type": "markdown",
      "metadata": {
        "id": "view-in-github",
        "colab_type": "text"
      },
      "source": [
        "<a href=\"https://colab.research.google.com/github/1360837/BART/blob/main/%ED%8C%8C%EC%9D%B4%EC%8D%AC_%EA%B5%90%EC%9C%A1_%EC%9E%90%EB%A3%8C/%ED%8C%8C%EC%9D%B4%EC%8D%AC_%EC%9D%91%EC%9A%A9%EB%B0%98_%EC%97%B0%EC%8A%B5%EB%AC%B8%EC%A0%9C.ipynb\" target=\"_parent\"><img src=\"https://colab.research.google.com/assets/colab-badge.svg\" alt=\"Open In Colab\"/></a>"
      ]
    },
    {
      "cell_type": "markdown",
      "source": [
        "###리스트 추가 문법\n",
        "---\n",
        "> list [ 시작 인덱스 : 끝 인덱스 : 인덱스 step ]"
      ],
      "metadata": {
        "id": "-vGSsl-BTRjO"
      }
    },
    {
      "cell_type": "code",
      "execution_count": null,
      "metadata": {
        "colab": {
          "base_uri": "https://localhost:8080/"
        },
        "id": "5bO6mZZTS78q",
        "outputId": "ff24e69f-6a69-4930-a2c5-5becdd0d5885"
      },
      "outputs": [
        {
          "output_type": "stream",
          "name": "stdout",
          "text": [
            "[1, 3, 5]\n",
            "[5, 4, 3, 2, 1]\n"
          ]
        }
      ],
      "source": [
        "# ex\n",
        "\n",
        "l = [1, 2, 3, 4, 5]\n",
        "\n",
        "l2 = l[::2] # 처음부터 끝까지 2칸씩\n",
        "print(l2)\n",
        "\n",
        "l2 = l[::-1] # 뒤로 1칸씩\n",
        "print(l2)"
      ]
    },
    {
      "cell_type": "markdown",
      "source": [
        "### 문제 1 : 리스트에 요소 추가하기\n",
        "---\n",
        "빈 리스트 `my_list`에 `'apple'`, `'banana'`, `'cherry'`를 차례대로 추가하세요."
      ],
      "metadata": {
        "id": "LiV-woztUr7I"
      }
    },
    {
      "cell_type": "code",
      "source": [
        "my_list = []\n",
        "\n",
        "# 여기에 코드를 입력하세요\n",
        "\n",
        "print(my_list)"
      ],
      "metadata": {
        "id": "Kv9eFhAhU9TE"
      },
      "execution_count": null,
      "outputs": []
    },
    {
      "cell_type": "markdown",
      "source": [
        "###문제 2 : 리스트에서 짝수만 골라 새 리스트 만들기\n",
        "---\n",
        "numbers 리스트와 리스트 슬라이싱을 이용하여 짝수만 들어있는 even_numbers 리스트를 만들고 출력하세요."
      ],
      "metadata": {
        "id": "lEMgxoZVTsX7"
      }
    },
    {
      "cell_type": "code",
      "source": [
        "numbers = [1, 2, 3, 4, 5, 6, 7, 8, 9, 10]\n",
        "\n",
        "# 여기에 코드를 입력하세요\n",
        "\n",
        "print(even_numbers)"
      ],
      "metadata": {
        "id": "tWR42LZ2UGSb"
      },
      "execution_count": null,
      "outputs": []
    },
    {
      "cell_type": "markdown",
      "source": [
        "### 문제 3: 리스트에서 특정 값 삭제하기\n",
        "---\n",
        "주어진 리스트에서 remove 함수를 사용하지 말고 `'blue'`를 삭제하세요."
      ],
      "metadata": {
        "id": "dNm3AxlRVCz3"
      }
    },
    {
      "cell_type": "code",
      "source": [
        "colors = ['red', 'green', 'blue', 'yellow']\n",
        "\n",
        "# 여기에 코드를 입력하세요\n",
        "\n",
        "print(colors)"
      ],
      "metadata": {
        "id": "2aAozEMrVWaz"
      },
      "execution_count": null,
      "outputs": []
    },
    {
      "cell_type": "markdown",
      "source": [
        "###문제 4: 딕셔너리에서 값 꺼내기\n",
        "---\n",
        "주어진 딕셔너리에서 `'math'`과목의 점수를 꺼내 `math_score` 변수에 저장한 후 출력하세요."
      ],
      "metadata": {
        "id": "WmJHVrloV4VT"
      }
    },
    {
      "cell_type": "code",
      "source": [
        "scores = {'math': 90, 'english': 85, 'science': 95}\n",
        "\n",
        "# 여기에 코드를 입력하세요\n",
        "\n",
        "print(math_score)"
      ],
      "metadata": {
        "id": "zYqsp7xjWByb"
      },
      "execution_count": null,
      "outputs": []
    },
    {
      "cell_type": "markdown",
      "source": [
        "### 문제5 : 집합에 요소 추가하기\n",
        "---\n",
        "주어진 집합에 10을 추가한 후 출력하세요."
      ],
      "metadata": {
        "id": "Wktd3QU2WSNA"
      }
    },
    {
      "cell_type": "code",
      "source": [
        "my_set = {1, 2, 3}\n",
        "\n",
        "# 여기에 코드를 입력하세요\n",
        "\n",
        "print(my_set)"
      ],
      "metadata": {
        "id": "aox-lZ3JWZ6O"
      },
      "execution_count": null,
      "outputs": []
    },
    {
      "cell_type": "markdown",
      "source": [
        "###문제 6: 과일 정보 정리하기\n",
        "---\n",
        "주어진 리스트와 가격표를 활용하여 과일 이름을 키, 가격을 값으로 가지는 `fruit_dict` 딕셔너리를 만드세요."
      ],
      "metadata": {
        "id": "uxKZa5zPWeif"
      }
    },
    {
      "cell_type": "code",
      "source": [
        "fruit_names = ('apple', 'banana', 'cherry')\n",
        "prices = [1000, 500, 1500] # apple : 1000, banana : 500, cherry : 1500\n",
        "\n",
        "# 여기에 코드를 입력하세요\n",
        "\n",
        "print(fruit_dict)"
      ],
      "metadata": {
        "id": "dHzPXgHFWsF_"
      },
      "execution_count": null,
      "outputs": []
    }
  ]
}