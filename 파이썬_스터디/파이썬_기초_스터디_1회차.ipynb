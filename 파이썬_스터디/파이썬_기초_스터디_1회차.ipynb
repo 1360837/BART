{
  "nbformat": 4,
  "nbformat_minor": 0,
  "metadata": {
    "colab": {
      "provenance": [],
      "collapsed_sections": [
        "uSQ3dcA3w_4K",
        "Iau09NZq0RHh",
        "4yJ4eHCp8DJw",
        "97-nPJDZ8OES",
        "e6QWPXW3_mqw",
        "5j6hBu5P_ux5",
        "mxtgkbgE_2ie",
        "kEm_Tvqz_4m1",
        "drZUlnZWAA0Z",
        "Uancb0U9ADsR",
        "8OdVqGS0AF3d",
        "gUYMWH-y-gF_",
        "Ygr_KF6YULKi",
        "izwUY4u8UPPB",
        "i7erngqTYlNy",
        "nSvEcDLuYpXk",
        "9AH4_7T7UU47",
        "iXCbSe84ZbFq",
        "6ATaAAuXUXd8",
        "pozap5zeUZos",
        "6CBnhtIHDACQ",
        "3SyIzsK5x_Yy"
      ],
      "authorship_tag": "ABX9TyPqSZfgjtVhy0xwigu8WhPI",
      "include_colab_link": true
    },
    "kernelspec": {
      "name": "python3",
      "display_name": "Python 3"
    },
    "language_info": {
      "name": "python"
    }
  },
  "cells": [
    {
      "cell_type": "markdown",
      "metadata": {
        "id": "view-in-github",
        "colab_type": "text"
      },
      "source": [
        "<a href=\"https://colab.research.google.com/github/1360837/BART/blob/main/%ED%8C%8C%EC%9D%B4%EC%8D%AC_%EC%8A%A4%ED%84%B0%EB%94%94/%ED%8C%8C%EC%9D%B4%EC%8D%AC_%EA%B8%B0%EC%B4%88_%EC%8A%A4%ED%84%B0%EB%94%94_1%ED%9A%8C%EC%B0%A8.ipynb\" target=\"_parent\"><img src=\"https://colab.research.google.com/assets/colab-badge.svg\" alt=\"Open In Colab\"/></a>"
      ]
    },
    {
      "cell_type": "markdown",
      "source": [
        "__파이썬 참고 자료__\n",
        "================\n",
        "1. [점프 투 파이썬](https://wikidocs.net/book/1)\n",
        "\n",
        "2. [파이썬 자습서](https://docs.python.org/ko/3/tutorial/index.html)\n"
      ],
      "metadata": {
        "id": "uSQ3dcA3w_4K"
      }
    },
    {
      "cell_type": "markdown",
      "source": [
        "마크다운 [Markdown](https://www.heropy.dev/p/B74sNE)\n",
        "-----------------------------------------\n",
        "\n",
        "- 빠르고 가볍게 발표 자료 제작 가능\n",
        "\n",
        "- Latex을 하용하여 수식 표현 가능\n",
        "\n",
        "- 표, 목록, 인용구 활용 가능\n",
        "\n",
        "- Git 및 협업 친화적\n",
        "\n",
        "- 슬라이드 모드 지원(---을 사용해서 슬라이드 구분)\n",
        "\n",
        "- 지원 가능 플랫폼 및 프로그램이 다양함(일반 블로그, 워드프레스, 슬랙, 노션 등)"
      ],
      "metadata": {
        "id": "PRzMOfKytO4-"
      }
    },
    {
      "cell_type": "markdown",
      "source": [
        "[Git Hub](https://github.com \"github\")\n",
        "---------------------------------------\n",
        "\n",
        "- 코드 버전 관리\n",
        "\n",
        "- 협업 및 팀워크 강화\n",
        "\n",
        "- 포트폴리오 관리 (README.md를 활용해 프로젝트 설명)\n",
        "\n",
        "- 백업 및 클라우드 저장소 역할(코랩에서는 필요 x)\n",
        "\n",
        "- 다양한 개발 도구와 연동됨."
      ],
      "metadata": {
        "id": "3vzzGQaTvWp-"
      }
    },
    {
      "cell_type": "markdown",
      "source": [
        "[백준](https://www.acmicpc.net \"baekjoon\")\n",
        "-------------------------------------------\n",
        "\n",
        "1. 회원가입\n",
        "\n",
        "2. 본인의 아이디를 스터디 톡방에 공유\n",
        "\n",
        "3. 그룹내의 문제집에 담긴 문제 풀기\n",
        "  - 소속 스터디 문제집 문제만 풀면 됨\n",
        "  - 그 외의 문제는 개인의 자유"
      ],
      "metadata": {
        "id": "aZZ4vr7Yv26e"
      }
    },
    {
      "cell_type": "markdown",
      "source": [
        "점프 투 파이썬 02장\n",
        "==================="
      ],
      "metadata": {
        "id": "US-lU1aE0EoI"
      }
    },
    {
      "cell_type": "markdown",
      "source": [
        "02-1 숫자형\n",
        "-----------\n",
        "\n",
        " 항목 | 파이썬 사용 예\n",
        "---|:---:\n",
        " 정수 | 123, -345, 0\n",
        " 실수 | 123.45, -1234.5, 3.4e10\n",
        " 8진수 | 0o34, 0o25\n",
        " 16진수 | 0x2A, 0xFF\n"
      ],
      "metadata": {
        "id": "Iau09NZq0RHh"
      }
    },
    {
      "cell_type": "markdown",
      "source": [
        "###1. 숫자형은 어떻게 만들고 사용할까?"
      ],
      "metadata": {
        "id": "4yJ4eHCp8DJw"
      }
    },
    {
      "cell_type": "code",
      "source": [
        "# 정수형\n",
        "\n",
        "a = 123\n",
        "b = -178\n",
        "a = 0\n",
        "\n",
        "type(a)"
      ],
      "metadata": {
        "id": "lYJGF3JzxkA3",
        "colab": {
          "base_uri": "https://localhost:8080/"
        },
        "outputId": "1ac762fb-e87d-4f55-c780-00f6233c2aae"
      },
      "execution_count": null,
      "outputs": [
        {
          "output_type": "execute_result",
          "data": {
            "text/plain": [
              "int"
            ]
          },
          "metadata": {},
          "execution_count": 1
        }
      ]
    },
    {
      "cell_type": "code",
      "source": [
        "# 실수형\n",
        "\n",
        "a = 1.2\n",
        "a = -3.45\n",
        "\n",
        "type(a)"
      ],
      "metadata": {
        "id": "L9YZujHG6C6O",
        "colab": {
          "base_uri": "https://localhost:8080/"
        },
        "outputId": "63764983-4fb2-4a2c-e309-a8f767cae3cd"
      },
      "execution_count": null,
      "outputs": [
        {
          "output_type": "execute_result",
          "data": {
            "text/plain": [
              "float"
            ]
          },
          "metadata": {},
          "execution_count": 2
        }
      ]
    },
    {
      "cell_type": "code",
      "source": [
        "# 8진수(octal)\n",
        "\n",
        "a = 0o177\n",
        "\n",
        "print(a)\n",
        "\n",
        "oct(a) # 코랩은 코드 마지막 줄의 값을 출력해줌. (print 문을 넣지 않아도 값 확인 가능)"
      ],
      "metadata": {
        "colab": {
          "base_uri": "https://localhost:8080/",
          "height": 54
        },
        "id": "xhEi90RT6Gf2",
        "outputId": "86e634fe-945a-4f1c-c8bb-7e276132b50e"
      },
      "execution_count": null,
      "outputs": [
        {
          "output_type": "stream",
          "name": "stdout",
          "text": [
            "127\n"
          ]
        },
        {
          "output_type": "execute_result",
          "data": {
            "text/plain": [
              "'0o177'"
            ],
            "application/vnd.google.colaboratory.intrinsic+json": {
              "type": "string"
            }
          },
          "metadata": {},
          "execution_count": 12
        }
      ]
    },
    {
      "cell_type": "code",
      "source": [
        "# 16진수(hexadecimal)\n",
        "\n",
        "a = 0x8ff\n",
        "b = 0xABC\n",
        "\n",
        "print(a, b)\n",
        "\n",
        "print(hex(a), hex(b))"
      ],
      "metadata": {
        "colab": {
          "base_uri": "https://localhost:8080/"
        },
        "id": "UoW3FYO66iJY",
        "outputId": "77d29dea-7ae9-44b0-f2af-98da85c66e3a"
      },
      "execution_count": null,
      "outputs": [
        {
          "output_type": "stream",
          "name": "stdout",
          "text": [
            "2303 2748\n",
            "0x8ff 0xabc\n"
          ]
        }
      ]
    },
    {
      "cell_type": "markdown",
      "source": [
        ">`bin()`, `oct()`, `hex()`라는 내장함수 제공.\n",
        "\n",
        "이 함수를 통해서 숫자를 각 진수 형태의 문자열로 변환 가능"
      ],
      "metadata": {
        "id": "lzxd53tH6wwg"
      }
    },
    {
      "cell_type": "markdown",
      "source": [
        "__다른 진수의 문자열을 숫자형으로 변환하기__\n",
        "\n",
        "`bin()`, `oct()`, `hex()`로 변환한 문자열들을 다시 숫자로 변환하기\n",
        "\n",
        ">`int()`함수에 진수의 base값을 추가 인자로 넘겨주기"
      ],
      "metadata": {
        "id": "mv9h9NXM7EKO"
      }
    },
    {
      "cell_type": "code",
      "source": [
        "a = 0x8ff\n",
        "print(a)\n",
        "\n",
        "a = hex(a)\n",
        "print(a)\n",
        "\n",
        "a = int('77', 16)\n",
        "print(a)\n",
        "\n",
        "a = int('77', 8)\n",
        "print(a)"
      ],
      "metadata": {
        "colab": {
          "base_uri": "https://localhost:8080/"
        },
        "id": "h1EbJToB7VGk",
        "outputId": "f6062d59-c071-4dc5-bb3c-ae8c2d9e3518"
      },
      "execution_count": null,
      "outputs": [
        {
          "output_type": "stream",
          "name": "stdout",
          "text": [
            "2303\n",
            "0x8ff\n",
            "119\n",
            "63\n"
          ]
        }
      ]
    },
    {
      "cell_type": "markdown",
      "source": [
        "###2. 숫자형을 활용하기 위한 연산자"
      ],
      "metadata": {
        "id": "97-nPJDZ8OES"
      }
    },
    {
      "cell_type": "code",
      "source": [
        "# 사칙 연산\n",
        "\n",
        "a = 3\n",
        "b = 4\n",
        "print(a + b)\n",
        "print(a - b)\n",
        "print(a * b)\n",
        "print(a / b)"
      ],
      "metadata": {
        "colab": {
          "base_uri": "https://localhost:8080/"
        },
        "id": "dX4OG04m8Smq",
        "outputId": "7b055aaf-93a4-463e-d1a3-9b33035d12ed"
      },
      "execution_count": null,
      "outputs": [
        {
          "output_type": "stream",
          "name": "stdout",
          "text": [
            "7\n",
            "-1\n",
            "12\n",
            "0.75\n"
          ]
        }
      ]
    },
    {
      "cell_type": "code",
      "source": [
        "# x의 y제곱을 나타내는 **연산자\n",
        "\n",
        "a = 3\n",
        "b = 4\n",
        "print(a ** b)\n",
        "a^b #^는 bit 연산 XOR에 사용되는 연산자"
      ],
      "metadata": {
        "colab": {
          "base_uri": "https://localhost:8080/"
        },
        "id": "WJdQsoB48b8r",
        "outputId": "b8ace7dd-c05e-4f90-f9e7-4ca4421605b7"
      },
      "execution_count": null,
      "outputs": [
        {
          "output_type": "stream",
          "name": "stdout",
          "text": [
            "81\n"
          ]
        },
        {
          "output_type": "execute_result",
          "data": {
            "text/plain": [
              "7"
            ]
          },
          "metadata": {},
          "execution_count": 7
        }
      ]
    },
    {
      "cell_type": "code",
      "source": [
        "# 나눗셈 후 나머지를 리턴하는 % 연산자\n",
        "\n",
        "print(7 % 3)\n",
        "\n",
        "print(3 % 7)"
      ],
      "metadata": {
        "id": "hrKvwSEu9ZLn",
        "colab": {
          "base_uri": "https://localhost:8080/"
        },
        "outputId": "e9e9e247-05cc-4447-9c8b-20daacd676dc"
      },
      "execution_count": null,
      "outputs": [
        {
          "output_type": "stream",
          "name": "stdout",
          "text": [
            "1\n",
            "3\n"
          ]
        }
      ]
    },
    {
      "cell_type": "code",
      "source": [
        "# 나눗셈 후 몫을 리턴하는 // 연산자\n",
        "\n",
        "print(7 / 4)\n",
        "\n",
        "print(7 // 4)"
      ],
      "metadata": {
        "id": "pOVGaUer9jgq",
        "colab": {
          "base_uri": "https://localhost:8080/"
        },
        "outputId": "1f3ee1b7-567a-4fc0-c6c4-b053d4505bde"
      },
      "execution_count": null,
      "outputs": [
        {
          "output_type": "stream",
          "name": "stdout",
          "text": [
            "1.75\n",
            "1\n"
          ]
        }
      ]
    },
    {
      "cell_type": "code",
      "source": [
        "# 복합 연산자 +=, -=, %=, /=, //=, ^=, **= 등\n",
        "\n",
        "a = 1\n",
        "\n",
        "a = a + 1\n",
        "print(a)\n",
        "\n",
        "a += 1\n",
        "print(a)"
      ],
      "metadata": {
        "id": "089vi6ys9y90",
        "colab": {
          "base_uri": "https://localhost:8080/"
        },
        "outputId": "6a1dcd32-e8ad-47b0-87bb-baac337c658a"
      },
      "execution_count": null,
      "outputs": [
        {
          "output_type": "stream",
          "name": "stdout",
          "text": [
            "2\n",
            "3\n"
          ]
        }
      ]
    },
    {
      "cell_type": "markdown",
      "source": [
        "##02-2 문자열 자료형"
      ],
      "metadata": {
        "id": "z3esxdS--bSF"
      }
    },
    {
      "cell_type": "markdown",
      "source": [
        "###1. 문자열은 어떻게 만들고 사용할까?"
      ],
      "metadata": {
        "id": "BDOiln62-s7A"
      }
    },
    {
      "cell_type": "code",
      "source": [
        "# 큰따옴표로 양쪽 둘러싸기\n",
        "a = \"Hello World\"\n",
        "\n",
        "# 작은따옴표로 양쪽 둘러싸기\n",
        "'Python is fun'\n",
        "\n",
        "# 큰따옴표 3개를 연속으로 써서 양쪽 둘러싸기\n",
        "\"\"\"\n",
        "Life is too short,\n",
        "You need python\n",
        "\"\"\"\n",
        "\n",
        "# 작은 따옴표 3개를 연속으로 써서 양쪽 둘러싸기\n",
        "'''\n",
        "Life is too short,\n",
        "You need python\n",
        "'''\n",
        "\n",
        "type(a)"
      ],
      "metadata": {
        "id": "rqmnnKI6_ETz",
        "colab": {
          "base_uri": "https://localhost:8080/"
        },
        "outputId": "c89af2f9-1651-4129-9364-e37b4a8a4c48"
      },
      "execution_count": null,
      "outputs": [
        {
          "output_type": "execute_result",
          "data": {
            "text/plain": [
              "str"
            ]
          },
          "metadata": {},
          "execution_count": 9
        }
      ]
    },
    {
      "cell_type": "markdown",
      "source": [
        "###2. 문자열 안에 작은따옴표나 큰따옴표를 포함시키고 싶을 때"
      ],
      "metadata": {
        "id": "D84T1A28_e3E"
      }
    },
    {
      "cell_type": "code",
      "source": [
        "# 문자열에 작은따옴표 포함하기\n",
        "\n",
        "food = \"Python's favorite food is perl\"\n",
        "print(food)"
      ],
      "metadata": {
        "id": "6nB3xXRWFv1l"
      },
      "execution_count": null,
      "outputs": []
    },
    {
      "cell_type": "code",
      "source": [
        "food = 'python's favorite food is perl'\n",
        "print(food)"
      ],
      "metadata": {
        "id": "oUmxXmb0F3UP"
      },
      "execution_count": null,
      "outputs": []
    },
    {
      "cell_type": "code",
      "source": [
        "# 문자열에 큰따옴표 포함하기\n",
        "\n",
        "say = '\"python is very easy.\" he says.'\n",
        "print(say)"
      ],
      "metadata": {
        "colab": {
          "base_uri": "https://localhost:8080/"
        },
        "id": "sDwF7elTF7zx",
        "outputId": "06525352-a483-41b2-f419-c29f9ef0337f"
      },
      "execution_count": null,
      "outputs": [
        {
          "output_type": "stream",
          "name": "stdout",
          "text": [
            "\"python is very easy.\" he says.\n"
          ]
        }
      ]
    },
    {
      "cell_type": "code",
      "source": [
        "# 역슬래시를 사용해서 작은따옴표와 큰따옴표를 문자열에 포함하기\n",
        "\n",
        "food = 'Python\\'s favorite food is perl'\n",
        "say = \"\\\"Python is very easy.\\\" he says.\"\n",
        "\n",
        "print(food)\n",
        "print(say)"
      ],
      "metadata": {
        "colab": {
          "base_uri": "https://localhost:8080/"
        },
        "id": "lVK-K_I8GP7A",
        "outputId": "939c6a18-d132-4a24-9a99-8bce2929d0f1"
      },
      "execution_count": null,
      "outputs": [
        {
          "output_type": "stream",
          "name": "stdout",
          "text": [
            "Python's favorite food is perl\n",
            "\"Python is very easy.\" he says.\n"
          ]
        }
      ]
    },
    {
      "cell_type": "markdown",
      "source": [
        "###3. 여러 줄인 문자열을 변수에 대입하고 싶을 때"
      ],
      "metadata": {
        "id": "WQL8_arx_izt"
      }
    },
    {
      "cell_type": "code",
      "source": [
        "# 줄을 바꾸기 위한 이스케이프 코드 \\n 삽입하기\n",
        "\n",
        "multiline = \"Life is too short\\nYou need python\"\n",
        "print(multiline)"
      ],
      "metadata": {
        "colab": {
          "base_uri": "https://localhost:8080/"
        },
        "id": "9vgDiRTaIEjE",
        "outputId": "5b8e3fd5-746f-459a-e866-5d24d9de0d37"
      },
      "execution_count": null,
      "outputs": [
        {
          "output_type": "stream",
          "name": "stdout",
          "text": [
            "Life is too short\n",
            "You need python\n"
          ]
        }
      ]
    },
    {
      "cell_type": "code",
      "source": [
        "# 연속된 작은따옴표 3개 또는 큰따옴표 3개 사용하기\n",
        "\n",
        "multiline = '''\n",
        "Life is too short\n",
        "You need python\n",
        "'''\n",
        "\n",
        "print(multiline)\n",
        "\n",
        "multiline = \"\"\"\n",
        "Life is too short\n",
        "You need python\n",
        "\"\"\"\n",
        "\n",
        "print(multiline)"
      ],
      "metadata": {
        "colab": {
          "base_uri": "https://localhost:8080/"
        },
        "id": "4TGndYuKINCf",
        "outputId": "6f3c9f64-f55d-4437-f634-71b0aa97588b"
      },
      "execution_count": null,
      "outputs": [
        {
          "output_type": "stream",
          "name": "stdout",
          "text": [
            "\n",
            "Life is too short\n",
            "You need python\n",
            "\n",
            "\n",
            "Life is too short\n",
            "You need python\n",
            "\n"
          ]
        }
      ]
    },
    {
      "cell_type": "markdown",
      "source": [
        "#####이스케이프 코드란?\n",
        "\n",
        "프로그래밍할 때 사용할 수 있도록 미리 정의해 둔 '문자 조합'\n",
        "\n",
        "| 코드  | 설명 |\n",
        "|------|------|\n",
        "| `\\n` | 문자열 안에서 줄을 바꿀 때 사용 |\n",
        "| `\\t` | 문자열 사이에 탭 간격을 줄 때 사용 |\n",
        "| `\\\\` | `\\`를 그대로 표현할 때 사용 |\n",
        "| `\\'` | 작은따옴표(`'`)를 그대로 표현할 때 사용 |\n",
        "| `\\\"` | 큰따옴표(`\"`)를 그대로 표현할 때 사용 |\n",
        "| `\\r` | 캐리지 리턴(줄 바꿈 문자, 커서를 현재 줄의 가장 앞으로 이동) |\n",
        "| `\\f` | 폼 피드(줄 바꿈 문자, 커서를 현재 줄의 다음 줄로 이동) |\n",
        "| `\\a` | 벨 소리(출력할 때 PC 스피커에서 '삑' 소리가 난다) |\n",
        "| `\\b` | 백 스페이스 |\n",
        "| `\\000` | 널 문자 |\n",
        "\n",
        "이 중에서 활용 빈도가 높은 것은 `\\n`, `\\t`, `\\\\`, `\\'`, `\\\"`이다. 나머지는 프로그램에서 잘 사용하지 않는다."
      ],
      "metadata": {
        "id": "YOsjrjmTIeY1"
      }
    },
    {
      "cell_type": "markdown",
      "source": [
        "###4. 문자열 연산하기"
      ],
      "metadata": {
        "id": "e6QWPXW3_mqw"
      }
    },
    {
      "cell_type": "code",
      "source": [
        "# 문자열 더해서 연결하기\n",
        "\n",
        "head = \"Python\"\n",
        "tail = \" is fun!\"\n",
        "\n",
        "head + tail"
      ],
      "metadata": {
        "colab": {
          "base_uri": "https://localhost:8080/"
        },
        "id": "lkiYvdADI1vF",
        "outputId": "3ab22448-cacd-469c-bbc2-d76e5f37d5a6"
      },
      "execution_count": null,
      "outputs": [
        {
          "output_type": "execute_result",
          "data": {
            "text/plain": [
              "'Python is fun!'"
            ],
            "application/vnd.google.colaboratory.intrinsic+json": {
              "type": "string"
            }
          },
          "metadata": {},
          "execution_count": 33
        }
      ]
    },
    {
      "cell_type": "code",
      "source": [
        "# 문자열 곱하기\n",
        "\n",
        "a = \"python\"\n",
        "\n",
        "a * 2"
      ],
      "metadata": {
        "colab": {
          "base_uri": "https://localhost:8080/"
        },
        "id": "EA0e11FkI8yh",
        "outputId": "43244cce-dc60-40fc-a3f3-29802d5d5127"
      },
      "execution_count": null,
      "outputs": [
        {
          "output_type": "execute_result",
          "data": {
            "text/plain": [
              "'pythonpython'"
            ],
            "application/vnd.google.colaboratory.intrinsic+json": {
              "type": "string"
            }
          },
          "metadata": {},
          "execution_count": 34
        }
      ]
    },
    {
      "cell_type": "code",
      "source": [
        "# 문자열 곱하기를 응용하기\n",
        "\n",
        "print(\"=\" * 50)\n",
        "print(\"My Program\")\n",
        "print(\"=\" * 50)"
      ],
      "metadata": {
        "colab": {
          "base_uri": "https://localhost:8080/"
        },
        "id": "W83mA9c9JCb6",
        "outputId": "bf524306-40ce-42d8-c21d-83d92f3f5331"
      },
      "execution_count": null,
      "outputs": [
        {
          "output_type": "stream",
          "name": "stdout",
          "text": [
            "==================================================\n",
            "My Program\n",
            "==================================================\n"
          ]
        }
      ]
    },
    {
      "cell_type": "markdown",
      "source": [
        "###5. 문자열 길이 구하기"
      ],
      "metadata": {
        "id": "5j6hBu5P_ux5"
      }
    },
    {
      "cell_type": "code",
      "source": [
        "a = \"Life is too short\"\n",
        "\n",
        "len(a)"
      ],
      "metadata": {
        "colab": {
          "base_uri": "https://localhost:8080/"
        },
        "id": "KaU4QZx6JIri",
        "outputId": "7ae54601-f572-4132-e450-f3c164cd75ef"
      },
      "execution_count": null,
      "outputs": [
        {
          "output_type": "execute_result",
          "data": {
            "text/plain": [
              "17"
            ]
          },
          "metadata": {},
          "execution_count": 36
        }
      ]
    },
    {
      "cell_type": "markdown",
      "source": [
        "###6. 문자열 인덱싱과 슬라이싱"
      ],
      "metadata": {
        "id": "upKmc9GB_wkX"
      }
    },
    {
      "cell_type": "code",
      "source": [
        "a = \"Life is too short, You need Python\"\n",
        "\n",
        "a[3]"
      ],
      "metadata": {
        "colab": {
          "base_uri": "https://localhost:8080/",
          "height": 36
        },
        "id": "g2mEeDzgJL0h",
        "outputId": "66757e96-e9b3-4eab-8279-d389960e35e9"
      },
      "execution_count": null,
      "outputs": [
        {
          "output_type": "execute_result",
          "data": {
            "text/plain": [
              "'e'"
            ],
            "application/vnd.google.colaboratory.intrinsic+json": {
              "type": "string"
            }
          },
          "metadata": {},
          "execution_count": 37
        }
      ]
    },
    {
      "cell_type": "code",
      "source": [
        "# 문자열 인덱싱 활용하기\n",
        "\n",
        "a = \"Life is too short, You need Python\"\n",
        "\n",
        "print(a[0], a[12], a[-1]) # -부호를 붙이면 뒤에서 부터 센 위치 / -0 = 0 이기 때문에 -1 부터 시작"
      ],
      "metadata": {
        "colab": {
          "base_uri": "https://localhost:8080/"
        },
        "id": "TaDWgHlCJUBx",
        "outputId": "154cc378-1f2d-49f5-95d6-3adc929aec96"
      },
      "execution_count": null,
      "outputs": [
        {
          "output_type": "stream",
          "name": "stdout",
          "text": [
            "L s n\n"
          ]
        }
      ]
    },
    {
      "cell_type": "code",
      "source": [
        "# 문자열 슬라이싱\n",
        "\n",
        "a = \"Life is too short, You need Python\"\n",
        "\n",
        "b = a[0] + a[1] + a[2] + a[3]\n",
        "print(b)\n",
        "\n",
        "print(a[0:4]) # a[시작번호 : 끝 번호] / 끝 번호에 해당하는 문자는 포함하지 않음."
      ],
      "metadata": {
        "colab": {
          "base_uri": "https://localhost:8080/"
        },
        "id": "bvgfX3M5JpRp",
        "outputId": "e0c73504-320a-43cb-9881-eb256961d74c"
      },
      "execution_count": null,
      "outputs": [
        {
          "output_type": "stream",
          "name": "stdout",
          "text": [
            "Life\n",
            "Life\n"
          ]
        }
      ]
    },
    {
      "cell_type": "code",
      "source": [
        "# 문자열을 슬라이싱하는 방법\n",
        "\n",
        "print(a[19:]) # 끝 번호 생략 시 시작 번호부터 문자열의 끝까지\n",
        "\n",
        "print(a[:17]) # 시작 번호 생략 시 처음부터 끝 번호까지\n",
        "\n",
        "print(a[:]) # 시작 번호와 끝 번호를 생략하면 처음부터 끝까지\n",
        "\n",
        "print(a[19:-7]) # - 기호 사용 가능"
      ],
      "metadata": {
        "colab": {
          "base_uri": "https://localhost:8080/"
        },
        "id": "DtwIz0qxJ8m4",
        "outputId": "1cd2420e-8276-4ab7-f2e6-1b5feec7da7e"
      },
      "execution_count": null,
      "outputs": [
        {
          "output_type": "stream",
          "name": "stdout",
          "text": [
            "You need Python\n",
            "Life is too short\n",
            "Life is too short, You need Python\n",
            "You need\n"
          ]
        }
      ]
    },
    {
      "cell_type": "code",
      "source": [
        "# 슬라이싱으로 문자열 나누기\n",
        "\n",
        "a = \"20010331Rainy\"\n",
        "\n",
        "date = a[:8]\n",
        "weather = a[8:]\n",
        "\n",
        "print(date)\n",
        "print(weather)"
      ],
      "metadata": {
        "colab": {
          "base_uri": "https://localhost:8080/"
        },
        "id": "7WM3wPJXKet7",
        "outputId": "8ec3336c-ab85-4a36-9f5e-9f351a6d7cec"
      },
      "execution_count": null,
      "outputs": [
        {
          "output_type": "stream",
          "name": "stdout",
          "text": [
            "20010331\n",
            "Rainy\n",
            "0101234-5678\n"
          ]
        }
      ]
    },
    {
      "cell_type": "code",
      "source": [
        "a = \"20230331Rainy\"\n",
        "\n",
        "year = a[:4]\n",
        "date = a[4:8]\n",
        "weather = a[8:]\n",
        "\n",
        "print(year)\n",
        "print(date)\n",
        "print(weather)"
      ],
      "metadata": {
        "colab": {
          "base_uri": "https://localhost:8080/"
        },
        "id": "oGRJkyZkKo0f",
        "outputId": "489bddb2-2e80-48fe-a4aa-f5ae12f0ea6d"
      },
      "execution_count": null,
      "outputs": [
        {
          "output_type": "stream",
          "name": "stdout",
          "text": [
            "2023\n",
            "0331\n",
            "Rainy\n"
          ]
        }
      ]
    },
    {
      "cell_type": "markdown",
      "source": [
        "####Pithon 문자열을 Python으로 바꿀려면?"
      ],
      "metadata": {
        "id": "CYq4gv6wLE91"
      }
    },
    {
      "cell_type": "code",
      "source": [
        "a = \"Pithon\"\n",
        "a[1]"
      ],
      "metadata": {
        "colab": {
          "base_uri": "https://localhost:8080/",
          "height": 35
        },
        "id": "H2f9hO6KK4VP",
        "outputId": "031399ac-b752-48e8-f747-140cf3d80c41"
      },
      "execution_count": null,
      "outputs": [
        {
          "output_type": "execute_result",
          "data": {
            "text/plain": [
              "'i'"
            ],
            "application/vnd.google.colaboratory.intrinsic+json": {
              "type": "string"
            }
          },
          "metadata": {},
          "execution_count": 15
        }
      ]
    },
    {
      "cell_type": "code",
      "source": [
        "a[1] = y # 문자열은 변경 불가능한 자료형"
      ],
      "metadata": {
        "id": "m_qw-sObLNNc",
        "colab": {
          "base_uri": "https://localhost:8080/",
          "height": 147
        },
        "outputId": "62240401-4497-4e34-b9b6-4796ce3b77d3"
      },
      "execution_count": null,
      "outputs": [
        {
          "output_type": "error",
          "ename": "NameError",
          "evalue": "name 'y' is not defined",
          "traceback": [
            "\u001b[0;31m---------------------------------------------------------------------------\u001b[0m",
            "\u001b[0;31mNameError\u001b[0m                                 Traceback (most recent call last)",
            "\u001b[0;32m<ipython-input-16-0536440e3b08>\u001b[0m in \u001b[0;36m<cell line: 0>\u001b[0;34m()\u001b[0m\n\u001b[0;32m----> 1\u001b[0;31m \u001b[0ma\u001b[0m\u001b[0;34m[\u001b[0m\u001b[0;36m1\u001b[0m\u001b[0;34m]\u001b[0m \u001b[0;34m=\u001b[0m \u001b[0my\u001b[0m \u001b[0;31m# 문자열은 변경 불가능한 자료형\u001b[0m\u001b[0;34m\u001b[0m\u001b[0;34m\u001b[0m\u001b[0m\n\u001b[0m",
            "\u001b[0;31mNameError\u001b[0m: name 'y' is not defined"
          ]
        }
      ]
    },
    {
      "cell_type": "code",
      "source": [
        " a = a[:1] + 'y' + a[2:]\n",
        " print(a)"
      ],
      "metadata": {
        "colab": {
          "base_uri": "https://localhost:8080/"
        },
        "id": "yowQHrvJLZGj",
        "outputId": "87f1652d-95e2-45d4-9dc0-20f0571900eb"
      },
      "execution_count": null,
      "outputs": [
        {
          "output_type": "stream",
          "name": "stdout",
          "text": [
            "Python\n"
          ]
        }
      ]
    },
    {
      "cell_type": "markdown",
      "source": [
        "###7. 문자열 포매팅이란?\n",
        "\n",
        ">문자열 안에 어떤 값을 삽입하는 방법"
      ],
      "metadata": {
        "id": "XSBZJUsm_z6q"
      }
    },
    {
      "cell_type": "markdown",
      "source": [
        "###8. 문자열 포매팅 따라 하기"
      ],
      "metadata": {
        "id": "mxtgkbgE_2ie"
      }
    },
    {
      "cell_type": "code",
      "source": [
        "# 숫자 바로 대임\n",
        "\n",
        "\"I eat %d apples.\" % 3"
      ],
      "metadata": {
        "colab": {
          "base_uri": "https://localhost:8080/",
          "height": 35
        },
        "id": "EfrDuL9rLvft",
        "outputId": "ba922743-79d6-47dc-b370-47bb568aca08"
      },
      "execution_count": null,
      "outputs": [
        {
          "output_type": "execute_result",
          "data": {
            "text/plain": [
              "'I eat 3 apples.'"
            ],
            "application/vnd.google.colaboratory.intrinsic+json": {
              "type": "string"
            }
          },
          "metadata": {},
          "execution_count": 21
        }
      ]
    },
    {
      "cell_type": "code",
      "source": [
        "# 문자열 바로 대입\n",
        "\n",
        "\"I eat %s apples.\" % \"five\""
      ],
      "metadata": {
        "colab": {
          "base_uri": "https://localhost:8080/",
          "height": 35
        },
        "id": "Ic2YyAMcL3_L",
        "outputId": "34566546-9fec-4532-a652-56b07a7e34cf"
      },
      "execution_count": null,
      "outputs": [
        {
          "output_type": "execute_result",
          "data": {
            "text/plain": [
              "'I eat five apples.'"
            ],
            "application/vnd.google.colaboratory.intrinsic+json": {
              "type": "string"
            }
          },
          "metadata": {},
          "execution_count": 22
        }
      ]
    },
    {
      "cell_type": "code",
      "source": [
        "# 숫자 값을 나타내는 변수로 대입\n",
        "\n",
        "number = 3\n",
        "\n",
        "\"I eat %d apples.\" % number"
      ],
      "metadata": {
        "colab": {
          "base_uri": "https://localhost:8080/"
        },
        "id": "ZauzoZ0NL_WU",
        "outputId": "96fd1c66-954e-4cf1-e82c-4e3f57998571"
      },
      "execution_count": null,
      "outputs": [
        {
          "output_type": "execute_result",
          "data": {
            "text/plain": [
              "'I eat 3 apples.'"
            ],
            "application/vnd.google.colaboratory.intrinsic+json": {
              "type": "string"
            }
          },
          "metadata": {},
          "execution_count": 51
        }
      ]
    },
    {
      "cell_type": "code",
      "source": [
        "# 2개 이상의 값 넣기\n",
        "\n",
        "number = 10\n",
        "day = \"three\"\n",
        "\"I ate %d apples. so I was sick for %s days.\" % (number, day) # 괄호 안에 쉼표로 구분"
      ],
      "metadata": {
        "colab": {
          "base_uri": "https://localhost:8080/"
        },
        "id": "-spkjIf-MEbA",
        "outputId": "03f3ea42-7a72-441a-c23f-f80bbaf850a5"
      },
      "execution_count": null,
      "outputs": [
        {
          "output_type": "execute_result",
          "data": {
            "text/plain": [
              "'I ate 10 apples. so I was sick for three days.'"
            ],
            "application/vnd.google.colaboratory.intrinsic+json": {
              "type": "string"
            }
          },
          "metadata": {},
          "execution_count": 52
        }
      ]
    },
    {
      "cell_type": "markdown",
      "source": [
        "###9. 문자열 포맷 코드\n",
        "\n",
        "| 코드  | 설명 |\n",
        "|------|------|\n",
        "| `%s` | 문자열(String) |\n",
        "| `%c` | 문자 1개(character) |\n",
        "| `%d` | 정수(Integer) |\n",
        "| `%f` | 부동소수(floating-point) |\n",
        "| `%o` | 8진수 |\n",
        "| `%x` | 16진수 |\n",
        "| `%%` | Literal % (문자 `%` 자체) |"
      ],
      "metadata": {
        "id": "kEm_Tvqz_4m1"
      }
    },
    {
      "cell_type": "code",
      "source": [
        "\"Error is %d%.\" % 98"
      ],
      "metadata": {
        "id": "v8nalwtuMeev",
        "colab": {
          "base_uri": "https://localhost:8080/",
          "height": 147
        },
        "outputId": "cd8975a9-5f18-43ae-f812-a74e6780650f"
      },
      "execution_count": null,
      "outputs": [
        {
          "output_type": "error",
          "ename": "ValueError",
          "evalue": "incomplete format",
          "traceback": [
            "\u001b[0;31m---------------------------------------------------------------------------\u001b[0m",
            "\u001b[0;31mValueError\u001b[0m                                Traceback (most recent call last)",
            "\u001b[0;32m<ipython-input-23-061de263c4b7>\u001b[0m in \u001b[0;36m<cell line: 0>\u001b[0;34m()\u001b[0m\n\u001b[0;32m----> 1\u001b[0;31m \u001b[0;34m\"Error is %d%.\"\u001b[0m \u001b[0;34m%\u001b[0m \u001b[0;36m98\u001b[0m\u001b[0;34m\u001b[0m\u001b[0;34m\u001b[0m\u001b[0m\n\u001b[0m",
            "\u001b[0;31mValueError\u001b[0m: incomplete format"
          ]
        }
      ]
    },
    {
      "cell_type": "code",
      "source": [
        "\"Error is %d%%.\" % 98"
      ],
      "metadata": {
        "id": "3NfF5NGRMh2h",
        "colab": {
          "base_uri": "https://localhost:8080/",
          "height": 35
        },
        "outputId": "83ee71bd-a081-4c3c-b23c-f08d8425f53f"
      },
      "execution_count": null,
      "outputs": [
        {
          "output_type": "execute_result",
          "data": {
            "text/plain": [
              "'Error is 98%.'"
            ],
            "application/vnd.google.colaboratory.intrinsic+json": {
              "type": "string"
            }
          },
          "metadata": {},
          "execution_count": 24
        }
      ]
    },
    {
      "cell_type": "code",
      "source": [
        "# %s 는 어떤 형태의 값이든 변환해 넣을 수 있다\n",
        "\n",
        "print(\"I have %s apples\" % 3)\n",
        "print(\"rate is %s\" % 3.234)"
      ],
      "metadata": {
        "colab": {
          "base_uri": "https://localhost:8080/"
        },
        "id": "vcv7yfX7MmpT",
        "outputId": "d7c3c65a-1aed-4b8f-8bc5-ffc59f096d6d"
      },
      "execution_count": null,
      "outputs": [
        {
          "output_type": "stream",
          "name": "stdout",
          "text": [
            "I have 3 apples\n",
            "rate is 3.234\n"
          ]
        }
      ]
    },
    {
      "cell_type": "markdown",
      "source": [
        "###10. 포맷 코드와 숫자 함께 사용하기"
      ],
      "metadata": {
        "id": "drZUlnZWAA0Z"
      }
    },
    {
      "cell_type": "code",
      "source": [
        "# 정렬과 공백\n",
        "\n",
        "print(\"%10s\" % \"hi\")\n",
        "print(\"%-10sjane.\" % \"hi\")"
      ],
      "metadata": {
        "colab": {
          "base_uri": "https://localhost:8080/"
        },
        "id": "b5gnF4GjOyaf",
        "outputId": "000ac83b-404f-4dd1-a3d7-2b8317fb81bf"
      },
      "execution_count": null,
      "outputs": [
        {
          "output_type": "stream",
          "name": "stdout",
          "text": [
            "        hi\n",
            "hi        jane.\n"
          ]
        }
      ]
    },
    {
      "cell_type": "code",
      "source": [
        "# 소수점 표현하기\n",
        "\n",
        "print(\"%0.4f\" % 3.42134234)\n",
        "print(\"%10.4f\" % 3.42134234)"
      ],
      "metadata": {
        "colab": {
          "base_uri": "https://localhost:8080/"
        },
        "id": "TnIoAsOkO6Ta",
        "outputId": "5dcc4bac-f9a2-4231-98d5-b82cd1d19862"
      },
      "execution_count": null,
      "outputs": [
        {
          "output_type": "stream",
          "name": "stdout",
          "text": [
            "3.4213\n",
            "    3.4213\n"
          ]
        }
      ]
    },
    {
      "cell_type": "code",
      "source": [
        "print(\"%2.3f\" % 3.141592)\n",
        "print(\"%2.3f\" % 1.2) # %x.y에서 x, y는 출력되는 최소 길이"
      ],
      "metadata": {
        "colab": {
          "base_uri": "https://localhost:8080/"
        },
        "id": "6sNbxWHDPEeP",
        "outputId": "e91919a5-030a-43a9-fff4-737cff3a717d"
      },
      "execution_count": null,
      "outputs": [
        {
          "output_type": "stream",
          "name": "stdout",
          "text": [
            "3.142\n",
            "1.200\n"
          ]
        }
      ]
    },
    {
      "cell_type": "markdown",
      "source": [
        "###11. format 함수를 사용한 포매팅"
      ],
      "metadata": {
        "id": "Uancb0U9ADsR"
      }
    },
    {
      "cell_type": "code",
      "source": [
        "# 숫자 바로 대입하기\n",
        "\n",
        "\"I eat {0} apples\".format(3)"
      ],
      "metadata": {
        "id": "HlI_FB5iPxNX"
      },
      "execution_count": null,
      "outputs": []
    },
    {
      "cell_type": "code",
      "source": [
        "# 문자열 바로 대입하기\n",
        "\n",
        "\"I eat {0} apples\".format(\"five\")"
      ],
      "metadata": {
        "colab": {
          "base_uri": "https://localhost:8080/"
        },
        "id": "7n_Lsi9uP2ha",
        "outputId": "2a2c025c-efd6-413f-c438-cf543f0431ff"
      },
      "execution_count": null,
      "outputs": [
        {
          "output_type": "execute_result",
          "data": {
            "text/plain": [
              "'I eat five apples'"
            ],
            "application/vnd.google.colaboratory.intrinsic+json": {
              "type": "string"
            }
          },
          "metadata": {},
          "execution_count": 62
        }
      ]
    },
    {
      "cell_type": "code",
      "source": [
        "# 숫자 값을 가진 변수로 대입하기\n",
        "\n",
        "number = 3\n",
        "\"I eat {0} apples\".format(number)"
      ],
      "metadata": {
        "colab": {
          "base_uri": "https://localhost:8080/"
        },
        "id": "xik-6QwyP5wC",
        "outputId": "e3105ea9-b3b1-4e23-8630-33a567d6598a"
      },
      "execution_count": null,
      "outputs": [
        {
          "output_type": "execute_result",
          "data": {
            "text/plain": [
              "'I eat 3 apples'"
            ],
            "application/vnd.google.colaboratory.intrinsic+json": {
              "type": "string"
            }
          },
          "metadata": {},
          "execution_count": 63
        }
      ]
    },
    {
      "cell_type": "code",
      "source": [
        "# 2개 이상의 값 넣기\n",
        "\n",
        "number = 10\n",
        "day = \"three\"\n",
        "print(\"I ate {0} apples. so I was sick for {1} days.\".format(number, day))\n",
        "\n",
        "# {0}, {1}과 같은 인덱스 항목이 format 함수의 입력값으로 순서에 맞게 바뀜.\n",
        "print(\"I ate {1} apples. so I was sick for {0} days.\".format(day, number))"
      ],
      "metadata": {
        "colab": {
          "base_uri": "https://localhost:8080/"
        },
        "id": "QwojbBpXQo62",
        "outputId": "c578be09-80f7-4fe6-ad64-a40516622feb"
      },
      "execution_count": null,
      "outputs": [
        {
          "output_type": "stream",
          "name": "stdout",
          "text": [
            "I ate 10 apples. so I was sick for three days.\n",
            "I ate 10 apples. so I was sick for three days.\n"
          ]
        }
      ]
    },
    {
      "cell_type": "code",
      "source": [
        "# 이름으로 넣기\n",
        "\n",
        "\"I ate {number} apples. so I was sick for {day} days.\".format(number = 10, day = 3)"
      ],
      "metadata": {
        "colab": {
          "base_uri": "https://localhost:8080/"
        },
        "id": "TLm7YXYAQmxC",
        "outputId": "d71811e1-1539-4c8c-90f9-a030b6e55ecf"
      },
      "execution_count": null,
      "outputs": [
        {
          "output_type": "execute_result",
          "data": {
            "text/plain": [
              "'I ate 10 apples. so I was sick for 3 days.'"
            ],
            "application/vnd.google.colaboratory.intrinsic+json": {
              "type": "string"
            }
          },
          "metadata": {},
          "execution_count": 70
        }
      ]
    },
    {
      "cell_type": "code",
      "source": [
        "# 인덱스와 이름을 혼용해서 넣기\n",
        "\n",
        "\"I ate {0} apples. so I was sick for {day} days.\".format(10, day=3)"
      ],
      "metadata": {
        "colab": {
          "base_uri": "https://localhost:8080/",
          "height": 35
        },
        "id": "Jp7c4kNNQWPD",
        "outputId": "d687cc34-2510-4522-c798-6611935f382f"
      },
      "execution_count": null,
      "outputs": [
        {
          "output_type": "execute_result",
          "data": {
            "text/plain": [
              "'I ate 2 apples. so I was sick for 3 days.'"
            ],
            "application/vnd.google.colaboratory.intrinsic+json": {
              "type": "string"
            }
          },
          "metadata": {},
          "execution_count": 38
        }
      ]
    },
    {
      "cell_type": "code",
      "source": [
        "# 왼쪽 정렬\n",
        "print(\"{0:<10}\".format(\"hi\"))\n",
        "\n",
        "# 오른쪽 정렬\n",
        "print(\"{0:>10}\".format(\"hi\"))\n",
        "\n",
        "# 가운데 정렬\n",
        "print(\"{0:^10}\".format(\"hi\"))"
      ],
      "metadata": {
        "colab": {
          "base_uri": "https://localhost:8080/"
        },
        "id": "WPjGbedcQizx",
        "outputId": "a87f5e59-d10f-43d0-8342-b6b9ce4d1ecf"
      },
      "execution_count": null,
      "outputs": [
        {
          "output_type": "stream",
          "name": "stdout",
          "text": [
            "hi        \n",
            "        hi\n",
            "    hi    \n"
          ]
        }
      ]
    },
    {
      "cell_type": "code",
      "source": [
        "# 공백 채우기\n",
        "\n",
        "print(\"{0:=^10}\".format(\"hi\"))\n",
        "print(\"{0:!<10}\".format(\"hi\"))"
      ],
      "metadata": {
        "colab": {
          "base_uri": "https://localhost:8080/"
        },
        "id": "PqM8QC7sQy8t",
        "outputId": "b703f18f-9ee1-4b13-8796-012439ffc412"
      },
      "execution_count": null,
      "outputs": [
        {
          "output_type": "stream",
          "name": "stdout",
          "text": [
            "====hi====\n",
            "hi!!!!!!!!\n"
          ]
        }
      ]
    },
    {
      "cell_type": "code",
      "source": [
        "# 소수점 표현하기\n",
        "\n",
        "y = 3.42134234\n",
        "print(\"{0:0.4f}\".format(y))\n",
        "print(\"{0:10.4f}\".format(y))"
      ],
      "metadata": {
        "colab": {
          "base_uri": "https://localhost:8080/"
        },
        "id": "0mLrPSsLQ5ot",
        "outputId": "38d9944d-ab84-4c2e-d1d3-6bf71b01c0eb"
      },
      "execution_count": null,
      "outputs": [
        {
          "output_type": "stream",
          "name": "stdout",
          "text": [
            "3.4213\n",
            "    3.4213\n"
          ]
        }
      ]
    },
    {
      "cell_type": "code",
      "source": [
        "# { 또는 } 문자 표현하기\n",
        "\n",
        "\"{{ and }}\".format() # {{}}처럼 2개를 연속해서 사용"
      ],
      "metadata": {
        "colab": {
          "base_uri": "https://localhost:8080/",
          "height": 35
        },
        "id": "3BVZ_apvRGp1",
        "outputId": "a5974405-b9a0-4a14-81af-e9240b75d73a"
      },
      "execution_count": null,
      "outputs": [
        {
          "output_type": "execute_result",
          "data": {
            "text/plain": [
              "'{ and }'"
            ],
            "application/vnd.google.colaboratory.intrinsic+json": {
              "type": "string"
            }
          },
          "metadata": {},
          "execution_count": 43
        }
      ]
    },
    {
      "cell_type": "markdown",
      "source": [
        "###12. f 문자열 포매팅"
      ],
      "metadata": {
        "id": "8OdVqGS0AF3d"
      }
    },
    {
      "cell_type": "code",
      "source": [
        "name = '홍길동'\n",
        "age = '30'\n",
        "\n",
        "f'나의 이름은 {name}입니다. 나이는 {age}입니다.' # 변수 참조 가능"
      ],
      "metadata": {
        "colab": {
          "base_uri": "https://localhost:8080/",
          "height": 35
        },
        "id": "y0UgnEuERclD",
        "outputId": "776a28e6-ebb0-4178-cd89-e9fc29e6289e"
      },
      "execution_count": null,
      "outputs": [
        {
          "output_type": "execute_result",
          "data": {
            "text/plain": [
              "'나의 이름은 홍길동입니다. 나이는 30입니다.'"
            ],
            "application/vnd.google.colaboratory.intrinsic+json": {
              "type": "string"
            }
          },
          "metadata": {},
          "execution_count": 48
        }
      ]
    },
    {
      "cell_type": "code",
      "source": [
        "# 표현식(계산식과 함께 사용) 지원\n",
        "\n",
        "f'나는 내년이면 {age * 3}살이 된다.'"
      ],
      "metadata": {
        "colab": {
          "base_uri": "https://localhost:8080/",
          "height": 35
        },
        "id": "PdlAyb4DRptu",
        "outputId": "9dc04bd5-cc79-47ad-c4c4-7fbb0579fa64"
      },
      "execution_count": null,
      "outputs": [
        {
          "output_type": "execute_result",
          "data": {
            "text/plain": [
              "'나는 내년이면 303030살이 된다.'"
            ],
            "application/vnd.google.colaboratory.intrinsic+json": {
              "type": "string"
            }
          },
          "metadata": {},
          "execution_count": 49
        }
      ]
    },
    {
      "cell_type": "code",
      "source": [
        "# 딕셔너리 f 문자열 포매팅 사용법\n",
        "\n",
        "d = {'name':'홍길동', 'age':30}\n",
        "\n",
        "f'나의 이름은 {d[\"name\"]}입니다. 나이는 {d[\"age\"]}입니다.'"
      ],
      "metadata": {
        "colab": {
          "base_uri": "https://localhost:8080/"
        },
        "id": "2bD5xyq-Rwdi",
        "outputId": "a7779190-85fa-49cb-d690-4317ee8b10cf"
      },
      "execution_count": null,
      "outputs": [
        {
          "output_type": "execute_result",
          "data": {
            "text/plain": [
              "'나의 이름은 홍길동입니다. 나이는 30입니다.'"
            ],
            "application/vnd.google.colaboratory.intrinsic+json": {
              "type": "string"
            }
          },
          "metadata": {},
          "execution_count": 80
        }
      ]
    },
    {
      "cell_type": "code",
      "source": [
        "# 정렬\n",
        "\n",
        "print(f'{\"hi\":<10}')\n",
        "print(f'{\"hi\":>10}')\n",
        "print(f'{\"hi\":^10}')"
      ],
      "metadata": {
        "colab": {
          "base_uri": "https://localhost:8080/"
        },
        "id": "Z-PvSRWlR8-t",
        "outputId": "a58382f3-bcbd-44e7-f890-935f8f5e1ef5"
      },
      "execution_count": null,
      "outputs": [
        {
          "output_type": "stream",
          "name": "stdout",
          "text": [
            "hi        \n",
            "        hi\n",
            "    hi    \n"
          ]
        }
      ]
    },
    {
      "cell_type": "code",
      "source": [
        "# 공백 채우기\n",
        "\n",
        "print(f'{\"hi\":=^10}')\n",
        "print(f'{\"hi\":!<10}')"
      ],
      "metadata": {
        "colab": {
          "base_uri": "https://localhost:8080/"
        },
        "id": "EXuud1SbR_xX",
        "outputId": "336dd5cc-a31f-4f30-9822-326498ae5020"
      },
      "execution_count": null,
      "outputs": [
        {
          "output_type": "stream",
          "name": "stdout",
          "text": [
            "====hi====\n",
            "hi!!!!!!!!\n"
          ]
        }
      ]
    },
    {
      "cell_type": "code",
      "source": [
        "# 소수점 표현\n",
        "\n",
        "y = 3.42134234\n",
        "print(f'{y:0.4f}')\n",
        "print(f'{y:10.4f}')"
      ],
      "metadata": {
        "colab": {
          "base_uri": "https://localhost:8080/"
        },
        "id": "iLtskyB7SCFd",
        "outputId": "3fe3d7b1-6e10-4f71-d8ba-760242ba98ba"
      },
      "execution_count": null,
      "outputs": [
        {
          "output_type": "stream",
          "name": "stdout",
          "text": [
            "3.4213\n",
            "    3.4213\n"
          ]
        }
      ]
    },
    {
      "cell_type": "code",
      "source": [
        "# { } 문자 그대로 표시\n",
        "\n",
        "print(f'{{ and }}')"
      ],
      "metadata": {
        "colab": {
          "base_uri": "https://localhost:8080/"
        },
        "id": "Hu_geovESEpY",
        "outputId": "668d5745-5b4c-447d-dba1-cf87287e8d63"
      },
      "execution_count": null,
      "outputs": [
        {
          "output_type": "stream",
          "name": "stdout",
          "text": [
            "{ and }\n"
          ]
        }
      ]
    },
    {
      "cell_type": "code",
      "source": [
        "# f 문자열을 사용하여 금액에 콤마(,) 삽입하기\n",
        "\n",
        "f\"난 {1500000:,}원이 필요해\""
      ],
      "metadata": {
        "colab": {
          "base_uri": "https://localhost:8080/"
        },
        "id": "xdwM8tEGSUNs",
        "outputId": "47013433-7d6f-4f15-a3c1-97dbb1f62d03"
      },
      "execution_count": null,
      "outputs": [
        {
          "output_type": "execute_result",
          "data": {
            "text/plain": [
              "'난 1,500,000원이 필요해'"
            ],
            "application/vnd.google.colaboratory.intrinsic+json": {
              "type": "string"
            }
          },
          "metadata": {},
          "execution_count": 87
        }
      ]
    },
    {
      "cell_type": "markdown",
      "source": [
        "###13. 문자열 관련 함수들"
      ],
      "metadata": {
        "id": "hw-SS4-cAJGU"
      }
    },
    {
      "cell_type": "code",
      "source": [
        "# 문자 개수 세기 - count\n",
        "\n",
        "a = \"hobby\"\n",
        "a.count('b')"
      ],
      "metadata": {
        "colab": {
          "base_uri": "https://localhost:8080/"
        },
        "id": "kRrOWcaOScz2",
        "outputId": "16be5c8d-9b97-4ce3-cd7f-8a2c5776a172"
      },
      "execution_count": null,
      "outputs": [
        {
          "output_type": "execute_result",
          "data": {
            "text/plain": [
              "2"
            ]
          },
          "metadata": {},
          "execution_count": 88
        }
      ]
    },
    {
      "cell_type": "code",
      "source": [
        "# 위치 알려주기 1 - find\n",
        "\n",
        "a = \"Python is the best choice\"\n",
        "print(a.find('b'))\n",
        "print(a.find('k')) # 찾는 문자가 존재하지 않는다면 -1 반환"
      ],
      "metadata": {
        "colab": {
          "base_uri": "https://localhost:8080/"
        },
        "id": "xEG4bFGUSlZx",
        "outputId": "869388d4-9e9f-4e96-a7ac-0415034fe75f"
      },
      "execution_count": null,
      "outputs": [
        {
          "output_type": "stream",
          "name": "stdout",
          "text": [
            "14\n",
            "-1\n"
          ]
        }
      ]
    },
    {
      "cell_type": "code",
      "source": [
        "# 위치 알려주기 2 - index\n",
        "\n",
        "a = \"Life is too short\"\n",
        "print(a.index('t'))\n",
        "print(a.index('k')) # 찾는 문자가 존재하지 않는다면 오류 발생"
      ],
      "metadata": {
        "colab": {
          "base_uri": "https://localhost:8080/",
          "height": 200
        },
        "id": "6NJmjs3xSpWV",
        "outputId": "d33f59a2-45d3-44d4-a53e-e71c0a00a831"
      },
      "execution_count": null,
      "outputs": [
        {
          "output_type": "stream",
          "name": "stdout",
          "text": [
            "8\n"
          ]
        },
        {
          "output_type": "error",
          "ename": "ValueError",
          "evalue": "substring not found",
          "traceback": [
            "\u001b[0;31m---------------------------------------------------------------------------\u001b[0m",
            "\u001b[0;31mValueError\u001b[0m                                Traceback (most recent call last)",
            "\u001b[0;32m<ipython-input-97-0e0353b2b5bd>\u001b[0m in \u001b[0;36m<cell line: 0>\u001b[0;34m()\u001b[0m\n\u001b[1;32m      3\u001b[0m \u001b[0ma\u001b[0m \u001b[0;34m=\u001b[0m \u001b[0;34m\"Life is too short\"\u001b[0m\u001b[0;34m\u001b[0m\u001b[0;34m\u001b[0m\u001b[0m\n\u001b[1;32m      4\u001b[0m \u001b[0mprint\u001b[0m\u001b[0;34m(\u001b[0m\u001b[0ma\u001b[0m\u001b[0;34m.\u001b[0m\u001b[0mindex\u001b[0m\u001b[0;34m(\u001b[0m\u001b[0;34m't'\u001b[0m\u001b[0;34m)\u001b[0m\u001b[0;34m)\u001b[0m\u001b[0;34m\u001b[0m\u001b[0;34m\u001b[0m\u001b[0m\n\u001b[0;32m----> 5\u001b[0;31m \u001b[0mprint\u001b[0m\u001b[0;34m(\u001b[0m\u001b[0ma\u001b[0m\u001b[0;34m.\u001b[0m\u001b[0mindex\u001b[0m\u001b[0;34m(\u001b[0m\u001b[0;34m'k'\u001b[0m\u001b[0;34m)\u001b[0m\u001b[0;34m)\u001b[0m \u001b[0;31m# 찾는 문자가 존재하지 않는다면 오류 발생\u001b[0m\u001b[0;34m\u001b[0m\u001b[0;34m\u001b[0m\u001b[0m\n\u001b[0m",
            "\u001b[0;31mValueError\u001b[0m: substring not found"
          ]
        }
      ]
    },
    {
      "cell_type": "code",
      "source": [
        "# 문자열 삽입 - join\n",
        "\n",
        "print(\",\".join('abcd'))\n",
        "print(\",\".join(['민현', '민솔', '정윤', '지민']))"
      ],
      "metadata": {
        "colab": {
          "base_uri": "https://localhost:8080/"
        },
        "id": "giSA_JIxS3pn",
        "outputId": "78270edd-83ea-4ec0-8ce1-cf1a7ed3387b"
      },
      "execution_count": null,
      "outputs": [
        {
          "output_type": "stream",
          "name": "stdout",
          "text": [
            "a,b,c,d\n",
            "민현,민솔,정윤,지민\n"
          ]
        }
      ]
    },
    {
      "cell_type": "code",
      "source": [
        "# 소문자를 대문자로 바꾸기 - upper\n",
        "\n",
        "a = \"hi\"\n",
        "print(a.upper())\n",
        "\n",
        "print(a) # 값 자체가 바뀐건 아님\n",
        "a = a.upper()\n",
        "print(a)"
      ],
      "metadata": {
        "colab": {
          "base_uri": "https://localhost:8080/"
        },
        "id": "BDNaw8qzTHLn",
        "outputId": "da8246c7-d774-4a68-8040-8151dd9439c5"
      },
      "execution_count": null,
      "outputs": [
        {
          "output_type": "stream",
          "name": "stdout",
          "text": [
            "HI\n",
            "hi\n",
            "HI\n"
          ]
        }
      ]
    },
    {
      "cell_type": "code",
      "source": [
        "# 대문자를 소문자로 바꾸기 - lower\n",
        "\n",
        "a = \"HI\"\n",
        "a.lower()"
      ],
      "metadata": {
        "colab": {
          "base_uri": "https://localhost:8080/",
          "height": 36
        },
        "id": "ozyHX4EzTNrj",
        "outputId": "85256ac2-9f70-4cd5-8a84-1295585bd7dd"
      },
      "execution_count": null,
      "outputs": [
        {
          "output_type": "execute_result",
          "data": {
            "text/plain": [
              "'hi'"
            ],
            "application/vnd.google.colaboratory.intrinsic+json": {
              "type": "string"
            }
          },
          "metadata": {},
          "execution_count": 99
        }
      ]
    },
    {
      "cell_type": "code",
      "source": [
        "# 공백 지우기\n",
        "\n",
        "a = \" hi \"\n",
        "print(a.lstrip()) # 왼쪽 공백 지우기\n",
        "print(a.rstrip()) # 오른쪽 공백 지우기\n",
        "print(a.strip()) # 양쪽 공백 지우기"
      ],
      "metadata": {
        "colab": {
          "base_uri": "https://localhost:8080/"
        },
        "id": "UCprxdKKTTG0",
        "outputId": "d6a576f2-671f-41dd-9d8b-dc81ee328f0f"
      },
      "execution_count": null,
      "outputs": [
        {
          "output_type": "stream",
          "name": "stdout",
          "text": [
            "hi \n",
            " hi\n",
            "hi\n"
          ]
        }
      ]
    },
    {
      "cell_type": "code",
      "source": [
        "# 문자열 바꾸기 - replace\n",
        "\n",
        "a = \"Life is too short\"\n",
        "a.replace(\"Life\", \"Your leg\")"
      ],
      "metadata": {
        "colab": {
          "base_uri": "https://localhost:8080/",
          "height": 35
        },
        "id": "PY2S7w6mTjvQ",
        "outputId": "5126fec1-13bb-417f-803f-e2692003cbf7"
      },
      "execution_count": null,
      "outputs": [
        {
          "output_type": "execute_result",
          "data": {
            "text/plain": [
              "'Your leg is too short'"
            ],
            "application/vnd.google.colaboratory.intrinsic+json": {
              "type": "string"
            }
          },
          "metadata": {},
          "execution_count": 58
        }
      ]
    },
    {
      "cell_type": "code",
      "source": [
        "# 문자열 나누기 - split\n",
        "\n",
        "a = \"Life is too short\"\n",
        "print(a.split()) # 공백을 기준으로 문자열 나눔\n",
        "\n",
        "b = \"a:b:c:d\"\n",
        "print(b.split(':')) # ':'을 기준으로 문자열 나눔"
      ],
      "metadata": {
        "colab": {
          "base_uri": "https://localhost:8080/"
        },
        "id": "BBPTAtEjTr0Q",
        "outputId": "827ea290-60b8-4800-8efe-aa91542bed8b"
      },
      "execution_count": null,
      "outputs": [
        {
          "output_type": "stream",
          "name": "stdout",
          "text": [
            "['Life', 'is', 'too', 'short']\n",
            "['a', 'b', 'c', 'd']\n"
          ]
        }
      ]
    },
    {
      "cell_type": "markdown",
      "source": [
        "##02-3 리스트 자료형"
      ],
      "metadata": {
        "id": "gUYMWH-y-gF_"
      }
    },
    {
      "cell_type": "markdown",
      "source": [
        "###1. 리스트는 어떻게 만들고 사용할까?\n",
        "\n",
        ">리스트명 = [요소1, 요소2, 요소3, ...]\n",
        "\n",
        "대괄호[ ]로 감싸 주고 각 요솟값은 쉼표, 로 구분"
      ],
      "metadata": {
        "id": "Ygr_KF6YULKi"
      }
    },
    {
      "cell_type": "code",
      "source": [
        "odd = [1, 3, 5, 7, 9]\n",
        "a = [] # 비어 있는 리스트는 a = list()로 생성할 수 있음.\n",
        "b = [1, 2, 3]\n",
        "c = ['Life', 'is', 'too', 'short']\n",
        "d = [1, 2, 'Life', 'is']\n",
        "e = [1, 2, ['Life', 'is']]\n",
        "\n",
        "# 리스트 안에는 어떠한 자료형도 포함할 수 있다"
      ],
      "metadata": {
        "id": "a5CL4TXtUns5"
      },
      "execution_count": null,
      "outputs": []
    },
    {
      "cell_type": "markdown",
      "source": [
        "###2. 리스트의 인덱싱과 슬라이싱"
      ],
      "metadata": {
        "id": "izwUY4u8UPPB"
      }
    },
    {
      "cell_type": "markdown",
      "source": [
        "####리스트의 인덱싱"
      ],
      "metadata": {
        "id": "i7erngqTYlNy"
      }
    },
    {
      "cell_type": "code",
      "source": [
        "a = [1, 2, 3]\n",
        "print(a)\n",
        "\n",
        "print(a[0])\n",
        "print(a[0] + a[2])\n",
        "print(a[-1])"
      ],
      "metadata": {
        "colab": {
          "base_uri": "https://localhost:8080/"
        },
        "id": "EpTW4Nb7VWIR",
        "outputId": "544a59cb-539c-4deb-ee20-bafdd48d01d6"
      },
      "execution_count": null,
      "outputs": [
        {
          "output_type": "stream",
          "name": "stdout",
          "text": [
            "[1, 2, 3]\n",
            "1\n",
            "4\n",
            "3\n"
          ]
        }
      ]
    },
    {
      "cell_type": "code",
      "source": [
        "a = [1, 2, 3, ['a', 'b', 'c']]\n",
        "\n",
        "print(a[0])\n",
        "print(a[-1])\n",
        "print(a[3])\n",
        "\n",
        "print(a[-1][0], a[-1][1], a[-1][2])"
      ],
      "metadata": {
        "colab": {
          "base_uri": "https://localhost:8080/"
        },
        "id": "xiQ6ivdEYGjr",
        "outputId": "b7b37e0b-00e3-49c3-8c04-d0db253f1205"
      },
      "execution_count": null,
      "outputs": [
        {
          "output_type": "stream",
          "name": "stdout",
          "text": [
            "1\n",
            "['a', 'b', 'c']\n",
            "['a', 'b', 'c']\n",
            "a b c\n"
          ]
        }
      ]
    },
    {
      "cell_type": "code",
      "source": [
        "# 삼중 리스트에서 인덱싱하기\n",
        "\n",
        "a = [1, 2, ['a', 'b', ['Life', 'is']]]\n",
        "\n",
        "print(a[2][2][0])"
      ],
      "metadata": {
        "colab": {
          "base_uri": "https://localhost:8080/"
        },
        "id": "0yXHRIEJYd18",
        "outputId": "d34237c7-2897-4e12-e84e-ee8c58f6fa3f"
      },
      "execution_count": null,
      "outputs": [
        {
          "output_type": "stream",
          "name": "stdout",
          "text": [
            "Life\n"
          ]
        }
      ]
    },
    {
      "cell_type": "markdown",
      "source": [
        "####리스트의 슬라이싱"
      ],
      "metadata": {
        "id": "nSvEcDLuYpXk"
      }
    },
    {
      "cell_type": "code",
      "source": [
        "a = [1, 2, 3, 4, 5]\n",
        "print(a[0:2])\n",
        "\n",
        "a = \"12345\"\n",
        "print(a[0:2])"
      ],
      "metadata": {
        "colab": {
          "base_uri": "https://localhost:8080/"
        },
        "id": "lVmsWPSZYsCN",
        "outputId": "2ad7022b-2172-4922-e116-2123592e3f47"
      },
      "execution_count": null,
      "outputs": [
        {
          "output_type": "stream",
          "name": "stdout",
          "text": [
            "[1, 2]\n",
            "12\n"
          ]
        }
      ]
    },
    {
      "cell_type": "code",
      "source": [
        "a = [1, 2, 3, 4, 5]\n",
        "b = a[:2]\n",
        "c = a[2:]\n",
        "\n",
        "print(b)\n",
        "print(c)"
      ],
      "metadata": {
        "colab": {
          "base_uri": "https://localhost:8080/"
        },
        "id": "I33evL50YwNS",
        "outputId": "4aecb9dd-504b-45dd-a62a-dca85504063f"
      },
      "execution_count": null,
      "outputs": [
        {
          "output_type": "stream",
          "name": "stdout",
          "text": [
            "[1, 2]\n",
            "[3, 4, 5]\n"
          ]
        }
      ]
    },
    {
      "cell_type": "code",
      "source": [
        "# 중첩된 리스트에서 슬라이싱하기\n",
        "\n",
        "a = [1, 2, 3, ['a', 'b', 'c'], 4, 5]\n",
        "print(a[2:5])\n",
        "print(a[3][:2])"
      ],
      "metadata": {
        "colab": {
          "base_uri": "https://localhost:8080/"
        },
        "id": "GaI88gdZY4WA",
        "outputId": "267578eb-3e41-444e-82cb-6c232a86ea30"
      },
      "execution_count": null,
      "outputs": [
        {
          "output_type": "stream",
          "name": "stdout",
          "text": [
            "[3, ['a', 'b', 'c'], 4]\n",
            "['a', 'b']\n"
          ]
        }
      ]
    },
    {
      "cell_type": "markdown",
      "source": [
        "###3. 리스트 연산하기"
      ],
      "metadata": {
        "id": "9AH4_7T7UU47"
      }
    },
    {
      "cell_type": "code",
      "source": [
        "# 리스트 더하기(+)\n",
        "\n",
        "a = [1, 2, 3]\n",
        "b = [4, 5, 6]\n",
        "\n",
        "a + b"
      ],
      "metadata": {
        "colab": {
          "base_uri": "https://localhost:8080/"
        },
        "id": "nayPekGdVSNy",
        "outputId": "8da2cda8-29c8-42cc-99c2-6f702b993c8c"
      },
      "execution_count": null,
      "outputs": [
        {
          "output_type": "execute_result",
          "data": {
            "text/plain": [
              "[1, 2, 3, 4, 5, 6]"
            ]
          },
          "metadata": {},
          "execution_count": 119
        }
      ]
    },
    {
      "cell_type": "code",
      "source": [
        "# 리스트 반복하기 (*)\n",
        "\n",
        "a = [1, 2, 3]\n",
        "\n",
        "a * 3"
      ],
      "metadata": {
        "colab": {
          "base_uri": "https://localhost:8080/"
        },
        "id": "JS4VVHSzZIgX",
        "outputId": "4bd4e325-12d5-4468-d870-7ae7a898c4ee"
      },
      "execution_count": null,
      "outputs": [
        {
          "output_type": "execute_result",
          "data": {
            "text/plain": [
              "[1, 2, 3, 1, 2, 3, 1, 2, 3]"
            ]
          },
          "metadata": {},
          "execution_count": 120
        }
      ]
    },
    {
      "cell_type": "code",
      "source": [
        "# 리스트 길이 구하기\n",
        "\n",
        "a = [1, 2, 3]\n",
        "\n",
        "len(a) # 문자열, 리스트 외에 튜플 딕셔너리에도 사용할 수 있는 함수"
      ],
      "metadata": {
        "colab": {
          "base_uri": "https://localhost:8080/"
        },
        "id": "Mx9uRO-MZNqC",
        "outputId": "593b87c7-3488-4ce4-836a-a89267076d93"
      },
      "execution_count": null,
      "outputs": [
        {
          "output_type": "execute_result",
          "data": {
            "text/plain": [
              "3"
            ]
          },
          "metadata": {},
          "execution_count": 121
        }
      ]
    },
    {
      "cell_type": "markdown",
      "source": [
        "####초보자가 범하기 쉬운 리스트 연산 오류"
      ],
      "metadata": {
        "id": "iXCbSe84ZbFq"
      }
    },
    {
      "cell_type": "code",
      "source": [
        "a = [1, 2, 3, \"hi\"]\n",
        "str(a[2]) + a[3]"
      ],
      "metadata": {
        "id": "z1Bd1m9rZgCL",
        "colab": {
          "base_uri": "https://localhost:8080/",
          "height": 35
        },
        "outputId": "3dfcdb6d-5283-4f4b-825c-00db71bfc08c"
      },
      "execution_count": null,
      "outputs": [
        {
          "output_type": "execute_result",
          "data": {
            "text/plain": [
              "'3hi'"
            ],
            "application/vnd.google.colaboratory.intrinsic+json": {
              "type": "string"
            }
          },
          "metadata": {},
          "execution_count": 66
        }
      ]
    },
    {
      "cell_type": "code",
      "source": [
        "str(a[2]) + \"hi\""
      ],
      "metadata": {
        "id": "LdNXDFoYzyV-",
        "colab": {
          "base_uri": "https://localhost:8080/",
          "height": 35
        },
        "outputId": "e7ecb91b-e430-4711-e010-00b3d0b9bbb5"
      },
      "execution_count": null,
      "outputs": [
        {
          "output_type": "execute_result",
          "data": {
            "text/plain": [
              "'3hi'"
            ],
            "application/vnd.google.colaboratory.intrinsic+json": {
              "type": "string"
            }
          },
          "metadata": {},
          "execution_count": 64
        }
      ]
    },
    {
      "cell_type": "markdown",
      "source": [
        "###4. 리스트의 수정과 삭제"
      ],
      "metadata": {
        "id": "6ATaAAuXUXd8"
      }
    },
    {
      "cell_type": "code",
      "source": [
        "# 리스트 값 수정하기\n",
        "\n",
        "a = [1, 2, 3]\n",
        "a[2] = 4\n",
        "a"
      ],
      "metadata": {
        "colab": {
          "base_uri": "https://localhost:8080/"
        },
        "id": "uVrG0tK0z95G",
        "outputId": "5dfefe1e-42df-468c-d0c3-80b47e8dc99f"
      },
      "execution_count": null,
      "outputs": [
        {
          "output_type": "execute_result",
          "data": {
            "text/plain": [
              "[1, 2, 4]"
            ]
          },
          "metadata": {},
          "execution_count": 123
        }
      ]
    },
    {
      "cell_type": "code",
      "source": [
        "# del 함수를 사용해 리스트 요소 삭제하기\n",
        "\n",
        "a = [1, 2, 3]\n",
        "del a[1]\n",
        "a"
      ],
      "metadata": {
        "colab": {
          "base_uri": "https://localhost:8080/"
        },
        "id": "e6HJRvBU0DKG",
        "outputId": "07fbef78-cb8a-4282-d53f-43cef31d5df7"
      },
      "execution_count": null,
      "outputs": [
        {
          "output_type": "execute_result",
          "data": {
            "text/plain": [
              "[1, 3]"
            ]
          },
          "metadata": {},
          "execution_count": 68
        }
      ]
    },
    {
      "cell_type": "markdown",
      "source": [
        ">del 객체\n",
        "\n",
        "- del 함수는 파이썬 자체적으로 가지고 있는 삭제함수\n",
        "- 객체는 파이썬에서 사용되는 모든 자료형"
      ],
      "metadata": {
        "id": "HjKCGZk10H3U"
      }
    },
    {
      "cell_type": "code",
      "source": [
        "a = [1, 2, 3, 4, 5]\n",
        "\n",
        "del a[2:]\n",
        "a"
      ],
      "metadata": {
        "colab": {
          "base_uri": "https://localhost:8080/"
        },
        "id": "OwgGF6lA0QS4",
        "outputId": "6f194ddc-e485-4864-e928-979bf04ffe6e"
      },
      "execution_count": null,
      "outputs": [
        {
          "output_type": "execute_result",
          "data": {
            "text/plain": [
              "[1, 2]"
            ]
          },
          "metadata": {},
          "execution_count": 69
        }
      ]
    },
    {
      "cell_type": "markdown",
      "source": [
        "###5. 리스트 관련 함수"
      ],
      "metadata": {
        "id": "pozap5zeUZos"
      }
    },
    {
      "cell_type": "code",
      "source": [
        "# 리스트에 요소 추가하기 - append\n",
        "\n",
        "a = [1, 2, 3]\n",
        "\n",
        "a.append(4)\n",
        "print(a)\n",
        "\n",
        "a.append([5,6])\n",
        "print(a)"
      ],
      "metadata": {
        "colab": {
          "base_uri": "https://localhost:8080/"
        },
        "id": "da2sLQWs0aYf",
        "outputId": "9bd0ec1a-f0aa-4329-f175-60f37877d236"
      },
      "execution_count": null,
      "outputs": [
        {
          "output_type": "stream",
          "name": "stdout",
          "text": [
            "[1, 2, 3, 4]\n",
            "[1, 2, 3, 4, [5, 6]]\n"
          ]
        }
      ]
    },
    {
      "cell_type": "code",
      "source": [
        "a.append(5)\n",
        "a # a = [1, 2, 3, [5, 6], 5, 6] ?"
      ],
      "metadata": {
        "id": "XVm8DZBf0ncr",
        "colab": {
          "base_uri": "https://localhost:8080/"
        },
        "outputId": "7be8bcac-338f-46e3-db9d-f47534b476a7"
      },
      "execution_count": null,
      "outputs": [
        {
          "output_type": "execute_result",
          "data": {
            "text/plain": [
              "[1, 2, 3, 4, [5, 6], 5]"
            ]
          },
          "metadata": {},
          "execution_count": 72
        }
      ]
    },
    {
      "cell_type": "code",
      "source": [
        "# 리스트 정렬 - sort\n",
        "\n",
        "a = [1, 4, 3, 2]\n",
        "a.sort()\n",
        "print(a)\n",
        "\n",
        "a = ['a', 'c', 'b']\n",
        "a.sort()\n",
        "print(a)"
      ],
      "metadata": {
        "colab": {
          "base_uri": "https://localhost:8080/"
        },
        "id": "r0aWivru06Ds",
        "outputId": "f44315ef-5d73-48e3-de29-3b0f6b866d9c"
      },
      "execution_count": null,
      "outputs": [
        {
          "output_type": "stream",
          "name": "stdout",
          "text": [
            "[1, 2, 3, 4]\n",
            "['a', 'b', 'c']\n"
          ]
        }
      ]
    },
    {
      "cell_type": "code",
      "source": [
        "# 리스트 뒤집기 - reverse\n",
        "\n",
        "a = ['a', 'c', 'b']\n",
        "a.reverse()\n",
        "print(a)"
      ],
      "metadata": {
        "colab": {
          "base_uri": "https://localhost:8080/"
        },
        "id": "iRHyuj_83iS_",
        "outputId": "2ed65235-bdb8-461c-fc81-30a2580feb36"
      },
      "execution_count": null,
      "outputs": [
        {
          "output_type": "stream",
          "name": "stdout",
          "text": [
            "['b', 'c', 'a']\n"
          ]
        }
      ]
    },
    {
      "cell_type": "code",
      "source": [
        "# 인덱스 반환 - index\n",
        "\n",
        "a = [1, 2, 3]\n",
        "print(a.index(3))\n",
        "print(a.index(1))"
      ],
      "metadata": {
        "colab": {
          "base_uri": "https://localhost:8080/"
        },
        "id": "zpOzoHtJ3mA4",
        "outputId": "9e6530da-5f0a-45ad-a2b6-7c12f42cf119"
      },
      "execution_count": null,
      "outputs": [
        {
          "output_type": "stream",
          "name": "stdout",
          "text": [
            "2\n",
            "0\n"
          ]
        }
      ]
    },
    {
      "cell_type": "code",
      "source": [
        "# 리스트에 요소 삽입 - insert\n",
        "\n",
        "a = [1, 2, 3]\n",
        "a.insert(0, 4) # a.insert(위치, 값)\n",
        "print(a)\n",
        "\n",
        "a.insert(3, 5)\n",
        "print(a)"
      ],
      "metadata": {
        "colab": {
          "base_uri": "https://localhost:8080/"
        },
        "id": "zbolJENj3pgu",
        "outputId": "1fbcae46-8ce8-426f-b887-77ad7a84c100"
      },
      "execution_count": null,
      "outputs": [
        {
          "output_type": "stream",
          "name": "stdout",
          "text": [
            "[4, 1, 2, 3]\n",
            "[4, 1, 2, 5, 3]\n"
          ]
        }
      ]
    },
    {
      "cell_type": "code",
      "source": [
        "# 리스트 요소 제거 - remove\n",
        "\n",
        "a = [1, 2, 3, 1, 2, 3]\n",
        "a.remove(3) # remove(x)는 리스트에서 첫 번째로 나오는 x를 삭제\n",
        "print(a)\n",
        "\n",
        "a.remove(3)\n",
        "print(a)"
      ],
      "metadata": {
        "colab": {
          "base_uri": "https://localhost:8080/"
        },
        "id": "0R6pqI_B3wKT",
        "outputId": "343b4627-0427-4c8d-e9ad-a8bdcf8d9d2b"
      },
      "execution_count": null,
      "outputs": [
        {
          "output_type": "stream",
          "name": "stdout",
          "text": [
            "[1, 2, 1, 2, 3]\n",
            "[1, 2, 1, 2]\n"
          ]
        }
      ]
    },
    {
      "cell_type": "code",
      "source": [
        "# 리스트 요소 끄집어 내기 - pop\n",
        "\n",
        "a = [1, 2, 3]\n",
        "print(a.pop())\n",
        "print(a)\n",
        "\n",
        "a = [1, 2, 3]\n",
        "print(a.pop(1))\n",
        "print(a)"
      ],
      "metadata": {
        "colab": {
          "base_uri": "https://localhost:8080/"
        },
        "id": "z6AC2ivu33rF",
        "outputId": "4e454e8a-3773-4b9a-f049-43a5d614fcbf"
      },
      "execution_count": null,
      "outputs": [
        {
          "output_type": "stream",
          "name": "stdout",
          "text": [
            "3\n",
            "[1, 2]\n",
            "2\n",
            "[1, 3]\n"
          ]
        }
      ]
    },
    {
      "cell_type": "code",
      "source": [
        "# 리스트에 포함된 요소 x의 개수 세기 - count\n",
        "\n",
        "a = [1, 2, 3, 1]\n",
        "a.count(1)"
      ],
      "metadata": {
        "colab": {
          "base_uri": "https://localhost:8080/"
        },
        "id": "LTERokQy4IBE",
        "outputId": "df17c3bb-1d57-444c-824f-a41d07ed2626"
      },
      "execution_count": null,
      "outputs": [
        {
          "output_type": "execute_result",
          "data": {
            "text/plain": [
              "2"
            ]
          },
          "metadata": {},
          "execution_count": 138
        }
      ]
    },
    {
      "cell_type": "code",
      "source": [
        "# 리스트 확장 - extend\n",
        "\n",
        "a = [1, 2, 3]\n",
        "a.extend([4, 5])\n",
        "print(a)\n",
        "\n",
        "b = [6, 7]\n",
        "a.extend(b)\n",
        "print(a)"
      ],
      "metadata": {
        "colab": {
          "base_uri": "https://localhost:8080/"
        },
        "id": "d-YmCGPy4Ni7",
        "outputId": "4954f3ec-f72f-46b8-8fb5-bff908a87f9c"
      },
      "execution_count": null,
      "outputs": [
        {
          "output_type": "stream",
          "name": "stdout",
          "text": [
            "[1, 2, 3, 4, 5]\n",
            "[1, 2, 3, 4, 5, 2, 6, 7]\n"
          ]
        }
      ]
    },
    {
      "cell_type": "markdown",
      "source": [
        "##02-8 자료형의 값을 저장하는 공간, 변수"
      ],
      "metadata": {
        "id": "-4Xeg1vEAUlo"
      }
    },
    {
      "cell_type": "markdown",
      "source": [
        "###1. 변수는 어떻게 만들까?"
      ],
      "metadata": {
        "id": "2b7mmuvMAZIS"
      }
    },
    {
      "cell_type": "code",
      "source": [
        "a = 1\n",
        "b = 'python'\n",
        "c = [1, 2, 3]\n",
        "\n",
        "#변수_이름 = 변수에_저장할_값"
      ],
      "metadata": {
        "id": "5rx5LNfgAjgD"
      },
      "execution_count": null,
      "outputs": []
    },
    {
      "cell_type": "markdown",
      "source": [
        "###2. 변수란?\n",
        "\n",
        "> __이름표__가 붙은 상자\n",
        "\n",
        "  - 변수를 선언하면, 상자(메모리 공간)가 생김\n",
        "\n",
        "  - 그 상자에 값(데이터)을 넣어두고, 이름표 (변수명)붙이기"
      ],
      "metadata": {
        "id": "A8sKeFp8Aa3E"
      }
    },
    {
      "cell_type": "code",
      "source": [
        "# 변수가 가르키는 메모리 주소 확인\n",
        "\n",
        "a = [1, 2, 3]\n",
        "id(a)"
      ],
      "metadata": {
        "colab": {
          "base_uri": "https://localhost:8080/"
        },
        "id": "TR8QpcUsCP-a",
        "outputId": "c08faa7e-f5b6-49b2-8a79-075750c3dd9b"
      },
      "execution_count": null,
      "outputs": [
        {
          "output_type": "execute_result",
          "data": {
            "text/plain": [
              "135505927845440"
            ]
          },
          "metadata": {},
          "execution_count": 14
        }
      ]
    },
    {
      "cell_type": "markdown",
      "source": [
        "###3. 리스트를 복사하고자 할 때"
      ],
      "metadata": {
        "id": "xnZFpdS5Absa"
      }
    },
    {
      "cell_type": "code",
      "source": [
        "a = [1, 2, 3]\n",
        "b = a\n",
        "\n",
        "print(id(a))\n",
        "print(id(b))\n",
        "\n",
        "a is b"
      ],
      "metadata": {
        "colab": {
          "base_uri": "https://localhost:8080/"
        },
        "id": "VRXMEkIuCbh7",
        "outputId": "b24b3c65-5544-4e97-b908-f0841be96d1a"
      },
      "execution_count": null,
      "outputs": [
        {
          "output_type": "stream",
          "name": "stdout",
          "text": [
            "135626721617472\n",
            "135626721617472\n"
          ]
        },
        {
          "output_type": "execute_result",
          "data": {
            "text/plain": [
              "True"
            ]
          },
          "metadata": {},
          "execution_count": 82
        }
      ]
    },
    {
      "cell_type": "code",
      "source": [
        "a[1] = 4\n",
        "\n",
        "print(a)"
      ],
      "metadata": {
        "colab": {
          "base_uri": "https://localhost:8080/"
        },
        "id": "caorlX_NCj0R",
        "outputId": "006c3104-f178-4ff2-f054-9f7c3feda6ce"
      },
      "execution_count": null,
      "outputs": [
        {
          "output_type": "stream",
          "name": "stdout",
          "text": [
            "[1, 4, 3]\n"
          ]
        }
      ]
    },
    {
      "cell_type": "code",
      "source": [
        "print(b)"
      ],
      "metadata": {
        "id": "DIL4OcR0Cn1_",
        "colab": {
          "base_uri": "https://localhost:8080/"
        },
        "outputId": "00b1c81d-4945-43f2-f209-571b416700ca"
      },
      "execution_count": null,
      "outputs": [
        {
          "output_type": "stream",
          "name": "stdout",
          "text": [
            "[1, 4, 3]\n"
          ]
        }
      ]
    },
    {
      "cell_type": "markdown",
      "source": [
        "####[ : ] 이용하기"
      ],
      "metadata": {
        "id": "HKZORB9ZCu84"
      }
    },
    {
      "cell_type": "code",
      "source": [
        "a = [1, 2, 3]\n",
        "b = a[:]\n",
        "\n",
        "a[1] = 4\n",
        "\n",
        "print(a)"
      ],
      "metadata": {
        "colab": {
          "base_uri": "https://localhost:8080/"
        },
        "id": "s6S5TpjdC08g",
        "outputId": "b52a0833-b441-4b32-9acc-de64a304fca4"
      },
      "execution_count": null,
      "outputs": [
        {
          "output_type": "stream",
          "name": "stdout",
          "text": [
            "[1, 4, 3]\n"
          ]
        }
      ]
    },
    {
      "cell_type": "code",
      "source": [
        "print(b)\n",
        "\n",
        "print(id(a), id(b))"
      ],
      "metadata": {
        "id": "4_nRTDbdC7p1",
        "colab": {
          "base_uri": "https://localhost:8080/"
        },
        "outputId": "9efd194f-4fcd-4823-86cb-eb7b08cf7de2"
      },
      "execution_count": null,
      "outputs": [
        {
          "output_type": "stream",
          "name": "stdout",
          "text": [
            "[1, 2, 3]\n",
            "135626697838720 135626697915776\n"
          ]
        }
      ]
    },
    {
      "cell_type": "markdown",
      "source": [
        "#### copy 모듈 이용하기"
      ],
      "metadata": {
        "id": "6CBnhtIHDACQ"
      }
    },
    {
      "cell_type": "code",
      "source": [
        "from copy import copy\n",
        "\n",
        "a = [1, 2, 3]\n",
        "b = copy(a)\n",
        "\n",
        "print(id(a), id(b))\n",
        "\n",
        "b is a"
      ],
      "metadata": {
        "colab": {
          "base_uri": "https://localhost:8080/"
        },
        "id": "IrdL6AacDCtT",
        "outputId": "19caf14b-029f-47b5-a13d-2f88380cc7dc"
      },
      "execution_count": null,
      "outputs": [
        {
          "output_type": "stream",
          "name": "stdout",
          "text": [
            "135505914040768 135505914041024\n"
          ]
        },
        {
          "output_type": "execute_result",
          "data": {
            "text/plain": [
              "False"
            ]
          },
          "metadata": {},
          "execution_count": 21
        }
      ]
    },
    {
      "cell_type": "code",
      "source": [
        "a = [1, 2, 3]\n",
        "b = a.copy() # 리스트 자료형의 자체 함수\n",
        "\n",
        "b is a"
      ],
      "metadata": {
        "colab": {
          "base_uri": "https://localhost:8080/"
        },
        "id": "Ix_7oPGUDNBZ",
        "outputId": "6032519f-7456-4de9-ff2c-297edf384739"
      },
      "execution_count": null,
      "outputs": [
        {
          "output_type": "execute_result",
          "data": {
            "text/plain": [
              "False"
            ]
          },
          "metadata": {},
          "execution_count": 87
        }
      ]
    },
    {
      "cell_type": "markdown",
      "source": [
        "###4. 변수를 만드는 여러가지 방법"
      ],
      "metadata": {
        "id": "FhuS0myTAgmZ"
      }
    },
    {
      "cell_type": "code",
      "source": [
        "# 튜플로 a, b에 값 대입\n",
        "a, b = ('python', 'life')\n",
        "print(a, b)\n",
        "\n",
        "(a, b) = 'python', 'life'\n",
        "print(a, b)\n",
        "\n",
        "# 리스트로 변수 만들기\n",
        "[a, b] = ['python', 'life']\n",
        "print(a, b)\n",
        "\n",
        "# 여러 개의 변수에 같은 값 대입 가능\n",
        "a = b = 'python'\n",
        "print(a, b)"
      ],
      "metadata": {
        "colab": {
          "base_uri": "https://localhost:8080/"
        },
        "id": "_Nlz_IZiDXr4",
        "outputId": "b98b0b99-3d97-4b5d-f19b-7852bb7bb6f8"
      },
      "execution_count": null,
      "outputs": [
        {
          "output_type": "stream",
          "name": "stdout",
          "text": [
            "python life\n",
            "python life\n",
            "python life\n",
            "python python\n"
          ]
        }
      ]
    },
    {
      "cell_type": "code",
      "source": [
        "# 두 변수의 값을 매우 간단하게 변경 가능\n",
        "a = 3\n",
        "b = 5\n",
        "\n",
        "a, b = b, a\n",
        "print(a, b)"
      ],
      "metadata": {
        "colab": {
          "base_uri": "https://localhost:8080/"
        },
        "id": "-6eUrSiID9Oa",
        "outputId": "6cd4448f-1c4a-4c2b-bdd9-09bfc925a8d9"
      },
      "execution_count": null,
      "outputs": [
        {
          "output_type": "stream",
          "name": "stdout",
          "text": [
            "5 3\n"
          ]
        }
      ]
    },
    {
      "cell_type": "markdown",
      "source": [
        "__연습문제__\n",
        "============"
      ],
      "metadata": {
        "id": "3SyIzsK5x_Yy"
      }
    },
    {
      "cell_type": "markdown",
      "source": [
        "__문제 1: 변수와 숫자형__\n",
        "\n",
        "다음 조건을 만족하는 코드를 작성하세요.\n",
        "  - 변수 ___a___와 ***b***를 사용하여 ***result*** 변수를 만든다.\n",
        "  - ***result***의 값은 **15**가 되어야 한다.\n",
        "\n",
        "  "
      ],
      "metadata": {
        "id": "Xnoarp8byHYJ"
      }
    },
    {
      "cell_type": "code",
      "source": [
        "# 여기에 코드를 작성하세요\n",
        "\n",
        "print(result) # 출력: 15"
      ],
      "metadata": {
        "id": "NhN2CzjCx_4g"
      },
      "execution_count": null,
      "outputs": []
    },
    {
      "cell_type": "markdown",
      "source": [
        "__문제 2: 문자형__\n",
        "\n",
        "다음과 같은 결과를 출력하는 코드를 작성하세요\n",
        "  - 변수 ___text1, text2___를 사용하여 ___result___ 변수를 만든다.\n",
        "\n",
        "\n",
        "    Hello Python"
      ],
      "metadata": {
        "id": "5VvZSnYkzFZ-"
      }
    },
    {
      "cell_type": "code",
      "source": [
        "# 여기에 코드를 작성하세요"
      ],
      "metadata": {
        "id": "tiejgSmnzPyT"
      },
      "execution_count": null,
      "outputs": []
    },
    {
      "cell_type": "markdown",
      "source": [
        "__문제 3: 리스트__\n",
        "\n",
        "다음 코드에서 ___numbers___ 리스트를 조작하여 다음과 같은 결과를 출력하는 코드를 작성하세요.\n",
        "\n",
        "    [10, 20, 30, 40, 50, 60]"
      ],
      "metadata": {
        "id": "SodQZpS5zYr5"
      }
    },
    {
      "cell_type": "code",
      "source": [
        "numbers = [10, 20, 30, 50]\n",
        "\n",
        "# 여기에 코드를 추가하세요\n",
        "\n",
        "print(numbers)"
      ],
      "metadata": {
        "id": "fjSBLFI7zYaG"
      },
      "execution_count": null,
      "outputs": []
    }
  ]
}