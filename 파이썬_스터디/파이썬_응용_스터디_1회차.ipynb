{
  "nbformat": 4,
  "nbformat_minor": 0,
  "metadata": {
    "colab": {
      "provenance": [],
      "collapsed_sections": [
        "uSQ3dcA3w_4K",
        "4yJ4eHCp8DJw",
        "97-nPJDZ8OES",
        "D84T1A28_e3E",
        "WQL8_arx_izt",
        "e6QWPXW3_mqw",
        "5j6hBu5P_ux5",
        "upKmc9GB_wkX",
        "CYq4gv6wLE91",
        "mxtgkbgE_2ie",
        "kEm_Tvqz_4m1",
        "drZUlnZWAA0Z",
        "Uancb0U9ADsR",
        "8OdVqGS0AF3d",
        "hw-SS4-cAJGU",
        "gUYMWH-y-gF_",
        "Ygr_KF6YULKi",
        "i7erngqTYlNy",
        "nSvEcDLuYpXk",
        "9AH4_7T7UU47",
        "iXCbSe84ZbFq",
        "6ATaAAuXUXd8",
        "pozap5zeUZos",
        "IRjlkATb5q_v",
        "TeD0hyRm99c1",
        "o_P73wCR9_mp",
        "Poy8vmIv-CYa",
        "MQP1X_Ux5yE9",
        "NHOm0zwdM-_t",
        "N1diVfCjNDGp",
        "QySgCfFlNFM8",
        "POqIz_XhNGz1",
        "lPM3IPnv9tqM",
        "tbnuL1NqgFSD",
        "3OQdwNTjgH6w",
        "bj2jqd0RgKB6",
        "FrkzErpHgMAQ",
        "QH5a-2aW9vvf",
        "Gdiwl-QbiOl1",
        "d1JgoiVViRMQ",
        "cP8LbAzIiSoH",
        "-4Xeg1vEAUlo",
        "2b7mmuvMAZIS",
        "A8sKeFp8Aa3E",
        "xnZFpdS5Absa",
        "HKZORB9ZCu84",
        "6CBnhtIHDACQ",
        "FhuS0myTAgmZ"
      ],
      "authorship_tag": "ABX9TyPl5VOEDPsQXFa6WivtcJWX",
      "include_colab_link": true
    },
    "kernelspec": {
      "name": "python3",
      "display_name": "Python 3"
    },
    "language_info": {
      "name": "python"
    }
  },
  "cells": [
    {
      "cell_type": "markdown",
      "metadata": {
        "id": "view-in-github",
        "colab_type": "text"
      },
      "source": [
        "<a href=\"https://colab.research.google.com/github/1360837/BART/blob/main/%ED%8C%8C%EC%9D%B4%EC%8D%AC_%EC%8A%A4%ED%84%B0%EB%94%94/%ED%8C%8C%EC%9D%B4%EC%8D%AC_%EC%9D%91%EC%9A%A9_%EC%8A%A4%ED%84%B0%EB%94%94_1%ED%9A%8C%EC%B0%A8.ipynb\" target=\"_parent\"><img src=\"https://colab.research.google.com/assets/colab-badge.svg\" alt=\"Open In Colab\"/></a>"
      ]
    },
    {
      "cell_type": "markdown",
      "source": [
        "__파이썬 참고 자료__\n",
        "================\n",
        "1. [점프 투 파이썬](https://wikidocs.net/book/1)\n",
        "\n",
        "2. [파이썬 자습서](https://docs.python.org/ko/3/tutorial/index.html)\n"
      ],
      "metadata": {
        "id": "uSQ3dcA3w_4K"
      }
    },
    {
      "cell_type": "markdown",
      "source": [
        "마크다운 [Markdown](https://www.heropy.dev/p/B74sNE)\n",
        "-----------------------------------------\n",
        "\n",
        "- 빠르고 가볍게 발표 자료 제작 가능\n",
        "\n",
        "- Latex을 하용하여 수식 표현 가능\n",
        "\n",
        "- 표, 목록, 인용구 활용 가능\n",
        "\n",
        "- Git 및 협업 친화적\n",
        "\n",
        "- 슬라이드 모드 지원(---을 사용해서 슬라이드 구분)\n",
        "\n",
        "- 지원 가능 플랫폼 및 프로그램이 다양함(일반 블로그, 워드프레스, 슬랙, 노션 등)"
      ],
      "metadata": {
        "id": "PRzMOfKytO4-"
      }
    },
    {
      "cell_type": "markdown",
      "source": [
        "[Git Hub](https://github.com \"github\")\n",
        "---------------------------------------\n",
        "\n",
        "- 코드 버전 관리\n",
        "\n",
        "- 협업 및 팀워크 강화\n",
        "\n",
        "- 포트폴리오 관리 (README.md를 활용해 프로젝트 설명)\n",
        "\n",
        "- 백업 및 클라우드 저장소 역할(코랩에서는 필요 x)\n",
        "\n",
        "- 다양한 개발 도구와 연동됨."
      ],
      "metadata": {
        "id": "3vzzGQaTvWp-"
      }
    },
    {
      "cell_type": "markdown",
      "source": [
        "[백준](https://www.acmicpc.net \"baekjoon\")\n",
        "-------------------------------------------\n",
        "\n",
        "1. 회원가입\n",
        "\n",
        "2. 본인의 아이디를 스터디 톡방에 공유\n",
        "\n",
        "3. 그룹내의 문제집에 담긴 문제 풀기\n",
        "  - 소속 스터디 문제집 문제만 풀면 됨\n",
        "  - 그 외의 문제는 개인의 자유"
      ],
      "metadata": {
        "id": "aZZ4vr7Yv26e"
      }
    },
    {
      "cell_type": "markdown",
      "source": [
        "점프 투 파이썬 02장\n",
        "==================="
      ],
      "metadata": {
        "id": "US-lU1aE0EoI"
      }
    },
    {
      "cell_type": "markdown",
      "source": [
        "02-1 숫자형\n",
        "-----------\n",
        "\n",
        " 항목 | 파이썬 사용 예\n",
        "---|:---:\n",
        " 정수 | 123, -345, 0\n",
        " 실수 | 123.45, -1234.5, 3.4e10\n",
        " 8진수 | 0o34, 0o25\n",
        " 16진수 | 0x2A, 0xFF\n"
      ],
      "metadata": {
        "id": "Iau09NZq0RHh"
      }
    },
    {
      "cell_type": "markdown",
      "source": [
        "###1. 숫자형은 어떻게 만들고 사용할까?"
      ],
      "metadata": {
        "id": "4yJ4eHCp8DJw"
      }
    },
    {
      "cell_type": "code",
      "source": [
        "# 정수형\n",
        "\n",
        "a = 123\n",
        "b = -178\n",
        "a = 0"
      ],
      "metadata": {
        "id": "lYJGF3JzxkA3"
      },
      "execution_count": null,
      "outputs": []
    },
    {
      "cell_type": "code",
      "source": [
        "# 실수형\n",
        "\n",
        "a = 1.2\n",
        "a = -3.45"
      ],
      "metadata": {
        "id": "L9YZujHG6C6O"
      },
      "execution_count": null,
      "outputs": []
    },
    {
      "cell_type": "code",
      "source": [
        "# 8진수(octal)\n",
        "\n",
        "a = 0o177\n",
        "\n",
        "print(a)\n",
        "\n",
        "oct(a) # 코랩은 코드 마지막 줄의 값을 출력해줌. (print 문을 넣지 않아도 값 확인 가능)"
      ],
      "metadata": {
        "colab": {
          "base_uri": "https://localhost:8080/",
          "height": 54
        },
        "id": "xhEi90RT6Gf2",
        "outputId": "b1a1b771-2b5a-452f-dc0e-ec190398e13a"
      },
      "execution_count": null,
      "outputs": [
        {
          "output_type": "stream",
          "name": "stdout",
          "text": [
            "127\n"
          ]
        },
        {
          "output_type": "execute_result",
          "data": {
            "text/plain": [
              "'0o177'"
            ],
            "application/vnd.google.colaboratory.intrinsic+json": {
              "type": "string"
            }
          },
          "metadata": {},
          "execution_count": 1
        }
      ]
    },
    {
      "cell_type": "code",
      "source": [
        "# 16진수(hexadecimal)\n",
        "\n",
        "a = 0x8ff\n",
        "b = 0xABC\n",
        "\n",
        "print(a, b)\n",
        "\n",
        "print(hex(a), hex(b))"
      ],
      "metadata": {
        "colab": {
          "base_uri": "https://localhost:8080/"
        },
        "id": "UoW3FYO66iJY",
        "outputId": "77d29dea-7ae9-44b0-f2af-98da85c66e3a"
      },
      "execution_count": null,
      "outputs": [
        {
          "output_type": "stream",
          "name": "stdout",
          "text": [
            "2303 2748\n",
            "0x8ff 0xabc\n"
          ]
        }
      ]
    },
    {
      "cell_type": "markdown",
      "source": [
        ">`bin()`, `oct()`, `hex()`라는 내장함수 제공.\n",
        "\n",
        "이 함수를 통해서 숫자를 각 진수 형태의 문자열로 변환 가능"
      ],
      "metadata": {
        "id": "lzxd53tH6wwg"
      }
    },
    {
      "cell_type": "markdown",
      "source": [
        "__다른 진수의 문자열을 숫자형으로 변환하기__\n",
        "\n",
        "`bin()`, `oct()`, `hex()`로 변환한 문자열들을 다시 숫자로 변환하기\n",
        "\n",
        ">`int()`함수에 진수의 base값을 추가 인자로 넘겨주기"
      ],
      "metadata": {
        "id": "mv9h9NXM7EKO"
      }
    },
    {
      "cell_type": "code",
      "source": [
        "a = 0x8ff\n",
        "print(a)\n",
        "\n",
        "a = hex(a)\n",
        "print(a)\n",
        "\n",
        "a = int(a, 16)\n",
        "print(a)"
      ],
      "metadata": {
        "colab": {
          "base_uri": "https://localhost:8080/"
        },
        "id": "h1EbJToB7VGk",
        "outputId": "13cb5fc7-b124-4ee4-d1cd-ddd998673463"
      },
      "execution_count": null,
      "outputs": [
        {
          "output_type": "stream",
          "name": "stdout",
          "text": [
            "2303\n",
            "0x8ff\n",
            "2303\n"
          ]
        }
      ]
    },
    {
      "cell_type": "markdown",
      "source": [
        "###2. 숫자형을 활용하기 위한 연산자"
      ],
      "metadata": {
        "id": "97-nPJDZ8OES"
      }
    },
    {
      "cell_type": "code",
      "source": [
        "# 사칙 연산\n",
        "\n",
        "a = 3\n",
        "b = 4\n",
        "print(a + b)\n",
        "print(a - b)\n",
        "print(a * b)\n",
        "print(a / b)"
      ],
      "metadata": {
        "colab": {
          "base_uri": "https://localhost:8080/"
        },
        "id": "dX4OG04m8Smq",
        "outputId": "7b055aaf-93a4-463e-d1a3-9b33035d12ed"
      },
      "execution_count": null,
      "outputs": [
        {
          "output_type": "stream",
          "name": "stdout",
          "text": [
            "7\n",
            "-1\n",
            "12\n",
            "0.75\n"
          ]
        }
      ]
    },
    {
      "cell_type": "code",
      "source": [
        "# x의 y제곱을 나타내는 **연산자\n",
        "\n",
        "a = 3\n",
        "b = 4\n",
        "print(a ** b)\n",
        "a^b #^는 bit 연산 XOR에 사용되는 연산자"
      ],
      "metadata": {
        "colab": {
          "base_uri": "https://localhost:8080/"
        },
        "id": "WJdQsoB48b8r",
        "outputId": "f85fbcca-9bf4-43f0-d582-ce1f3485ae07"
      },
      "execution_count": null,
      "outputs": [
        {
          "output_type": "stream",
          "name": "stdout",
          "text": [
            "81\n"
          ]
        },
        {
          "output_type": "execute_result",
          "data": {
            "text/plain": [
              "7"
            ]
          },
          "metadata": {},
          "execution_count": 2
        }
      ]
    },
    {
      "cell_type": "code",
      "source": [
        "# 나눗셈 후 나머지를 리턴하는 % 연산자\n",
        "\n",
        "print(7 % 3)\n",
        "\n",
        "print(3 % 7)"
      ],
      "metadata": {
        "id": "hrKvwSEu9ZLn",
        "colab": {
          "base_uri": "https://localhost:8080/"
        },
        "outputId": "6ae57897-cfd6-4679-b618-15aa5e435b12"
      },
      "execution_count": null,
      "outputs": [
        {
          "output_type": "stream",
          "name": "stdout",
          "text": [
            "1\n",
            "3\n"
          ]
        }
      ]
    },
    {
      "cell_type": "code",
      "source": [
        "# 나눗셈 후 몫을 리턴하는 // 연산자\n",
        "\n",
        "print(7 / 4)\n",
        "\n",
        "print(7 // 4)"
      ],
      "metadata": {
        "id": "pOVGaUer9jgq",
        "colab": {
          "base_uri": "https://localhost:8080/"
        },
        "outputId": "f668fa9c-1d9d-4134-eaaf-6b89c3cb44f2"
      },
      "execution_count": null,
      "outputs": [
        {
          "output_type": "stream",
          "name": "stdout",
          "text": [
            "1.75\n",
            "1\n"
          ]
        }
      ]
    },
    {
      "cell_type": "code",
      "source": [
        "# 복합 연산자 +=, -=, %=, /=, //=, ^=, **= 등\n",
        "\n",
        "a = 1\n",
        "\n",
        "a = a + 1\n",
        "print(a)\n",
        "\n",
        "a += 1\n",
        "print(a)"
      ],
      "metadata": {
        "id": "089vi6ys9y90",
        "colab": {
          "base_uri": "https://localhost:8080/"
        },
        "outputId": "133af01c-3ee2-4054-c140-69145c0164f0"
      },
      "execution_count": null,
      "outputs": [
        {
          "output_type": "stream",
          "name": "stdout",
          "text": [
            "2\n",
            "3\n"
          ]
        }
      ]
    },
    {
      "cell_type": "markdown",
      "source": [
        "##02-2 문자열 자료형"
      ],
      "metadata": {
        "id": "z3esxdS--bSF"
      }
    },
    {
      "cell_type": "markdown",
      "source": [
        "###1. 문자열은 어떻게 만들고 사용할까?"
      ],
      "metadata": {
        "id": "BDOiln62-s7A"
      }
    },
    {
      "cell_type": "code",
      "source": [
        "# 큰따옴표로 양쪽 둘러싸기\n",
        "\"Hello World\"\n",
        "\n",
        "# 작은따옴표로 양쪽 둘러싸기\n",
        "'Python is fun'\n",
        "\n",
        "# 큰따옴표 3개를 연속으로 써서 양쪽 둘러싸기\n",
        "\"\"\"\n",
        "Life is too short,\n",
        "You need python\n",
        "\"\"\"\n",
        "\n",
        "# 작은 따옴표 3개를 연속으로 써서 양쪽 둘러싸기\n",
        "'''\n",
        "Life is too short,\n",
        "You need python\n",
        "'''"
      ],
      "metadata": {
        "id": "rqmnnKI6_ETz",
        "colab": {
          "base_uri": "https://localhost:8080/"
        },
        "outputId": "42503a44-d9b3-4d0a-9273-9551f1636567"
      },
      "execution_count": null,
      "outputs": [
        {
          "output_type": "stream",
          "name": "stdout",
          "text": [
            "Hello World\n"
          ]
        }
      ]
    },
    {
      "cell_type": "markdown",
      "source": [
        "###2. 문자열 안에 작은따옴표나 큰따옴표를 포함시키고 싶을 때"
      ],
      "metadata": {
        "id": "D84T1A28_e3E"
      }
    },
    {
      "cell_type": "code",
      "source": [
        "# 문자열에 작은따옴표 포함하기\n",
        "\n",
        "food = \"Python's favorite food is perl\"\n",
        "print(food)"
      ],
      "metadata": {
        "id": "6nB3xXRWFv1l",
        "colab": {
          "base_uri": "https://localhost:8080/"
        },
        "outputId": "c4ed6fe4-c273-4110-a9bf-19bdcf81c54c"
      },
      "execution_count": null,
      "outputs": [
        {
          "output_type": "stream",
          "name": "stdout",
          "text": [
            "Python's favorite food is perl\n"
          ]
        }
      ]
    },
    {
      "cell_type": "code",
      "source": [
        "food = 'python's favorite food is perl'\n",
        "print(food)"
      ],
      "metadata": {
        "id": "oUmxXmb0F3UP",
        "colab": {
          "base_uri": "https://localhost:8080/",
          "height": 112
        },
        "outputId": "9b65cc93-7b8b-43cf-ec4c-8f4902932072"
      },
      "execution_count": null,
      "outputs": [
        {
          "output_type": "error",
          "ename": "SyntaxError",
          "evalue": "unterminated string literal (detected at line 1) (<ipython-input-9-898d3cf594f0>, line 1)",
          "traceback": [
            "\u001b[0;36m  File \u001b[0;32m\"<ipython-input-9-898d3cf594f0>\"\u001b[0;36m, line \u001b[0;32m1\u001b[0m\n\u001b[0;31m    food = 'python's favorite food is perl'\u001b[0m\n\u001b[0m                                          ^\u001b[0m\n\u001b[0;31mSyntaxError\u001b[0m\u001b[0;31m:\u001b[0m unterminated string literal (detected at line 1)\n"
          ]
        }
      ]
    },
    {
      "cell_type": "code",
      "source": [
        "# 문자열에 큰따옴표 포함하기\n",
        "\n",
        "say = '\"python is very easy.\" he says.'\n",
        "print(say)"
      ],
      "metadata": {
        "colab": {
          "base_uri": "https://localhost:8080/"
        },
        "id": "sDwF7elTF7zx",
        "outputId": "0964c323-4bd3-4595-c63f-bd12d33dda43"
      },
      "execution_count": null,
      "outputs": [
        {
          "output_type": "stream",
          "name": "stdout",
          "text": [
            "\"python is very easy.\" he says.\n"
          ]
        }
      ]
    },
    {
      "cell_type": "code",
      "source": [
        "# 역슬래시를 사용해서 작은따옴표와 큰따옴표를 문자열에 포함하기\n",
        "\n",
        "food = 'Python\\'s favorite food is perl'\n",
        "say = \"\\\"Python is very easy.\\\" he says.\"\n",
        "\n",
        "print(food)\n",
        "print(say)"
      ],
      "metadata": {
        "colab": {
          "base_uri": "https://localhost:8080/"
        },
        "id": "lVK-K_I8GP7A",
        "outputId": "09c46bc1-3cbf-49b6-ae2a-79511b986191"
      },
      "execution_count": null,
      "outputs": [
        {
          "output_type": "stream",
          "name": "stdout",
          "text": [
            "Python's favorite food is perl\n",
            "\"Python is very easy.\" he says.\n"
          ]
        }
      ]
    },
    {
      "cell_type": "markdown",
      "source": [
        "###3. 여러 줄인 문자열을 변수에 대입하고 싶을 때"
      ],
      "metadata": {
        "id": "WQL8_arx_izt"
      }
    },
    {
      "cell_type": "code",
      "source": [
        "# 줄을 바꾸기 위한 이스케이프 코드 \\n 삽입하기\n",
        "\n",
        "multiline = \"Life is too short\\nYou need python\"\n",
        "print(multiline)"
      ],
      "metadata": {
        "colab": {
          "base_uri": "https://localhost:8080/"
        },
        "id": "9vgDiRTaIEjE",
        "outputId": "5b8e3fd5-746f-459a-e866-5d24d9de0d37"
      },
      "execution_count": null,
      "outputs": [
        {
          "output_type": "stream",
          "name": "stdout",
          "text": [
            "Life is too short\n",
            "You need python\n"
          ]
        }
      ]
    },
    {
      "cell_type": "code",
      "source": [
        "# 연속된 작은따옴표 3개 또는 큰따옴표 3개 사용하기\n",
        "\n",
        "multiline = '''\n",
        "Life is too short\n",
        "You need python\n",
        "'''\n",
        "\n",
        "print(multiline)\n",
        "\n",
        "multiline = \"\"\"\n",
        "Life is too short\n",
        "You need python\n",
        "\"\"\"\n",
        "\n",
        "print(multiline)"
      ],
      "metadata": {
        "colab": {
          "base_uri": "https://localhost:8080/"
        },
        "id": "4TGndYuKINCf",
        "outputId": "8ba57c67-6b8a-4626-e762-8cb599d73587"
      },
      "execution_count": null,
      "outputs": [
        {
          "output_type": "stream",
          "name": "stdout",
          "text": [
            "\n",
            "Life is too short\n",
            "You need python\n",
            "\n",
            "\n",
            "Life is too short\n",
            "You need python\n",
            "\n"
          ]
        }
      ]
    },
    {
      "cell_type": "markdown",
      "source": [
        "#####이스케이프 코드란?\n",
        "\n",
        "프로그래밍할 때 사용할 수 있도록 미리 정의해 둔 '문자 조합'\n",
        "\n",
        "| 코드  | 설명 |\n",
        "|------|------|\n",
        "| `\\n` | 문자열 안에서 줄을 바꿀 때 사용 |\n",
        "| `\\t` | 문자열 사이에 탭 간격을 줄 때 사용 |\n",
        "| `\\\\` | `\\`를 그대로 표현할 때 사용 |\n",
        "| `\\'` | 작은따옴표(`'`)를 그대로 표현할 때 사용 |\n",
        "| `\\\"` | 큰따옴표(`\"`)를 그대로 표현할 때 사용 |\n",
        "| `\\r` | 캐리지 리턴(줄 바꿈 문자, 커서를 현재 줄의 가장 앞으로 이동) |\n",
        "| `\\f` | 폼 피드(줄 바꿈 문자, 커서를 현재 줄의 다음 줄로 이동) |\n",
        "| `\\a` | 벨 소리(출력할 때 PC 스피커에서 '삑' 소리가 난다) |\n",
        "| `\\b` | 백 스페이스 |\n",
        "| `\\000` | 널 문자 |\n",
        "\n",
        "이 중에서 활용 빈도가 높은 것은 `\\n`, `\\t`, `\\\\`, `\\'`, `\\\"`이다. 나머지는 프로그램에서 잘 사용하지 않는다."
      ],
      "metadata": {
        "id": "YOsjrjmTIeY1"
      }
    },
    {
      "cell_type": "markdown",
      "source": [
        "###4. 문자열 연산하기"
      ],
      "metadata": {
        "id": "e6QWPXW3_mqw"
      }
    },
    {
      "cell_type": "code",
      "source": [
        "# 문자열 더해서 연결하기\n",
        "\n",
        "head = \"Python\"\n",
        "tail = \" is fun!\"\n",
        "\n",
        "str = head + tail\n",
        "\n",
        "print(str)"
      ],
      "metadata": {
        "colab": {
          "base_uri": "https://localhost:8080/"
        },
        "id": "lkiYvdADI1vF",
        "outputId": "815ebc1c-9583-4e5b-f3ad-096b3abf3295"
      },
      "execution_count": null,
      "outputs": [
        {
          "output_type": "stream",
          "name": "stdout",
          "text": [
            "Python is fun!\n"
          ]
        }
      ]
    },
    {
      "cell_type": "code",
      "source": [
        "# 문자열 곱하기\n",
        "\n",
        "a = \"python\"\n",
        "\n",
        "a * 2"
      ],
      "metadata": {
        "colab": {
          "base_uri": "https://localhost:8080/"
        },
        "id": "EA0e11FkI8yh",
        "outputId": "43244cce-dc60-40fc-a3f3-29802d5d5127"
      },
      "execution_count": null,
      "outputs": [
        {
          "output_type": "execute_result",
          "data": {
            "text/plain": [
              "'pythonpython'"
            ],
            "application/vnd.google.colaboratory.intrinsic+json": {
              "type": "string"
            }
          },
          "metadata": {},
          "execution_count": 34
        }
      ]
    },
    {
      "cell_type": "code",
      "source": [
        "# 문자열 곱하기를 응용하기\n",
        "\n",
        "print(\"=\" * 50)\n",
        "print(\"My Program\")\n",
        "print(\"=\" * 50)"
      ],
      "metadata": {
        "colab": {
          "base_uri": "https://localhost:8080/"
        },
        "id": "W83mA9c9JCb6",
        "outputId": "bf524306-40ce-42d8-c21d-83d92f3f5331"
      },
      "execution_count": null,
      "outputs": [
        {
          "output_type": "stream",
          "name": "stdout",
          "text": [
            "==================================================\n",
            "My Program\n",
            "==================================================\n"
          ]
        }
      ]
    },
    {
      "cell_type": "markdown",
      "source": [
        "###5. 문자열 길이 구하기"
      ],
      "metadata": {
        "id": "5j6hBu5P_ux5"
      }
    },
    {
      "cell_type": "code",
      "source": [
        "a = \"Life is too short\"\n",
        "\n",
        "len(a)"
      ],
      "metadata": {
        "colab": {
          "base_uri": "https://localhost:8080/"
        },
        "id": "KaU4QZx6JIri",
        "outputId": "7ae54601-f572-4132-e450-f3c164cd75ef"
      },
      "execution_count": null,
      "outputs": [
        {
          "output_type": "execute_result",
          "data": {
            "text/plain": [
              "17"
            ]
          },
          "metadata": {},
          "execution_count": 36
        }
      ]
    },
    {
      "cell_type": "markdown",
      "source": [
        "###6. 문자열 인덱싱과 슬라이싱"
      ],
      "metadata": {
        "id": "upKmc9GB_wkX"
      }
    },
    {
      "cell_type": "code",
      "source": [
        "a = \"Life is too short, You need Python\"\n",
        "\n",
        "a[3]"
      ],
      "metadata": {
        "colab": {
          "base_uri": "https://localhost:8080/",
          "height": 36
        },
        "id": "g2mEeDzgJL0h",
        "outputId": "66757e96-e9b3-4eab-8279-d389960e35e9"
      },
      "execution_count": null,
      "outputs": [
        {
          "output_type": "execute_result",
          "data": {
            "text/plain": [
              "'e'"
            ],
            "application/vnd.google.colaboratory.intrinsic+json": {
              "type": "string"
            }
          },
          "metadata": {},
          "execution_count": 37
        }
      ]
    },
    {
      "cell_type": "code",
      "source": [
        "# 문자열 인덱싱 활용하기\n",
        "\n",
        "a = \"Life is too short, You need Python\"\n",
        "\n",
        "print(a[0], a[12], a[-1]) # -부호를 붙이면 뒤에서 부터 센 위치 / -0 = 0 이기 때문에 -1 부터 시작"
      ],
      "metadata": {
        "colab": {
          "base_uri": "https://localhost:8080/"
        },
        "id": "TaDWgHlCJUBx",
        "outputId": "154cc378-1f2d-49f5-95d6-3adc929aec96"
      },
      "execution_count": null,
      "outputs": [
        {
          "output_type": "stream",
          "name": "stdout",
          "text": [
            "L s n\n"
          ]
        }
      ]
    },
    {
      "cell_type": "code",
      "source": [
        "# 문자열 슬라이싱\n",
        "\n",
        "a = \"Life is too short, You need Python\"\n",
        "\n",
        "b = a[0] + a[1] + a[2] + a[3]\n",
        "print(b)\n",
        "\n",
        "print(a[0:4]) # a[시작번호 : 끝 번호] / 끝 번호에 해당하는 문자는 포함하지 않음."
      ],
      "metadata": {
        "colab": {
          "base_uri": "https://localhost:8080/"
        },
        "id": "bvgfX3M5JpRp",
        "outputId": "f76337b2-7241-4680-9613-27b892247aa5"
      },
      "execution_count": null,
      "outputs": [
        {
          "output_type": "stream",
          "name": "stdout",
          "text": [
            "Life\n",
            "Life\n"
          ]
        }
      ]
    },
    {
      "cell_type": "code",
      "source": [
        "# 문자열을 슬라이싱하는 방법\n",
        "\n",
        "print(a[19:]) # 끝 번호 생략 시 시작 번호부터 문자열의 끝까지\n",
        "\n",
        "print(a[:17]) # 시작 번호 생략 시 처음부터 끝 번호까지\n",
        "\n",
        "print(a[:]) # 시작 번호와 끝 번호를 생략하면 처음부터 끝까지\n",
        "\n",
        "print(a[19:-7]) # - 기호 사용 가능"
      ],
      "metadata": {
        "colab": {
          "base_uri": "https://localhost:8080/"
        },
        "id": "DtwIz0qxJ8m4",
        "outputId": "54124e9f-5315-4722-fcae-1554412235ef"
      },
      "execution_count": null,
      "outputs": [
        {
          "output_type": "stream",
          "name": "stdout",
          "text": [
            "You need Python\n",
            "Life is too short\n",
            "Life is too short, You need Python\n",
            "You need\n"
          ]
        }
      ]
    },
    {
      "cell_type": "code",
      "source": [
        "# 슬라이싱으로 문자열 나누기\n",
        "\n",
        "a = \"20010331Rainy\"\n",
        "\n",
        "date = a[:8]\n",
        "weather = a[8:]\n",
        "\n",
        "print(date)\n",
        "print(weather)"
      ],
      "metadata": {
        "colab": {
          "base_uri": "https://localhost:8080/"
        },
        "id": "7WM3wPJXKet7",
        "outputId": "b1036de2-af87-4fca-b7ca-a88c7cf4fc1f"
      },
      "execution_count": null,
      "outputs": [
        {
          "output_type": "stream",
          "name": "stdout",
          "text": [
            "20010331\n",
            "Rainy\n"
          ]
        }
      ]
    },
    {
      "cell_type": "code",
      "source": [
        "a = \"20230331Rainy\"\n",
        "\n",
        "year = a[:4]\n",
        "date = a[4:8]\n",
        "weather = a[8:]\n",
        "\n",
        "print(year)\n",
        "print(date)\n",
        "print(weather)"
      ],
      "metadata": {
        "colab": {
          "base_uri": "https://localhost:8080/"
        },
        "id": "oGRJkyZkKo0f",
        "outputId": "074c2a63-e435-4dd8-db16-3d7598f72c97"
      },
      "execution_count": null,
      "outputs": [
        {
          "output_type": "stream",
          "name": "stdout",
          "text": [
            "2023\n",
            "0331\n",
            "Rainy\n"
          ]
        }
      ]
    },
    {
      "cell_type": "markdown",
      "source": [
        "####Pithon 문자열을 Python으로 바꿀려면?"
      ],
      "metadata": {
        "id": "CYq4gv6wLE91"
      }
    },
    {
      "cell_type": "code",
      "source": [
        "a = \"Pithon\"\n",
        "a[1]"
      ],
      "metadata": {
        "colab": {
          "base_uri": "https://localhost:8080/",
          "height": 35
        },
        "id": "H2f9hO6KK4VP",
        "outputId": "3815d5d8-0336-4ee1-8936-faf41e09d83a"
      },
      "execution_count": null,
      "outputs": [
        {
          "output_type": "execute_result",
          "data": {
            "text/plain": [
              "'i'"
            ],
            "application/vnd.google.colaboratory.intrinsic+json": {
              "type": "string"
            }
          },
          "metadata": {},
          "execution_count": 20
        }
      ]
    },
    {
      "cell_type": "code",
      "source": [
        "a[1] = y # 문자열은 변경 불가능한 자료형"
      ],
      "metadata": {
        "id": "m_qw-sObLNNc",
        "colab": {
          "base_uri": "https://localhost:8080/",
          "height": 147
        },
        "outputId": "d0d2c764-85c0-46f9-bbc4-698d22fb91b8"
      },
      "execution_count": null,
      "outputs": [
        {
          "output_type": "error",
          "ename": "NameError",
          "evalue": "name 'y' is not defined",
          "traceback": [
            "\u001b[0;31m---------------------------------------------------------------------------\u001b[0m",
            "\u001b[0;31mNameError\u001b[0m                                 Traceback (most recent call last)",
            "\u001b[0;32m<ipython-input-19-0536440e3b08>\u001b[0m in \u001b[0;36m<cell line: 0>\u001b[0;34m()\u001b[0m\n\u001b[0;32m----> 1\u001b[0;31m \u001b[0ma\u001b[0m\u001b[0;34m[\u001b[0m\u001b[0;36m1\u001b[0m\u001b[0;34m]\u001b[0m \u001b[0;34m=\u001b[0m \u001b[0my\u001b[0m \u001b[0;31m# 문자열은 변경 불가능한 자료형\u001b[0m\u001b[0;34m\u001b[0m\u001b[0;34m\u001b[0m\u001b[0m\n\u001b[0m",
            "\u001b[0;31mNameError\u001b[0m: name 'y' is not defined"
          ]
        }
      ]
    },
    {
      "cell_type": "code",
      "source": [
        " a = a[:1] + 'y' + a[2:]\n",
        "\n",
        " print(a)"
      ],
      "metadata": {
        "colab": {
          "base_uri": "https://localhost:8080/"
        },
        "id": "yowQHrvJLZGj",
        "outputId": "de233471-110e-4db9-caa7-44f2cdae448a"
      },
      "execution_count": null,
      "outputs": [
        {
          "output_type": "stream",
          "name": "stdout",
          "text": [
            "Python\n"
          ]
        }
      ]
    },
    {
      "cell_type": "markdown",
      "source": [
        "###7. 문자열 포매팅이란?\n",
        "\n",
        ">문자열 안에 어떤 값을 삽입하는 방법"
      ],
      "metadata": {
        "id": "XSBZJUsm_z6q"
      }
    },
    {
      "cell_type": "markdown",
      "source": [
        "###8. 문자열 포매팅 따라 하기"
      ],
      "metadata": {
        "id": "mxtgkbgE_2ie"
      }
    },
    {
      "cell_type": "code",
      "source": [
        "# 숫자 바로 대임\n",
        "\n",
        "\"I eat %d apples.\" % 3"
      ],
      "metadata": {
        "colab": {
          "base_uri": "https://localhost:8080/",
          "height": 35
        },
        "id": "EfrDuL9rLvft",
        "outputId": "a531a5c0-dd03-4859-b1d5-3e0a238b74c1"
      },
      "execution_count": null,
      "outputs": [
        {
          "output_type": "execute_result",
          "data": {
            "text/plain": [
              "'I eat 3 apples.'"
            ],
            "application/vnd.google.colaboratory.intrinsic+json": {
              "type": "string"
            }
          },
          "metadata": {},
          "execution_count": 24
        }
      ]
    },
    {
      "cell_type": "code",
      "source": [
        "# 문자열 바로 대입\n",
        "\n",
        "\"I eat %s apples.\" % \"five\""
      ],
      "metadata": {
        "colab": {
          "base_uri": "https://localhost:8080/",
          "height": 35
        },
        "id": "Ic2YyAMcL3_L",
        "outputId": "6c90fcb2-213d-49cd-f668-c44dffe475b0"
      },
      "execution_count": null,
      "outputs": [
        {
          "output_type": "execute_result",
          "data": {
            "text/plain": [
              "'I eat five apples.'"
            ],
            "application/vnd.google.colaboratory.intrinsic+json": {
              "type": "string"
            }
          },
          "metadata": {},
          "execution_count": 25
        }
      ]
    },
    {
      "cell_type": "code",
      "source": [
        "# 숫자 값을 나타내는 변수로 대입\n",
        "\n",
        "number = 3\n",
        "\"I eat %d apples.\" % number"
      ],
      "metadata": {
        "colab": {
          "base_uri": "https://localhost:8080/",
          "height": 35
        },
        "id": "ZauzoZ0NL_WU",
        "outputId": "6f331d9c-b21b-49ab-ebb2-18ed4ee58a0a"
      },
      "execution_count": null,
      "outputs": [
        {
          "output_type": "execute_result",
          "data": {
            "text/plain": [
              "'I eat 3 apples.'"
            ],
            "application/vnd.google.colaboratory.intrinsic+json": {
              "type": "string"
            }
          },
          "metadata": {},
          "execution_count": 26
        }
      ]
    },
    {
      "cell_type": "code",
      "source": [
        "# 2개 이상의 값 넣기\n",
        "\n",
        "number = 10\n",
        "day = \"three\"\n",
        "\"I ate %d apples. so I was sick for %s days.\" % (number, day) # 괄호 안에 쉼표로 구분"
      ],
      "metadata": {
        "colab": {
          "base_uri": "https://localhost:8080/",
          "height": 35
        },
        "id": "-spkjIf-MEbA",
        "outputId": "50f3bcb4-2251-4592-e3f5-6e5038d43766"
      },
      "execution_count": null,
      "outputs": [
        {
          "output_type": "execute_result",
          "data": {
            "text/plain": [
              "'I ate 10 apples. so I was sick for three days.'"
            ],
            "application/vnd.google.colaboratory.intrinsic+json": {
              "type": "string"
            }
          },
          "metadata": {},
          "execution_count": 27
        }
      ]
    },
    {
      "cell_type": "markdown",
      "source": [
        "###9. 문자열 포맷 코드\n",
        "\n",
        "| 코드  | 설명 |\n",
        "|------|------|\n",
        "| `%s` | 문자열(String) |\n",
        "| `%c` | 문자 1개(character) |\n",
        "| `%d` | 정수(Integer) |\n",
        "| `%f` | 부동소수(floating-point) |\n",
        "| `%o` | 8진수 |\n",
        "| `%x` | 16진수 |\n",
        "| `%%` | Literal % (문자 `%` 자체) |"
      ],
      "metadata": {
        "id": "kEm_Tvqz_4m1"
      }
    },
    {
      "cell_type": "code",
      "source": [
        "\"Error is %d%.\" % 98"
      ],
      "metadata": {
        "id": "v8nalwtuMeev",
        "colab": {
          "base_uri": "https://localhost:8080/",
          "height": 147
        },
        "outputId": "fdf09399-b313-47de-c6ed-e8d64e360a11"
      },
      "execution_count": null,
      "outputs": [
        {
          "output_type": "error",
          "ename": "ValueError",
          "evalue": "incomplete format",
          "traceback": [
            "\u001b[0;31m---------------------------------------------------------------------------\u001b[0m",
            "\u001b[0;31mValueError\u001b[0m                                Traceback (most recent call last)",
            "\u001b[0;32m<ipython-input-28-061de263c4b7>\u001b[0m in \u001b[0;36m<cell line: 0>\u001b[0;34m()\u001b[0m\n\u001b[0;32m----> 1\u001b[0;31m \u001b[0;34m\"Error is %d%.\"\u001b[0m \u001b[0;34m%\u001b[0m \u001b[0;36m98\u001b[0m\u001b[0;34m\u001b[0m\u001b[0;34m\u001b[0m\u001b[0m\n\u001b[0m",
            "\u001b[0;31mValueError\u001b[0m: incomplete format"
          ]
        }
      ]
    },
    {
      "cell_type": "code",
      "source": [
        "\"Error is %d%%.\" % 98"
      ],
      "metadata": {
        "id": "3NfF5NGRMh2h",
        "colab": {
          "base_uri": "https://localhost:8080/",
          "height": 35
        },
        "outputId": "27b4c7a0-6a81-42e6-e1f8-48d3a49a8a8a"
      },
      "execution_count": null,
      "outputs": [
        {
          "output_type": "execute_result",
          "data": {
            "text/plain": [
              "'Error is 98%.'"
            ],
            "application/vnd.google.colaboratory.intrinsic+json": {
              "type": "string"
            }
          },
          "metadata": {},
          "execution_count": 29
        }
      ]
    },
    {
      "cell_type": "code",
      "source": [
        "# %s 는 어떤 형태의 값이든 변환해 넣을 수 있다\n",
        "\n",
        "print(\"I have %s apples\" % 3)\n",
        "print(\"rate is %s\" % 3.234)"
      ],
      "metadata": {
        "colab": {
          "base_uri": "https://localhost:8080/"
        },
        "id": "vcv7yfX7MmpT",
        "outputId": "525db6b9-078b-42bc-df09-2825d42609d4"
      },
      "execution_count": null,
      "outputs": [
        {
          "output_type": "stream",
          "name": "stdout",
          "text": [
            "I have 3 apples\n",
            "rate is 3.234\n"
          ]
        }
      ]
    },
    {
      "cell_type": "markdown",
      "source": [
        "###10. 포맷 코드와 숫자 함께 사용하기"
      ],
      "metadata": {
        "id": "drZUlnZWAA0Z"
      }
    },
    {
      "cell_type": "code",
      "source": [
        "# 정렬과 공백\n",
        "\n",
        "print(\"%10s\" % \"hi\")\n",
        "print(\"%-10sjane.\" % \"hi\")"
      ],
      "metadata": {
        "colab": {
          "base_uri": "https://localhost:8080/"
        },
        "id": "b5gnF4GjOyaf",
        "outputId": "fb9efc2d-3356-4bf4-ea49-128dfba8549d"
      },
      "execution_count": null,
      "outputs": [
        {
          "output_type": "stream",
          "name": "stdout",
          "text": [
            "        hi\n",
            "hi        jane.\n"
          ]
        }
      ]
    },
    {
      "cell_type": "code",
      "source": [
        "# 소수점 표현하기\n",
        "\n",
        "print(\"%0.4f\" % 3.42134234)\n",
        "print(\"%10.4f\" % 3.42134234)"
      ],
      "metadata": {
        "colab": {
          "base_uri": "https://localhost:8080/"
        },
        "id": "TnIoAsOkO6Ta",
        "outputId": "69620e4a-807d-40e9-f86b-77b4ae95abab"
      },
      "execution_count": null,
      "outputs": [
        {
          "output_type": "stream",
          "name": "stdout",
          "text": [
            "3.4213\n",
            "    3.4213\n"
          ]
        }
      ]
    },
    {
      "cell_type": "code",
      "source": [
        "print(\"%2.3f\" % 3.141592)\n",
        "print(\"%2.3f\" % 1.2) # %x.y에서 x, y는 출력되는 최소 길이"
      ],
      "metadata": {
        "colab": {
          "base_uri": "https://localhost:8080/"
        },
        "id": "6sNbxWHDPEeP",
        "outputId": "3011e889-328d-4f44-de9c-3eaf4efff08a"
      },
      "execution_count": null,
      "outputs": [
        {
          "output_type": "stream",
          "name": "stdout",
          "text": [
            "3.142\n",
            "1.200\n"
          ]
        }
      ]
    },
    {
      "cell_type": "markdown",
      "source": [
        "###11. format 함수를 사용한 포매팅"
      ],
      "metadata": {
        "id": "Uancb0U9ADsR"
      }
    },
    {
      "cell_type": "code",
      "source": [
        "# 숫자 바로 대입하기\n",
        "\n",
        "\"I eat {0} apples\".format(3)"
      ],
      "metadata": {
        "id": "HlI_FB5iPxNX",
        "colab": {
          "base_uri": "https://localhost:8080/",
          "height": 35
        },
        "outputId": "37258c64-1179-416f-c2c1-9e50f44b99ff"
      },
      "execution_count": null,
      "outputs": [
        {
          "output_type": "execute_result",
          "data": {
            "text/plain": [
              "'I eat 3 apples'"
            ],
            "application/vnd.google.colaboratory.intrinsic+json": {
              "type": "string"
            }
          },
          "metadata": {},
          "execution_count": 35
        }
      ]
    },
    {
      "cell_type": "code",
      "source": [
        "# 문자열 바로 대입하기\n",
        "\n",
        "\"I eat {0} apples\".format(\"five\")"
      ],
      "metadata": {
        "colab": {
          "base_uri": "https://localhost:8080/",
          "height": 35
        },
        "id": "7n_Lsi9uP2ha",
        "outputId": "98d3a0ce-4f28-4458-e05b-7f5aee210b31"
      },
      "execution_count": null,
      "outputs": [
        {
          "output_type": "execute_result",
          "data": {
            "text/plain": [
              "'I eat five apples'"
            ],
            "application/vnd.google.colaboratory.intrinsic+json": {
              "type": "string"
            }
          },
          "metadata": {},
          "execution_count": 36
        }
      ]
    },
    {
      "cell_type": "code",
      "source": [
        "# 숫자 값을 가진 변수로 대입하기\n",
        "\n",
        "number = 3\n",
        "\"I eat {0} apples\".format(number)"
      ],
      "metadata": {
        "colab": {
          "base_uri": "https://localhost:8080/",
          "height": 35
        },
        "id": "xik-6QwyP5wC",
        "outputId": "fd051735-dbce-4bf9-87ae-798bcc08a752"
      },
      "execution_count": null,
      "outputs": [
        {
          "output_type": "execute_result",
          "data": {
            "text/plain": [
              "'I eat 3 apples'"
            ],
            "application/vnd.google.colaboratory.intrinsic+json": {
              "type": "string"
            }
          },
          "metadata": {},
          "execution_count": 37
        }
      ]
    },
    {
      "cell_type": "code",
      "source": [
        "# 2개 이상의 값 넣기\n",
        "\n",
        "number = 10\n",
        "day = \"three\"\n",
        "print(\"I ate {0} apples. so I was sick for {1} days.\".format(number, day))\n",
        "\n",
        "# {0}, {1}과 같은 인덱스 항목이 format 함수의 입력값으로 순서에 맞게 바뀜.\n",
        "print(\"I ate {1} apples. so I was sick for {0} days.\".format(day, number))"
      ],
      "metadata": {
        "colab": {
          "base_uri": "https://localhost:8080/"
        },
        "id": "QwojbBpXQo62",
        "outputId": "78cceba4-53ba-4a80-805e-393dde610cd0"
      },
      "execution_count": null,
      "outputs": [
        {
          "output_type": "stream",
          "name": "stdout",
          "text": [
            "I ate 10 apples. so I was sick for three days.\n",
            "I ate 10 apples. so I was sick for three days.\n"
          ]
        }
      ]
    },
    {
      "cell_type": "code",
      "source": [
        "# 이름으로 넣기\n",
        "\n",
        "\"I ate {number} apples. so I was sick for {day} days.\".format(number = 10, day = 3)"
      ],
      "metadata": {
        "colab": {
          "base_uri": "https://localhost:8080/",
          "height": 35
        },
        "id": "TLm7YXYAQmxC",
        "outputId": "4c7484dc-3927-467e-8f56-f7c9f24c6af5"
      },
      "execution_count": null,
      "outputs": [
        {
          "output_type": "execute_result",
          "data": {
            "text/plain": [
              "'I ate 10 apples. so I was sick for 3 days.'"
            ],
            "application/vnd.google.colaboratory.intrinsic+json": {
              "type": "string"
            }
          },
          "metadata": {},
          "execution_count": 39
        }
      ]
    },
    {
      "cell_type": "code",
      "source": [
        "# 인덱스와 이름을 혼용해서 넣기\n",
        "\n",
        "\"I ate {0} apples. so I was sick for {day} days.\".format(10, day=3)"
      ],
      "metadata": {
        "colab": {
          "base_uri": "https://localhost:8080/",
          "height": 35
        },
        "id": "Jp7c4kNNQWPD",
        "outputId": "67b4bf6c-4ab7-4a70-ece4-823c723bdd40"
      },
      "execution_count": null,
      "outputs": [
        {
          "output_type": "execute_result",
          "data": {
            "text/plain": [
              "'I ate 10 apples. so I was sick for 3 days.'"
            ],
            "application/vnd.google.colaboratory.intrinsic+json": {
              "type": "string"
            }
          },
          "metadata": {},
          "execution_count": 40
        }
      ]
    },
    {
      "cell_type": "code",
      "source": [
        "# 왼쪽 정렬\n",
        "print(\"{0:<10}\".format(\"hi\"))\n",
        "\n",
        "# 오른쪽 정렬\n",
        "print(\"{0:>10}\".format(\"hi\"))\n",
        "\n",
        "# 가운데 정렬\n",
        "print(\"{0:^10}\".format(\"hi\"))"
      ],
      "metadata": {
        "colab": {
          "base_uri": "https://localhost:8080/"
        },
        "id": "WPjGbedcQizx",
        "outputId": "36b63d72-ac64-4799-a2b9-ba096e81f5cc"
      },
      "execution_count": null,
      "outputs": [
        {
          "output_type": "stream",
          "name": "stdout",
          "text": [
            "hi        \n",
            "        hi\n",
            "    hi    \n"
          ]
        }
      ]
    },
    {
      "cell_type": "code",
      "source": [
        "# 공백 채우기\n",
        "\n",
        "print(\"{0:=^10}\".format(\"hi\"))\n",
        "print(\"{0:!<10}\".format(\"hi\"))"
      ],
      "metadata": {
        "colab": {
          "base_uri": "https://localhost:8080/"
        },
        "id": "PqM8QC7sQy8t",
        "outputId": "0fe7cb6c-2b35-4e9d-b7ae-4480667eb06d"
      },
      "execution_count": null,
      "outputs": [
        {
          "output_type": "stream",
          "name": "stdout",
          "text": [
            "====hi====\n",
            "hi!!!!!!!!\n"
          ]
        }
      ]
    },
    {
      "cell_type": "code",
      "source": [
        "# 소수점 표현하기\n",
        "\n",
        "y = 3.42134234\n",
        "print(\"{0:0.4f}\".format(y))\n",
        "print(\"{0:10.4f}\".format(y))"
      ],
      "metadata": {
        "colab": {
          "base_uri": "https://localhost:8080/"
        },
        "id": "0mLrPSsLQ5ot",
        "outputId": "aea15608-d13b-4981-d143-3d8358570c2d"
      },
      "execution_count": null,
      "outputs": [
        {
          "output_type": "stream",
          "name": "stdout",
          "text": [
            "3.4213\n",
            "    3.4213\n"
          ]
        }
      ]
    },
    {
      "cell_type": "code",
      "source": [
        "# { 또는 } 문자 표현하기\n",
        "\n",
        "\"{{ and }}\".format() # {{}}처럼 2개를 연속해서 사용"
      ],
      "metadata": {
        "colab": {
          "base_uri": "https://localhost:8080/",
          "height": 35
        },
        "id": "3BVZ_apvRGp1",
        "outputId": "337ca166-b9f2-4b33-da92-482b87141364"
      },
      "execution_count": null,
      "outputs": [
        {
          "output_type": "execute_result",
          "data": {
            "text/plain": [
              "'{ and }'"
            ],
            "application/vnd.google.colaboratory.intrinsic+json": {
              "type": "string"
            }
          },
          "metadata": {},
          "execution_count": 45
        }
      ]
    },
    {
      "cell_type": "markdown",
      "source": [
        "###12. f 문자열 포매팅"
      ],
      "metadata": {
        "id": "8OdVqGS0AF3d"
      }
    },
    {
      "cell_type": "code",
      "source": [
        "name = '홍길동'\n",
        "age = '30'\n",
        "\n",
        "f'나의 이름은 {name}입니다. 나이는 {age}입니다.' # 변수 참조 가능"
      ],
      "metadata": {
        "colab": {
          "base_uri": "https://localhost:8080/",
          "height": 35
        },
        "id": "y0UgnEuERclD",
        "outputId": "c2a44eb0-0cb5-47f4-bb61-c5902ef18a32"
      },
      "execution_count": null,
      "outputs": [
        {
          "output_type": "execute_result",
          "data": {
            "text/plain": [
              "'나의 이름은 홍길동입니다. 나이는 30입니다.'"
            ],
            "application/vnd.google.colaboratory.intrinsic+json": {
              "type": "string"
            }
          },
          "metadata": {},
          "execution_count": 49
        }
      ]
    },
    {
      "cell_type": "code",
      "source": [
        "# 표현식(계산식과 함께 사용) 지원\n",
        "\n",
        "f'나는 내년이면 {age * 3}살이 된다.'"
      ],
      "metadata": {
        "colab": {
          "base_uri": "https://localhost:8080/",
          "height": 35
        },
        "id": "PdlAyb4DRptu",
        "outputId": "9308b26a-8811-4637-f772-a6ab15acec03"
      },
      "execution_count": null,
      "outputs": [
        {
          "output_type": "execute_result",
          "data": {
            "text/plain": [
              "'나는 내년이면 303030살이 된다.'"
            ],
            "application/vnd.google.colaboratory.intrinsic+json": {
              "type": "string"
            }
          },
          "metadata": {},
          "execution_count": 50
        }
      ]
    },
    {
      "cell_type": "code",
      "source": [
        "# 딕셔너리 f 문자열 포매팅 사용법\n",
        "\n",
        "d = {'name':'홍길동', 'age':30}\n",
        "\n",
        "f'나의 이름은 {d[\"name\"]}입니다. 나이는 {d[\"age\"]}입니다.'"
      ],
      "metadata": {
        "colab": {
          "base_uri": "https://localhost:8080/",
          "height": 35
        },
        "id": "2bD5xyq-Rwdi",
        "outputId": "c7b0ab45-ee0b-4c95-fba6-1f071d519832"
      },
      "execution_count": null,
      "outputs": [
        {
          "output_type": "execute_result",
          "data": {
            "text/plain": [
              "'나의 이름은 홍길동입니다. 나이는 30입니다.'"
            ],
            "application/vnd.google.colaboratory.intrinsic+json": {
              "type": "string"
            }
          },
          "metadata": {},
          "execution_count": 51
        }
      ]
    },
    {
      "cell_type": "code",
      "source": [
        "# 정렬\n",
        "\n",
        "print(f'{\"hi\":<10}')\n",
        "print(f'{\"hi\":>10}')\n",
        "print(f'{\"hi\":^10}')"
      ],
      "metadata": {
        "colab": {
          "base_uri": "https://localhost:8080/"
        },
        "id": "Z-PvSRWlR8-t",
        "outputId": "ad1d5d2e-4598-4a50-9484-0e23ec6af21c"
      },
      "execution_count": null,
      "outputs": [
        {
          "output_type": "stream",
          "name": "stdout",
          "text": [
            "hi        \n",
            "        hi\n",
            "    hi    \n"
          ]
        }
      ]
    },
    {
      "cell_type": "code",
      "source": [
        "# 공백 채우기\n",
        "\n",
        "print(f'{\"hi\":=^10}')\n",
        "print(f'{\"hi\":!<10}')"
      ],
      "metadata": {
        "colab": {
          "base_uri": "https://localhost:8080/"
        },
        "id": "EXuud1SbR_xX",
        "outputId": "336dd5cc-a31f-4f30-9822-326498ae5020"
      },
      "execution_count": null,
      "outputs": [
        {
          "output_type": "stream",
          "name": "stdout",
          "text": [
            "====hi====\n",
            "hi!!!!!!!!\n"
          ]
        }
      ]
    },
    {
      "cell_type": "code",
      "source": [
        "# 소수점 표현\n",
        "\n",
        "y = 3.42134234\n",
        "print(f'{y:0.4f}')\n",
        "print(f'{y:10.4f}')"
      ],
      "metadata": {
        "colab": {
          "base_uri": "https://localhost:8080/"
        },
        "id": "iLtskyB7SCFd",
        "outputId": "3fe3d7b1-6e10-4f71-d8ba-760242ba98ba"
      },
      "execution_count": null,
      "outputs": [
        {
          "output_type": "stream",
          "name": "stdout",
          "text": [
            "3.4213\n",
            "    3.4213\n"
          ]
        }
      ]
    },
    {
      "cell_type": "code",
      "source": [
        "# { } 문자 그대로 표시\n",
        "\n",
        "print(f'{{ and }}')"
      ],
      "metadata": {
        "colab": {
          "base_uri": "https://localhost:8080/"
        },
        "id": "Hu_geovESEpY",
        "outputId": "55802434-2259-4f7c-9b7e-3ba0573be104"
      },
      "execution_count": null,
      "outputs": [
        {
          "output_type": "stream",
          "name": "stdout",
          "text": [
            "{ and }\n"
          ]
        }
      ]
    },
    {
      "cell_type": "code",
      "source": [
        "# f 문자열을 사용하여 금액에 콤마(,) 삽입하기\n",
        "\n",
        "f\"난 {1500000:,}원이 필요해\""
      ],
      "metadata": {
        "colab": {
          "base_uri": "https://localhost:8080/",
          "height": 35
        },
        "id": "xdwM8tEGSUNs",
        "outputId": "6494b385-6522-439d-f3aa-cd8c810586cd"
      },
      "execution_count": null,
      "outputs": [
        {
          "output_type": "execute_result",
          "data": {
            "text/plain": [
              "'난 1,500,000원이 필요해'"
            ],
            "application/vnd.google.colaboratory.intrinsic+json": {
              "type": "string"
            }
          },
          "metadata": {},
          "execution_count": 53
        }
      ]
    },
    {
      "cell_type": "markdown",
      "source": [
        "###13. 문자열 관련 함수들"
      ],
      "metadata": {
        "id": "hw-SS4-cAJGU"
      }
    },
    {
      "cell_type": "code",
      "source": [
        "# 문자 개수 세기 - count\n",
        "\n",
        "a = \"hobby\"\n",
        "a.count('b')"
      ],
      "metadata": {
        "colab": {
          "base_uri": "https://localhost:8080/"
        },
        "id": "kRrOWcaOScz2",
        "outputId": "9c678d80-c768-4913-f59c-b13a04784ef0"
      },
      "execution_count": null,
      "outputs": [
        {
          "output_type": "execute_result",
          "data": {
            "text/plain": [
              "2"
            ]
          },
          "metadata": {},
          "execution_count": 54
        }
      ]
    },
    {
      "cell_type": "code",
      "source": [
        "# 위치 알려주기 1 - find\n",
        "\n",
        "a = \"Python is the best choice\"\n",
        "print(a.find('b'))\n",
        "print(a.find('k')) # 찾는 문자가 존재하지 않는다면 -1 반환"
      ],
      "metadata": {
        "colab": {
          "base_uri": "https://localhost:8080/"
        },
        "id": "xEG4bFGUSlZx",
        "outputId": "d188c8dd-c824-4518-94f4-77985a073222"
      },
      "execution_count": null,
      "outputs": [
        {
          "output_type": "stream",
          "name": "stdout",
          "text": [
            "14\n",
            "-1\n"
          ]
        }
      ]
    },
    {
      "cell_type": "code",
      "source": [
        "# 위치 알려주기 2 - index\n",
        "\n",
        "a = \"Life is too short\"\n",
        "print(a.index('t'))\n",
        "print(a.index('k')) # 찾는 문자가 존재하지 않는다면 오류 발생"
      ],
      "metadata": {
        "colab": {
          "base_uri": "https://localhost:8080/",
          "height": 205
        },
        "id": "6NJmjs3xSpWV",
        "outputId": "a3b3e897-43dc-468a-edcc-7dec6deef204"
      },
      "execution_count": null,
      "outputs": [
        {
          "output_type": "stream",
          "name": "stdout",
          "text": [
            "8\n"
          ]
        },
        {
          "output_type": "error",
          "ename": "ValueError",
          "evalue": "substring not found",
          "traceback": [
            "\u001b[0;31m---------------------------------------------------------------------------\u001b[0m",
            "\u001b[0;31mValueError\u001b[0m                                Traceback (most recent call last)",
            "\u001b[0;32m<ipython-input-56-0e0353b2b5bd>\u001b[0m in \u001b[0;36m<cell line: 0>\u001b[0;34m()\u001b[0m\n\u001b[1;32m      3\u001b[0m \u001b[0ma\u001b[0m \u001b[0;34m=\u001b[0m \u001b[0;34m\"Life is too short\"\u001b[0m\u001b[0;34m\u001b[0m\u001b[0;34m\u001b[0m\u001b[0m\n\u001b[1;32m      4\u001b[0m \u001b[0mprint\u001b[0m\u001b[0;34m(\u001b[0m\u001b[0ma\u001b[0m\u001b[0;34m.\u001b[0m\u001b[0mindex\u001b[0m\u001b[0;34m(\u001b[0m\u001b[0;34m't'\u001b[0m\u001b[0;34m)\u001b[0m\u001b[0;34m)\u001b[0m\u001b[0;34m\u001b[0m\u001b[0;34m\u001b[0m\u001b[0m\n\u001b[0;32m----> 5\u001b[0;31m \u001b[0mprint\u001b[0m\u001b[0;34m(\u001b[0m\u001b[0ma\u001b[0m\u001b[0;34m.\u001b[0m\u001b[0mindex\u001b[0m\u001b[0;34m(\u001b[0m\u001b[0;34m'k'\u001b[0m\u001b[0;34m)\u001b[0m\u001b[0;34m)\u001b[0m \u001b[0;31m# 찾는 문자가 존재하지 않는다면 오류 발생\u001b[0m\u001b[0;34m\u001b[0m\u001b[0;34m\u001b[0m\u001b[0m\n\u001b[0m",
            "\u001b[0;31mValueError\u001b[0m: substring not found"
          ]
        }
      ]
    },
    {
      "cell_type": "code",
      "source": [
        "# 문자열 삽입 - join\n",
        "\n",
        "print(\",\".join('abcd'))\n",
        "print(\",\".join(['a', 'b', 'c', 'd']))"
      ],
      "metadata": {
        "colab": {
          "base_uri": "https://localhost:8080/"
        },
        "id": "giSA_JIxS3pn",
        "outputId": "e41d97bb-ea2d-46d4-f2c3-8fd6c7290547"
      },
      "execution_count": null,
      "outputs": [
        {
          "output_type": "stream",
          "name": "stdout",
          "text": [
            "a,b,c,d\n",
            "a,b,c,d\n"
          ]
        }
      ]
    },
    {
      "cell_type": "code",
      "source": [
        "# 소문자를 대문자로 바꾸기 - upper\n",
        "\n",
        "a = \"hi\"\n",
        "print(a.upper())\n",
        "\n",
        "print(a) # 값 자체가 바뀐건 아님\n",
        "a = a.upper()\n",
        "print(a)"
      ],
      "metadata": {
        "colab": {
          "base_uri": "https://localhost:8080/"
        },
        "id": "BDNaw8qzTHLn",
        "outputId": "1290537c-69aa-4ca7-e830-7ab75af20a45"
      },
      "execution_count": null,
      "outputs": [
        {
          "output_type": "stream",
          "name": "stdout",
          "text": [
            "HI\n",
            "hi\n",
            "HI\n"
          ]
        }
      ]
    },
    {
      "cell_type": "code",
      "source": [
        "# 대문자를 소문자로 바꾸기 - lower\n",
        "\n",
        "a = \"HI\"\n",
        "a.lower()"
      ],
      "metadata": {
        "colab": {
          "base_uri": "https://localhost:8080/",
          "height": 36
        },
        "id": "ozyHX4EzTNrj",
        "outputId": "292e739c-efd7-44ff-b904-0f4b6b920584"
      },
      "execution_count": null,
      "outputs": [
        {
          "output_type": "execute_result",
          "data": {
            "text/plain": [
              "'hi'"
            ],
            "application/vnd.google.colaboratory.intrinsic+json": {
              "type": "string"
            }
          },
          "metadata": {},
          "execution_count": 59
        }
      ]
    },
    {
      "cell_type": "code",
      "source": [
        "# 공백 지우기\n",
        "\n",
        "a = \" hi \"\n",
        "print(a.lstrip()) # 왼쪽 공백 지우기\n",
        "print(a.rstrip()) # 오른쪽 공백 지우기\n",
        "print(a.strip()) # 양쪽 공백 지우기"
      ],
      "metadata": {
        "colab": {
          "base_uri": "https://localhost:8080/"
        },
        "id": "UCprxdKKTTG0",
        "outputId": "d6a576f2-671f-41dd-9d8b-dc81ee328f0f"
      },
      "execution_count": null,
      "outputs": [
        {
          "output_type": "stream",
          "name": "stdout",
          "text": [
            "hi \n",
            " hi\n",
            "hi\n"
          ]
        }
      ]
    },
    {
      "cell_type": "code",
      "source": [
        "# 문자열 바꾸기 - replace\n",
        "\n",
        "a = \"Life is too short Life\"\n",
        "a.replace(\"Life\", \"Your leg\")"
      ],
      "metadata": {
        "colab": {
          "base_uri": "https://localhost:8080/",
          "height": 36
        },
        "id": "PY2S7w6mTjvQ",
        "outputId": "f7de9d62-52ca-47a0-8da2-a4cfc626c794"
      },
      "execution_count": null,
      "outputs": [
        {
          "output_type": "execute_result",
          "data": {
            "text/plain": [
              "'Your leg is too short Your leg'"
            ],
            "application/vnd.google.colaboratory.intrinsic+json": {
              "type": "string"
            }
          },
          "metadata": {},
          "execution_count": 61
        }
      ]
    },
    {
      "cell_type": "code",
      "source": [
        "# 문자열 나누기 - split\n",
        "\n",
        "a = \"Life is too short\"\n",
        "print(a.split(' ')) # 공백을 기준으로 문자열 나눔\n",
        "\n",
        "b = \"a:b:c:d\"\n",
        "print(b.split(':')) # ':'을 기준으로 문자열 나눔"
      ],
      "metadata": {
        "colab": {
          "base_uri": "https://localhost:8080/"
        },
        "id": "BBPTAtEjTr0Q",
        "outputId": "e95b631b-c065-4c86-c500-ac5decf05338"
      },
      "execution_count": null,
      "outputs": [
        {
          "output_type": "stream",
          "name": "stdout",
          "text": [
            "['Life', 'is', 'too', 'short']\n",
            "['a', 'b', 'c', 'd']\n"
          ]
        }
      ]
    },
    {
      "cell_type": "markdown",
      "source": [
        "##02-3 리스트 자료형"
      ],
      "metadata": {
        "id": "gUYMWH-y-gF_"
      }
    },
    {
      "cell_type": "markdown",
      "source": [
        "###1. 리스트는 어떻게 만들고 사용할까?\n",
        "\n",
        ">리스트명 = [요소1, 요소2, 요소3, ...]\n",
        "\n",
        "대괄호[ ]로 감싸 주고 각 요솟값은 쉼표, 로 구분"
      ],
      "metadata": {
        "id": "Ygr_KF6YULKi"
      }
    },
    {
      "cell_type": "code",
      "source": [
        "odd = [1, 3, 5, 7, 9]\n",
        "a = [] # 비어 있는 리스트는 a = list()로 생성할 수 있음.\n",
        "b = [1, 2, 3]\n",
        "c = ['Life', 'is', 'too', 'short']\n",
        "d = [1, 2, 'Life', 'is']\n",
        "e = [1, 2, ['Life', 'is']]\n",
        "\n",
        "# 리스트 안에는 어떠한 자료형도 포함할 수 있다"
      ],
      "metadata": {
        "id": "a5CL4TXtUns5"
      },
      "execution_count": null,
      "outputs": []
    },
    {
      "cell_type": "markdown",
      "source": [
        "###2. 리스트의 인덱싱과 슬라이싱"
      ],
      "metadata": {
        "id": "izwUY4u8UPPB"
      }
    },
    {
      "cell_type": "markdown",
      "source": [
        "####리스트의 인덱싱"
      ],
      "metadata": {
        "id": "i7erngqTYlNy"
      }
    },
    {
      "cell_type": "code",
      "source": [
        "a = [1, 2, 3]\n",
        "print(a)\n",
        "\n",
        "print(a[0])\n",
        "print(a[0] + a[2])\n",
        "print(a[-1])"
      ],
      "metadata": {
        "colab": {
          "base_uri": "https://localhost:8080/"
        },
        "id": "EpTW4Nb7VWIR",
        "outputId": "d244fc42-241a-4d34-c85a-185b28e9afc6"
      },
      "execution_count": null,
      "outputs": [
        {
          "output_type": "stream",
          "name": "stdout",
          "text": [
            "[1, 2, 3]\n",
            "1\n",
            "4\n",
            "3\n"
          ]
        }
      ]
    },
    {
      "cell_type": "code",
      "source": [
        "a = [1, 2, 3, ['a', 'b', 'c']]\n",
        "\n",
        "print(a[0])\n",
        "print(a[-1])\n",
        "print(a[3])\n",
        "\n",
        "print(a[-1][0], a[-1][1], a[-1][2])"
      ],
      "metadata": {
        "colab": {
          "base_uri": "https://localhost:8080/"
        },
        "id": "xiQ6ivdEYGjr",
        "outputId": "1b40fed9-f518-4b1b-9d49-e0cae0ad70d3"
      },
      "execution_count": null,
      "outputs": [
        {
          "output_type": "stream",
          "name": "stdout",
          "text": [
            "1\n",
            "['a', 'b', 'c']\n",
            "['a', 'b', 'c']\n",
            "a b c\n"
          ]
        }
      ]
    },
    {
      "cell_type": "code",
      "source": [
        "# 삼중 리스트에서 인덱싱하기\n",
        "\n",
        "a = [1, 2, ['a', 'b', ['Life', 'is']]]\n",
        "\n",
        "print(a[2][2][0])"
      ],
      "metadata": {
        "colab": {
          "base_uri": "https://localhost:8080/"
        },
        "id": "0yXHRIEJYd18",
        "outputId": "34fb0bcf-7e13-4e1c-ea40-4dfdebbb2493"
      },
      "execution_count": null,
      "outputs": [
        {
          "output_type": "stream",
          "name": "stdout",
          "text": [
            "Life\n"
          ]
        }
      ]
    },
    {
      "cell_type": "markdown",
      "source": [
        "####리스트의 슬라이싱"
      ],
      "metadata": {
        "id": "nSvEcDLuYpXk"
      }
    },
    {
      "cell_type": "code",
      "source": [
        "a = [1, 2, 3, 4, 5]\n",
        "print(a[0:2])\n",
        "\n",
        "a = \"12345\"\n",
        "print(a[0:2])"
      ],
      "metadata": {
        "colab": {
          "base_uri": "https://localhost:8080/"
        },
        "id": "lVmsWPSZYsCN",
        "outputId": "c8fd38b3-dcbb-4dd7-fbff-01e826724e0d"
      },
      "execution_count": null,
      "outputs": [
        {
          "output_type": "stream",
          "name": "stdout",
          "text": [
            "[1, 2]\n",
            "12\n"
          ]
        }
      ]
    },
    {
      "cell_type": "code",
      "source": [
        "a = [1, 2, 3, 4, 5]\n",
        "b = a[:2]\n",
        "c = a[2:]\n",
        "\n",
        "print(b)\n",
        "print(c)"
      ],
      "metadata": {
        "colab": {
          "base_uri": "https://localhost:8080/"
        },
        "id": "I33evL50YwNS",
        "outputId": "a8485f92-a0b3-4b05-ffa5-e74373f7e2bc"
      },
      "execution_count": null,
      "outputs": [
        {
          "output_type": "stream",
          "name": "stdout",
          "text": [
            "[1, 2]\n",
            "[3, 4, 5]\n"
          ]
        }
      ]
    },
    {
      "cell_type": "code",
      "source": [
        "# 중첩된 리스트에서 슬라이싱하기\n",
        "\n",
        "a = [1, 2, 3, ['a', 'b', 'c'], 4, 5]\n",
        "print(a[2:5])\n",
        "print(a[3][:2])"
      ],
      "metadata": {
        "colab": {
          "base_uri": "https://localhost:8080/"
        },
        "id": "GaI88gdZY4WA",
        "outputId": "267578eb-3e41-444e-82cb-6c232a86ea30"
      },
      "execution_count": null,
      "outputs": [
        {
          "output_type": "stream",
          "name": "stdout",
          "text": [
            "[3, ['a', 'b', 'c'], 4]\n",
            "['a', 'b']\n"
          ]
        }
      ]
    },
    {
      "cell_type": "markdown",
      "source": [
        "###3. 리스트 연산하기"
      ],
      "metadata": {
        "id": "9AH4_7T7UU47"
      }
    },
    {
      "cell_type": "code",
      "source": [
        "# 리스트 더하기(+)\n",
        "\n",
        "a = [1, 2, 3]\n",
        "b = [4, 5, 6]\n",
        "\n",
        "a + b"
      ],
      "metadata": {
        "colab": {
          "base_uri": "https://localhost:8080/"
        },
        "id": "nayPekGdVSNy",
        "outputId": "8da2cda8-29c8-42cc-99c2-6f702b993c8c"
      },
      "execution_count": null,
      "outputs": [
        {
          "output_type": "execute_result",
          "data": {
            "text/plain": [
              "[1, 2, 3, 4, 5, 6]"
            ]
          },
          "metadata": {},
          "execution_count": 119
        }
      ]
    },
    {
      "cell_type": "code",
      "source": [
        "# 리스트 반복하기 (*)\n",
        "\n",
        "a = [1, 2, 3]\n",
        "\n",
        "a * 3"
      ],
      "metadata": {
        "colab": {
          "base_uri": "https://localhost:8080/"
        },
        "id": "JS4VVHSzZIgX",
        "outputId": "4bd4e325-12d5-4468-d870-7ae7a898c4ee"
      },
      "execution_count": null,
      "outputs": [
        {
          "output_type": "execute_result",
          "data": {
            "text/plain": [
              "[1, 2, 3, 1, 2, 3, 1, 2, 3]"
            ]
          },
          "metadata": {},
          "execution_count": 120
        }
      ]
    },
    {
      "cell_type": "code",
      "source": [
        "# 리스트 길이 구하기\n",
        "\n",
        "a = [1, 2, 3]\n",
        "\n",
        "len(a) # 문자열, 리스트 외에 튜플 딕셔너리에도 사용할 수 있는 함수"
      ],
      "metadata": {
        "colab": {
          "base_uri": "https://localhost:8080/"
        },
        "id": "Mx9uRO-MZNqC",
        "outputId": "593b87c7-3488-4ce4-836a-a89267076d93"
      },
      "execution_count": null,
      "outputs": [
        {
          "output_type": "execute_result",
          "data": {
            "text/plain": [
              "3"
            ]
          },
          "metadata": {},
          "execution_count": 121
        }
      ]
    },
    {
      "cell_type": "markdown",
      "source": [
        "####초보자가 범하기 쉬운 리스트 연산 오류"
      ],
      "metadata": {
        "id": "iXCbSe84ZbFq"
      }
    },
    {
      "cell_type": "code",
      "source": [
        "a = [1, 2, 3]\n",
        "a[2] + \"hi\""
      ],
      "metadata": {
        "id": "z1Bd1m9rZgCL",
        "colab": {
          "base_uri": "https://localhost:8080/",
          "height": 168
        },
        "outputId": "5fe549ad-d1b2-432c-c5a7-0d3c76707926"
      },
      "execution_count": null,
      "outputs": [
        {
          "output_type": "error",
          "ename": "TypeError",
          "evalue": "'str' object is not callable",
          "traceback": [
            "\u001b[0;31m---------------------------------------------------------------------------\u001b[0m",
            "\u001b[0;31mTypeError\u001b[0m                                 Traceback (most recent call last)",
            "\u001b[0;32m<ipython-input-76-f30fd3df6c89>\u001b[0m in \u001b[0;36m<cell line: 0>\u001b[0;34m()\u001b[0m\n\u001b[1;32m      1\u001b[0m \u001b[0ma\u001b[0m \u001b[0;34m=\u001b[0m \u001b[0;34m[\u001b[0m\u001b[0;36m1\u001b[0m\u001b[0;34m,\u001b[0m \u001b[0;36m2\u001b[0m\u001b[0;34m,\u001b[0m \u001b[0;36m3\u001b[0m\u001b[0;34m]\u001b[0m\u001b[0;34m\u001b[0m\u001b[0;34m\u001b[0m\u001b[0m\n\u001b[0;32m----> 2\u001b[0;31m \u001b[0mstr\u001b[0m\u001b[0;34m(\u001b[0m\u001b[0ma\u001b[0m\u001b[0;34m[\u001b[0m\u001b[0;36m2\u001b[0m\u001b[0;34m]\u001b[0m\u001b[0;34m)\u001b[0m \u001b[0;34m+\u001b[0m \u001b[0;34m\"hi\"\u001b[0m\u001b[0;34m\u001b[0m\u001b[0;34m\u001b[0m\u001b[0m\n\u001b[0m",
            "\u001b[0;31mTypeError\u001b[0m: 'str' object is not callable"
          ]
        }
      ]
    },
    {
      "cell_type": "code",
      "source": [
        "str(a[2]) + \"hi\""
      ],
      "metadata": {
        "id": "LdNXDFoYzyV-",
        "colab": {
          "base_uri": "https://localhost:8080/",
          "height": 149
        },
        "outputId": "48cd19ff-fa03-4044-b43b-901c6bc19170"
      },
      "execution_count": null,
      "outputs": [
        {
          "output_type": "error",
          "ename": "TypeError",
          "evalue": "'str' object is not callable",
          "traceback": [
            "\u001b[0;31m---------------------------------------------------------------------------\u001b[0m",
            "\u001b[0;31mTypeError\u001b[0m                                 Traceback (most recent call last)",
            "\u001b[0;32m<ipython-input-75-036c748f4206>\u001b[0m in \u001b[0;36m<cell line: 0>\u001b[0;34m()\u001b[0m\n\u001b[0;32m----> 1\u001b[0;31m \u001b[0mstr\u001b[0m\u001b[0;34m(\u001b[0m\u001b[0ma\u001b[0m\u001b[0;34m[\u001b[0m\u001b[0;36m2\u001b[0m\u001b[0;34m]\u001b[0m\u001b[0;34m)\u001b[0m \u001b[0;34m+\u001b[0m \u001b[0;34m\"hi\"\u001b[0m\u001b[0;34m\u001b[0m\u001b[0;34m\u001b[0m\u001b[0m\n\u001b[0m",
            "\u001b[0;31mTypeError\u001b[0m: 'str' object is not callable"
          ]
        }
      ]
    },
    {
      "cell_type": "markdown",
      "source": [
        "###4. 리스트의 수정과 삭제"
      ],
      "metadata": {
        "id": "6ATaAAuXUXd8"
      }
    },
    {
      "cell_type": "code",
      "source": [
        "# 리스트 값 수정하기\n",
        "\n",
        "a = [1, 2, 3]\n",
        "a[2] = 4\n",
        "a"
      ],
      "metadata": {
        "colab": {
          "base_uri": "https://localhost:8080/"
        },
        "id": "uVrG0tK0z95G",
        "outputId": "1ef8f538-5009-43bd-d0f5-14b84bdfd349"
      },
      "execution_count": null,
      "outputs": [
        {
          "output_type": "execute_result",
          "data": {
            "text/plain": [
              "[1, 2, 4]"
            ]
          },
          "metadata": {},
          "execution_count": 77
        }
      ]
    },
    {
      "cell_type": "code",
      "source": [
        "# del 함수를 사용해 리스트 요소 삭제하기\n",
        "\n",
        "a = [1, 2, 3]\n",
        "del a[1]\n",
        "a"
      ],
      "metadata": {
        "colab": {
          "base_uri": "https://localhost:8080/"
        },
        "id": "e6HJRvBU0DKG",
        "outputId": "38336df1-6583-4dee-d059-2038a91e2ed0"
      },
      "execution_count": null,
      "outputs": [
        {
          "output_type": "execute_result",
          "data": {
            "text/plain": [
              "[1, 3]"
            ]
          },
          "metadata": {},
          "execution_count": 79
        }
      ]
    },
    {
      "cell_type": "markdown",
      "source": [
        ">del 객체\n",
        "\n",
        "- del 함수는 파이썬 자체적으로 가지고 있는 삭제함수\n",
        "- 객체는 파이썬에서 사용되는 모든 자료형"
      ],
      "metadata": {
        "id": "HjKCGZk10H3U"
      }
    },
    {
      "cell_type": "code",
      "source": [
        "a = [1, 2, 3, 4, 5]\n",
        "\n",
        "del a[2:]\n",
        "a"
      ],
      "metadata": {
        "colab": {
          "base_uri": "https://localhost:8080/"
        },
        "id": "OwgGF6lA0QS4",
        "outputId": "f109b264-6a98-48f9-932a-48d80ae27195"
      },
      "execution_count": null,
      "outputs": [
        {
          "output_type": "execute_result",
          "data": {
            "text/plain": [
              "[1, 2]"
            ]
          },
          "metadata": {},
          "execution_count": 80
        }
      ]
    },
    {
      "cell_type": "markdown",
      "source": [
        "###5. 리스트 관련 함수"
      ],
      "metadata": {
        "id": "pozap5zeUZos"
      }
    },
    {
      "cell_type": "code",
      "source": [
        "# 리스트에 요소 추가하기 - append\n",
        "\n",
        "a = [1, 2, 3]\n",
        "\n",
        "a.append(4)\n",
        "print(a)\n",
        "\n",
        "a.append([5,6])\n",
        "print(a)"
      ],
      "metadata": {
        "colab": {
          "base_uri": "https://localhost:8080/"
        },
        "id": "da2sLQWs0aYf",
        "outputId": "582b090a-48d1-4297-afbf-abc5a8dd668a"
      },
      "execution_count": null,
      "outputs": [
        {
          "output_type": "stream",
          "name": "stdout",
          "text": [
            "[1, 2, 3, 4]\n",
            "[1, 2, 3, 4, [5, 6]]\n"
          ]
        }
      ]
    },
    {
      "cell_type": "code",
      "source": [
        "a.append(6)\n",
        "a # a = [1, 2, 3, [5, 6], 5, 6] ?"
      ],
      "metadata": {
        "id": "XVm8DZBf0ncr",
        "colab": {
          "base_uri": "https://localhost:8080/"
        },
        "outputId": "4ba28644-4632-4a94-bd3b-75113c9a4a53"
      },
      "execution_count": null,
      "outputs": [
        {
          "output_type": "execute_result",
          "data": {
            "text/plain": [
              "[1, 2, 3, 4, [5, 6], 6]"
            ]
          },
          "metadata": {},
          "execution_count": 83
        }
      ]
    },
    {
      "cell_type": "code",
      "source": [
        "# 리스트 정렬 - sort\n",
        "\n",
        "a = [1, 4, 3, 2]\n",
        "a.sort()\n",
        "print(a)\n",
        "\n",
        "a = ['a', 'c', 'b']\n",
        "a.sort()\n",
        "print(a)"
      ],
      "metadata": {
        "colab": {
          "base_uri": "https://localhost:8080/"
        },
        "id": "r0aWivru06Ds",
        "outputId": "087c00cb-bfee-4bd8-d872-a4addcc3c0ae"
      },
      "execution_count": null,
      "outputs": [
        {
          "output_type": "stream",
          "name": "stdout",
          "text": [
            "[1, 2, 3, 4]\n",
            "['a', 'b', 'c']\n"
          ]
        }
      ]
    },
    {
      "cell_type": "code",
      "source": [
        "# 리스트 뒤집기 - reverse\n",
        "\n",
        "a = ['a', 'c', 'b']\n",
        "a.reverse()\n",
        "print(a)"
      ],
      "metadata": {
        "colab": {
          "base_uri": "https://localhost:8080/"
        },
        "id": "iRHyuj_83iS_",
        "outputId": "2ed65235-bdb8-461c-fc81-30a2580feb36"
      },
      "execution_count": null,
      "outputs": [
        {
          "output_type": "stream",
          "name": "stdout",
          "text": [
            "['b', 'c', 'a']\n"
          ]
        }
      ]
    },
    {
      "cell_type": "code",
      "source": [
        "# 인덱스 반환 - index\n",
        "\n",
        "a = [1, 2, 3]\n",
        "print(a.index(3))\n",
        "print(a.index(1))"
      ],
      "metadata": {
        "colab": {
          "base_uri": "https://localhost:8080/"
        },
        "id": "zpOzoHtJ3mA4",
        "outputId": "9e6530da-5f0a-45ad-a2b6-7c12f42cf119"
      },
      "execution_count": null,
      "outputs": [
        {
          "output_type": "stream",
          "name": "stdout",
          "text": [
            "2\n",
            "0\n"
          ]
        }
      ]
    },
    {
      "cell_type": "code",
      "source": [
        "# 리스트에 요소 삽입 - insert\n",
        "\n",
        "a = [1, 2, 3]\n",
        "a.insert(0, 4) # a.insert(위치, 값)\n",
        "print(a)\n",
        "\n",
        "a.insert(3, 5)\n",
        "print(a)"
      ],
      "metadata": {
        "colab": {
          "base_uri": "https://localhost:8080/"
        },
        "id": "zbolJENj3pgu",
        "outputId": "f0f13edb-53c5-4d07-deaa-5eb3c0850cae"
      },
      "execution_count": null,
      "outputs": [
        {
          "output_type": "stream",
          "name": "stdout",
          "text": [
            "[4, 1, 2, 3]\n",
            "[4, 1, 2, 5, 3]\n"
          ]
        }
      ]
    },
    {
      "cell_type": "code",
      "source": [
        "# 리스트 요소 제거 - remove\n",
        "\n",
        "a = [1, 2, 3, 1, 2, 3]\n",
        "a.remove(3) # remove(x)는 리스트에서 첫 번째로 나오는 x를 삭제\n",
        "print(a)\n",
        "\n",
        "a.remove(3)\n",
        "print(a)"
      ],
      "metadata": {
        "colab": {
          "base_uri": "https://localhost:8080/"
        },
        "id": "0R6pqI_B3wKT",
        "outputId": "124df758-9094-4e8a-a1ad-5c4e02289a1c"
      },
      "execution_count": null,
      "outputs": [
        {
          "output_type": "stream",
          "name": "stdout",
          "text": [
            "[1, 2, 1, 2, 3]\n",
            "[1, 2, 1, 2]\n"
          ]
        }
      ]
    },
    {
      "cell_type": "code",
      "source": [
        "# 리스트 요소 끄집어 내기 - pop\n",
        "\n",
        "a = [1, 2, 3]\n",
        "print(a.pop())\n",
        "print(a)\n",
        "\n",
        "a = [1, 2, 3]\n",
        "print(a.pop(1))\n",
        "print(a)"
      ],
      "metadata": {
        "colab": {
          "base_uri": "https://localhost:8080/"
        },
        "id": "z6AC2ivu33rF",
        "outputId": "b0135a53-28fa-4212-f4d0-b005404a1b86"
      },
      "execution_count": null,
      "outputs": [
        {
          "output_type": "stream",
          "name": "stdout",
          "text": [
            "3\n",
            "[1, 2]\n",
            "2\n",
            "[1, 3]\n"
          ]
        }
      ]
    },
    {
      "cell_type": "code",
      "source": [
        "# 리스트에 포함된 요소 x의 개수 세기 - count\n",
        "\n",
        "a = [1, 2, 3, 1]\n",
        "a.count(1)"
      ],
      "metadata": {
        "colab": {
          "base_uri": "https://localhost:8080/"
        },
        "id": "LTERokQy4IBE",
        "outputId": "b7ad1cb9-2ec2-44fb-c37d-db8feee09f67"
      },
      "execution_count": null,
      "outputs": [
        {
          "output_type": "execute_result",
          "data": {
            "text/plain": [
              "2"
            ]
          },
          "metadata": {},
          "execution_count": 91
        }
      ]
    },
    {
      "cell_type": "code",
      "source": [
        "# 리스트 확장 - extend\n",
        "\n",
        "a = [1, 2, 3]\n",
        "a.extend([4, 5])\n",
        "print(a)\n",
        "\n",
        "b = [6, 7]\n",
        "a.extend(b)\n",
        "print(a)"
      ],
      "metadata": {
        "colab": {
          "base_uri": "https://localhost:8080/"
        },
        "id": "d-YmCGPy4Ni7",
        "outputId": "8aa0aeb3-95c5-4d79-d2b8-6eb884d3b26d"
      },
      "execution_count": null,
      "outputs": [
        {
          "output_type": "stream",
          "name": "stdout",
          "text": [
            "[1, 2, 3, 4, 5]\n",
            "[1, 2, 3, 4, 5, 6, 7]\n"
          ]
        }
      ]
    },
    {
      "cell_type": "markdown",
      "source": [
        "##02-4 튜플 자료형"
      ],
      "metadata": {
        "id": "IRjlkATb5q_v"
      }
    },
    {
      "cell_type": "markdown",
      "source": [
        "###1. 튜플은 어떻게 만들까?"
      ],
      "metadata": {
        "id": "TeD0hyRm99c1"
      }
    },
    {
      "cell_type": "code",
      "source": [
        "t1 = ()\n",
        "t2 = (1,)\n",
        "t3 = (1, 2, 3)\n",
        "t4 = 1, 2, 3\n",
        "t5 = ('a', 'b', ('ab', 'cd'))"
      ],
      "metadata": {
        "id": "LIcbKGCM-GEG",
        "colab": {
          "base_uri": "https://localhost:8080/"
        },
        "outputId": "5ba1e42c-5dd8-4b90-faac-39ffb43a8b29"
      },
      "execution_count": null,
      "outputs": [
        {
          "output_type": "execute_result",
          "data": {
            "text/plain": [
              "tuple"
            ]
          },
          "metadata": {},
          "execution_count": 96
        }
      ]
    },
    {
      "cell_type": "markdown",
      "source": [
        "__리스트와 다른 차이점__\n",
        "\n",
        "- `t2 = (1,)`처럼 1개의 요소만 있어도 반드시 쉼표를 붙여야 한다\n",
        "\n",
        "- `t4 = 1, 2, 3`처럼 소괄호( )를 생략해도 된다\n",
        "\n",
        "--------------\n",
        "\n",
        "둘을 구별해서 사용하는 것이 유리\n",
        "\n",
        "- 리스트는 값 변경 가능\n",
        "\n",
        "- 튜플은 값 변경 불가능\n",
        "\n",
        "- 값이 변하면 안되는 데이터에 튜플을 사용"
      ],
      "metadata": {
        "id": "Epe52DdJ-JJZ"
      }
    },
    {
      "cell_type": "markdown",
      "source": [
        "###2. 튜플의 요솟값을 지우거나 변경하려고 하면 어떻게 될까?"
      ],
      "metadata": {
        "id": "o_P73wCR9_mp"
      }
    },
    {
      "cell_type": "code",
      "source": [
        "# 튜플 요솟값을 삭제하려 할 때\n",
        "\n",
        "t1 = (1, 2, 'a', 'b')\n",
        "\n",
        "del t1[0]"
      ],
      "metadata": {
        "id": "LlggCsUzEvXI",
        "colab": {
          "base_uri": "https://localhost:8080/",
          "height": 187
        },
        "outputId": "d2bbc1ea-bcdd-4072-d81c-dbe20987c648"
      },
      "execution_count": null,
      "outputs": [
        {
          "output_type": "error",
          "ename": "TypeError",
          "evalue": "'tuple' object doesn't support item deletion",
          "traceback": [
            "\u001b[0;31m---------------------------------------------------------------------------\u001b[0m",
            "\u001b[0;31mTypeError\u001b[0m                                 Traceback (most recent call last)",
            "\u001b[0;32m<ipython-input-97-f7d816ebd4ce>\u001b[0m in \u001b[0;36m<cell line: 0>\u001b[0;34m()\u001b[0m\n\u001b[1;32m      3\u001b[0m \u001b[0mt1\u001b[0m \u001b[0;34m=\u001b[0m \u001b[0;34m(\u001b[0m\u001b[0;36m1\u001b[0m\u001b[0;34m,\u001b[0m \u001b[0;36m2\u001b[0m\u001b[0;34m,\u001b[0m \u001b[0;34m'a'\u001b[0m\u001b[0;34m,\u001b[0m \u001b[0;34m'b'\u001b[0m\u001b[0;34m)\u001b[0m\u001b[0;34m\u001b[0m\u001b[0;34m\u001b[0m\u001b[0m\n\u001b[1;32m      4\u001b[0m \u001b[0;34m\u001b[0m\u001b[0m\n\u001b[0;32m----> 5\u001b[0;31m \u001b[0;32mdel\u001b[0m \u001b[0mt1\u001b[0m\u001b[0;34m[\u001b[0m\u001b[0;36m0\u001b[0m\u001b[0;34m]\u001b[0m\u001b[0;34m\u001b[0m\u001b[0;34m\u001b[0m\u001b[0m\n\u001b[0m",
            "\u001b[0;31mTypeError\u001b[0m: 'tuple' object doesn't support item deletion"
          ]
        }
      ]
    },
    {
      "cell_type": "code",
      "source": [
        "# 튜플 요솟값을 변경하려 할 때\n",
        "\n",
        "t1 = (1, 2, 'a', 'b')\n",
        "\n",
        "t1[0] = 'c'"
      ],
      "metadata": {
        "id": "Er6I_q32Fv2U",
        "colab": {
          "base_uri": "https://localhost:8080/",
          "height": 187
        },
        "outputId": "77c31838-b33e-477b-bb5c-162efa3f57c9"
      },
      "execution_count": null,
      "outputs": [
        {
          "output_type": "error",
          "ename": "TypeError",
          "evalue": "'tuple' object does not support item assignment",
          "traceback": [
            "\u001b[0;31m---------------------------------------------------------------------------\u001b[0m",
            "\u001b[0;31mTypeError\u001b[0m                                 Traceback (most recent call last)",
            "\u001b[0;32m<ipython-input-98-fbe955a3330e>\u001b[0m in \u001b[0;36m<cell line: 0>\u001b[0;34m()\u001b[0m\n\u001b[1;32m      3\u001b[0m \u001b[0mt1\u001b[0m \u001b[0;34m=\u001b[0m \u001b[0;34m(\u001b[0m\u001b[0;36m1\u001b[0m\u001b[0;34m,\u001b[0m \u001b[0;36m2\u001b[0m\u001b[0;34m,\u001b[0m \u001b[0;34m'a'\u001b[0m\u001b[0;34m,\u001b[0m \u001b[0;34m'b'\u001b[0m\u001b[0;34m)\u001b[0m\u001b[0;34m\u001b[0m\u001b[0;34m\u001b[0m\u001b[0m\n\u001b[1;32m      4\u001b[0m \u001b[0;34m\u001b[0m\u001b[0m\n\u001b[0;32m----> 5\u001b[0;31m \u001b[0mt1\u001b[0m\u001b[0;34m[\u001b[0m\u001b[0;36m0\u001b[0m\u001b[0;34m]\u001b[0m \u001b[0;34m=\u001b[0m \u001b[0;34m'c'\u001b[0m\u001b[0;34m\u001b[0m\u001b[0;34m\u001b[0m\u001b[0m\n\u001b[0m",
            "\u001b[0;31mTypeError\u001b[0m: 'tuple' object does not support item assignment"
          ]
        }
      ]
    },
    {
      "cell_type": "markdown",
      "source": [
        "###3. 튜플 다루기"
      ],
      "metadata": {
        "id": "Poy8vmIv-CYa"
      }
    },
    {
      "cell_type": "code",
      "source": [
        "# 인덱싱하기\n",
        "\n",
        "t1 = (1, 2, 'a', 'b')\n",
        "\n",
        "print(t1[0])\n",
        "print(t1[3])"
      ],
      "metadata": {
        "colab": {
          "base_uri": "https://localhost:8080/"
        },
        "id": "Y9BeQ1EyF4v1",
        "outputId": "13d2f502-f45d-4cc7-f818-9dac7355a448"
      },
      "execution_count": null,
      "outputs": [
        {
          "output_type": "stream",
          "name": "stdout",
          "text": [
            "1\n",
            "b\n"
          ]
        }
      ]
    },
    {
      "cell_type": "code",
      "source": [
        "# 슬라이싱하기\n",
        "\n",
        "t1 = (1, 2, 'a', 'b')\n",
        "\n",
        "print(t1[1:])"
      ],
      "metadata": {
        "colab": {
          "base_uri": "https://localhost:8080/"
        },
        "id": "8BRljPDMF_nQ",
        "outputId": "6ff784af-9193-4cd6-9742-0772f556e32d"
      },
      "execution_count": null,
      "outputs": [
        {
          "output_type": "stream",
          "name": "stdout",
          "text": [
            "(2, 'a', 'b')\n"
          ]
        }
      ]
    },
    {
      "cell_type": "code",
      "source": [
        "# 튜플 더하기\n",
        "\n",
        "t1 = (1, 2, 'a', 'b')\n",
        "t2 = (3, 4)\n",
        "\n",
        "t1 = t1 + t2\n",
        "print(t1)"
      ],
      "metadata": {
        "colab": {
          "base_uri": "https://localhost:8080/"
        },
        "id": "eZxSX07tHQGi",
        "outputId": "e1cb8d8c-3524-4f2d-9822-b323a153878b"
      },
      "execution_count": null,
      "outputs": [
        {
          "output_type": "stream",
          "name": "stdout",
          "text": [
            "(1, 2, 'a', 'b', 3, 4)\n"
          ]
        }
      ]
    },
    {
      "cell_type": "code",
      "source": [
        "# 튜플 곱하기\n",
        "\n",
        "t2 = (3, 4)\n",
        "\n",
        "t3 = t2 * 3\n",
        "print(t3)"
      ],
      "metadata": {
        "colab": {
          "base_uri": "https://localhost:8080/"
        },
        "id": "9OaptjH9HUZ2",
        "outputId": "61a5d0e2-4a32-4173-ab63-985075d99a4a"
      },
      "execution_count": null,
      "outputs": [
        {
          "output_type": "stream",
          "name": "stdout",
          "text": [
            "(3, 4, 3, 4, 3, 4)\n"
          ]
        }
      ]
    },
    {
      "cell_type": "code",
      "source": [
        "# 튜플 길이 구하기\n",
        "\n",
        "t1 = (1, 2, 'a', 'b')\n",
        "\n",
        "len(t1)"
      ],
      "metadata": {
        "colab": {
          "base_uri": "https://localhost:8080/"
        },
        "id": "qaYluJjfIUcT",
        "outputId": "7ab827b4-e766-49f4-b4e2-46f42b46af8f"
      },
      "execution_count": null,
      "outputs": [
        {
          "output_type": "execute_result",
          "data": {
            "text/plain": [
              "4"
            ]
          },
          "metadata": {},
          "execution_count": 104
        }
      ]
    },
    {
      "cell_type": "markdown",
      "source": [
        "> 튜플은 요솟값을 변경할 수 없기 때문에 sort, insert, remove, pop과 같은 내장 함수가 없다."
      ],
      "metadata": {
        "id": "gXpTHuwlIfdK"
      }
    },
    {
      "cell_type": "markdown",
      "source": [
        "##02-5 딕셔너리 자료형"
      ],
      "metadata": {
        "id": "MQP1X_Ux5yE9"
      }
    },
    {
      "cell_type": "markdown",
      "source": [
        "###1. 딕셔너리란?"
      ],
      "metadata": {
        "id": "H3Mae26ZM4zf"
      }
    },
    {
      "cell_type": "markdown",
      "source": [
        "> Key와 Value를 한 쌍으로 가지는 자료형\n",
        "\n",
        "- Key를 통해 Value를 얻음"
      ],
      "metadata": {
        "id": "DP9479nUOY6_"
      }
    },
    {
      "cell_type": "markdown",
      "source": [
        "###2. 딕셔너리는 어떻게 만들까?"
      ],
      "metadata": {
        "id": "NHOm0zwdM-_t"
      }
    },
    {
      "cell_type": "markdown",
      "source": [
        "> {Key1: Value1, Key2: Value2, Key3: Value3, ...}\n",
        "\n",
        "- Key와 Value의 쌍 여러 개가 { }로 둘러싸여 있음.\n",
        "\n",
        "- 각 요소는 Key:Value 형태, 쉼표로 구분됨."
      ],
      "metadata": {
        "id": "cBDfYZ3NQGC_"
      }
    },
    {
      "cell_type": "code",
      "source": [
        "dic = {'name': 'pey', 'phone': '010-9999-1234', 'birth': '1118'}"
      ],
      "metadata": {
        "id": "BYZTBShmSjz0"
      },
      "execution_count": null,
      "outputs": []
    },
    {
      "cell_type": "markdown",
      "source": [
        "| key   | value         |\n",
        "|-------|--------------|\n",
        "| name  | pey          |\n",
        "| phone | 010-9999-1234 |\n",
        "| birth | 1118         |"
      ],
      "metadata": {
        "id": "6tKW5GgMS6Gr"
      }
    },
    {
      "cell_type": "code",
      "source": [
        "a = {1: 'hi'}\n",
        "print(a[1])\n",
        "\n",
        "a = {'a': [1, 2, 3]}\n",
        "print(a['a'])"
      ],
      "metadata": {
        "colab": {
          "base_uri": "https://localhost:8080/"
        },
        "id": "erUu_oRrVS2L",
        "outputId": "f881bf00-14d3-413d-98f9-f10ce76d2dfe"
      },
      "execution_count": null,
      "outputs": [
        {
          "output_type": "stream",
          "name": "stdout",
          "text": [
            "hi\n",
            "[1, 2, 3]\n"
          ]
        }
      ]
    },
    {
      "cell_type": "markdown",
      "source": [
        "###3. 딕셔너리 쌍 추가, 삭제하기"
      ],
      "metadata": {
        "id": "N1diVfCjNDGp"
      }
    },
    {
      "cell_type": "code",
      "source": [
        "# 딕셔너리 쌍 추가하기\n",
        "\n",
        "a = {1: 'a'}\n",
        "a[2] = 'b'\n",
        "print(a)\n",
        "\n",
        "a['name'] = 'pey'\n",
        "print(a)\n",
        "\n",
        "a[3] = [1, 2, 3]\n",
        "print(a)"
      ],
      "metadata": {
        "colab": {
          "base_uri": "https://localhost:8080/"
        },
        "id": "_on2RDZ1Vie_",
        "outputId": "d879a9a1-9b2f-4215-ed32-a0c94aa4995b"
      },
      "execution_count": null,
      "outputs": [
        {
          "output_type": "stream",
          "name": "stdout",
          "text": [
            "{1: 'a', 2: 'b'}\n",
            "{1: 'a', 2: 'b', 'name': 'pey'}\n",
            "{1: 'a', 2: 'b', 'name': 'pey', 3: [1, 2, 3]}\n"
          ]
        }
      ]
    },
    {
      "cell_type": "code",
      "source": [
        "# 딕셔너리 요소 삭제하기\n",
        "\n",
        "del a[1]\n",
        "a"
      ],
      "metadata": {
        "colab": {
          "base_uri": "https://localhost:8080/"
        },
        "id": "ZZX2L_BpY6cZ",
        "outputId": "a856a91a-f989-48c8-927c-d2eb83ec0d44"
      },
      "execution_count": null,
      "outputs": [
        {
          "output_type": "execute_result",
          "data": {
            "text/plain": [
              "{2: 'b', 'name': 'pey', 3: [1, 2, 3]}"
            ]
          },
          "metadata": {},
          "execution_count": 109
        }
      ]
    },
    {
      "cell_type": "markdown",
      "source": [
        "###4. 딕셔너리를 사용하는 방법\n",
        "\n",
        "- ex) 4명의 사람들 각자의 특기 표현"
      ],
      "metadata": {
        "id": "QySgCfFlNFM8"
      }
    },
    {
      "cell_type": "code",
      "source": [
        "{\"김연아\": \"피겨스케이팅\", \"류현진\": \"야구\", \"손흥민\": \"축구\", \"점프투\": \"파이썬\"}"
      ],
      "metadata": {
        "id": "dtFC1XXHcPB8"
      },
      "execution_count": null,
      "outputs": []
    },
    {
      "cell_type": "code",
      "source": [
        "# 딕셔너리에서 Key를 사용해 Value 얻기\n",
        "\n",
        "grade = {'pey': 10, 'julliet': 99}\n",
        "\n",
        "print(grade['pey'])\n",
        "print(grade['julliet'])"
      ],
      "metadata": {
        "colab": {
          "base_uri": "https://localhost:8080/"
        },
        "id": "OtVFYYMOccT7",
        "outputId": "c982d1aa-94fe-4e32-ebc8-6c50ef246459"
      },
      "execution_count": null,
      "outputs": [
        {
          "output_type": "stream",
          "name": "stdout",
          "text": [
            "10\n",
            "99\n"
          ]
        }
      ]
    },
    {
      "cell_type": "code",
      "source": [
        "a = {1: 'a', 2: 'b'}\n",
        "\n",
        "print(a[1], a[2])"
      ],
      "metadata": {
        "id": "VMe6X1bldJrP",
        "colab": {
          "base_uri": "https://localhost:8080/"
        },
        "outputId": "ea158d38-140c-46a6-ca16-c9c08dcc1d58"
      },
      "execution_count": null,
      "outputs": [
        {
          "output_type": "stream",
          "name": "stdout",
          "text": [
            "a b\n"
          ]
        }
      ]
    },
    {
      "cell_type": "code",
      "source": [
        "dic = {'name': 'pey', 'phone': '010-9999-1234', 'birth': '1118'}\n",
        "\n",
        "print(dic['name'])\n",
        "print(dic['phone'])\n",
        "print(dic['birth'])"
      ],
      "metadata": {
        "colab": {
          "base_uri": "https://localhost:8080/"
        },
        "id": "pK5xDyLydTga",
        "outputId": "5f8cf2b9-9540-490e-a6a1-9a1c99895bb4"
      },
      "execution_count": null,
      "outputs": [
        {
          "output_type": "stream",
          "name": "stdout",
          "text": [
            "pey\n",
            "010-9999-1234\n",
            "1118\n"
          ]
        }
      ]
    },
    {
      "cell_type": "markdown",
      "source": [
        "__딕셔너리 만들 때 주의할 사항__\n",
        "\n",
        "딕셔너리에서 Key는 고유한 값\n",
        "\n",
        "중복되는 Key값 설정 시 하나를 제외한 나머지 값은 무시"
      ],
      "metadata": {
        "id": "HsrFWyPxdhiV"
      }
    },
    {
      "cell_type": "code",
      "source": [
        "a = {1: 'a', 1: 'b'}"
      ],
      "metadata": {
        "colab": {
          "base_uri": "https://localhost:8080/"
        },
        "id": "OxQG_LxgdY6d",
        "outputId": "10a909ab-e8a5-4a5a-dc4b-131fea690fcc"
      },
      "execution_count": null,
      "outputs": [
        {
          "output_type": "execute_result",
          "data": {
            "text/plain": [
              "{1: 'b'}"
            ]
          },
          "metadata": {},
          "execution_count": 19
        }
      ]
    },
    {
      "cell_type": "markdown",
      "source": [
        "###5. 딕셔너리 관련 함수"
      ],
      "metadata": {
        "id": "POqIz_XhNGz1"
      }
    },
    {
      "cell_type": "code",
      "source": [
        "# Key 리스트 만들기 - keys\n",
        "\n",
        "a = {'name': 'pey', 'phone': '010-9999-1234', 'birth': '1118'}\n",
        "\n",
        "print(a.keys())\n",
        "print(list(a.keys()))"
      ],
      "metadata": {
        "colab": {
          "base_uri": "https://localhost:8080/"
        },
        "id": "myZalyjRdzJk",
        "outputId": "8695bfed-9e47-4e11-ca89-897319a65174"
      },
      "execution_count": null,
      "outputs": [
        {
          "output_type": "stream",
          "name": "stdout",
          "text": [
            "dict_keys(['name', 'phone', 'birth'])\n",
            "['name', 'phone', 'birth']\n"
          ]
        }
      ]
    },
    {
      "cell_type": "code",
      "source": [
        "for k in a.keys():\n",
        "  print(k)"
      ],
      "metadata": {
        "colab": {
          "base_uri": "https://localhost:8080/"
        },
        "id": "tJMub4bcd-9h",
        "outputId": "82c991cc-b05b-40a7-ea1e-63840abbbe30"
      },
      "execution_count": null,
      "outputs": [
        {
          "output_type": "stream",
          "name": "stdout",
          "text": [
            "name\n",
            "phone\n",
            "birth\n"
          ]
        }
      ]
    },
    {
      "cell_type": "code",
      "source": [
        "# Value 리스트 만들기 - values\n",
        "\n",
        "print(a.values())\n",
        "print(list(a.values()))"
      ],
      "metadata": {
        "colab": {
          "base_uri": "https://localhost:8080/"
        },
        "id": "J7Vht5BueDGG",
        "outputId": "4b3dbb96-a459-46a1-d2be-df4b1f9a35be"
      },
      "execution_count": null,
      "outputs": [
        {
          "output_type": "stream",
          "name": "stdout",
          "text": [
            "dict_values(['pey', '010-9999-1234', '1118'])\n",
            "['pey', '010-9999-1234', '1118']\n"
          ]
        }
      ]
    },
    {
      "cell_type": "code",
      "source": [
        "# Key, Value 쌍 얻기 - items\n",
        "\n",
        "print(a.items())\n",
        "print(list(a.items()))"
      ],
      "metadata": {
        "colab": {
          "base_uri": "https://localhost:8080/"
        },
        "id": "BIs6tr5MeSEe",
        "outputId": "71328988-5fe0-42ec-b7b3-33c073407904"
      },
      "execution_count": null,
      "outputs": [
        {
          "output_type": "stream",
          "name": "stdout",
          "text": [
            "dict_items([('name', 'pey'), ('phone', '010-9999-1234'), ('birth', '1118')])\n",
            "[('name', 'pey'), ('phone', '010-9999-1234'), ('birth', '1118')]\n"
          ]
        }
      ]
    },
    {
      "cell_type": "code",
      "source": [
        "# Key: Value 쌍 모두 지우기 - clear\n",
        "\n",
        "print(a)\n",
        "a.clear()\n",
        "print(a)"
      ],
      "metadata": {
        "colab": {
          "base_uri": "https://localhost:8080/"
        },
        "id": "06crffFHexN6",
        "outputId": "d0814f9a-84b2-44a9-ae56-90ab49ffc7de"
      },
      "execution_count": null,
      "outputs": [
        {
          "output_type": "stream",
          "name": "stdout",
          "text": [
            "{'name': 'pey', 'phone': '010-9999-1234', 'birth': '1118'}\n",
            "{}\n"
          ]
        }
      ]
    },
    {
      "cell_type": "code",
      "source": [
        "# Key로 Value 얻기 - get\n",
        "\n",
        "a = {'name': 'pey', 'phone': '010-9999-1234', 'birth': '1118'}\n",
        "\n",
        "print(a.get('name'))\n",
        "print(a.get('phone'))"
      ],
      "metadata": {
        "colab": {
          "base_uri": "https://localhost:8080/"
        },
        "id": "8UKJe8sHe436",
        "outputId": "f54d1df5-29ee-4de3-f4d2-62d9c686b5bb"
      },
      "execution_count": null,
      "outputs": [
        {
          "output_type": "stream",
          "name": "stdout",
          "text": [
            "pey\n",
            "010-9999-1234\n"
          ]
        }
      ]
    },
    {
      "cell_type": "markdown",
      "source": [
        "`a.get('name')`은 `a['name']`과 동일한 표현식\n",
        "\n",
        "그러나 `a['name']`은 존재하지 않는 키일 경우 *error* 발생\n",
        "\n",
        "`a.get('name')`은 *None*을 반환"
      ],
      "metadata": {
        "id": "WfFVR1u8fPUr"
      }
    },
    {
      "cell_type": "code",
      "source": [
        "a = {'name': 'pey', 'phone': '010-9999-1234', 'birth': '1118'}\n",
        "\n",
        "print(a.get('nokey'))\n",
        "\n",
        "print(a['nokey'])"
      ],
      "metadata": {
        "id": "KdyrUeF5fseS",
        "colab": {
          "base_uri": "https://localhost:8080/",
          "height": 205
        },
        "outputId": "e13884c0-edc8-413e-e508-9938a467fa61"
      },
      "execution_count": null,
      "outputs": [
        {
          "output_type": "stream",
          "name": "stdout",
          "text": [
            "None\n"
          ]
        },
        {
          "output_type": "error",
          "ename": "KeyError",
          "evalue": "'nokey'",
          "traceback": [
            "\u001b[0;31m---------------------------------------------------------------------------\u001b[0m",
            "\u001b[0;31mKeyError\u001b[0m                                  Traceback (most recent call last)",
            "\u001b[0;32m<ipython-input-120-b21e00428ca9>\u001b[0m in \u001b[0;36m<cell line: 0>\u001b[0;34m()\u001b[0m\n\u001b[1;32m      3\u001b[0m \u001b[0mprint\u001b[0m\u001b[0;34m(\u001b[0m\u001b[0ma\u001b[0m\u001b[0;34m.\u001b[0m\u001b[0mget\u001b[0m\u001b[0;34m(\u001b[0m\u001b[0;34m'nokey'\u001b[0m\u001b[0;34m)\u001b[0m\u001b[0;34m)\u001b[0m\u001b[0;34m\u001b[0m\u001b[0;34m\u001b[0m\u001b[0m\n\u001b[1;32m      4\u001b[0m \u001b[0;34m\u001b[0m\u001b[0m\n\u001b[0;32m----> 5\u001b[0;31m \u001b[0mprint\u001b[0m\u001b[0;34m(\u001b[0m\u001b[0ma\u001b[0m\u001b[0;34m[\u001b[0m\u001b[0;34m'nokey'\u001b[0m\u001b[0;34m]\u001b[0m\u001b[0;34m)\u001b[0m\u001b[0;34m\u001b[0m\u001b[0;34m\u001b[0m\u001b[0m\n\u001b[0m",
            "\u001b[0;31mKeyError\u001b[0m: 'nokey'"
          ]
        }
      ]
    },
    {
      "cell_type": "code",
      "source": [
        "a = {'name': 'pey', 'phone': '010-9999-1234', 'birth': '1118'}\n",
        "\n",
        "print(a.get('foo', 'bar')) # key가 없을 경우 반환할 값 지정"
      ],
      "metadata": {
        "colab": {
          "base_uri": "https://localhost:8080/"
        },
        "id": "f6twlT3zfeBz",
        "outputId": "153d5ef7-91c2-466a-9334-06486d820c70"
      },
      "execution_count": null,
      "outputs": [
        {
          "output_type": "stream",
          "name": "stdout",
          "text": [
            "bar\n"
          ]
        }
      ]
    },
    {
      "cell_type": "code",
      "source": [
        "# 해당 Key가 딕셔너리 안에 있는지 조사하기 - in\n",
        "\n",
        "a = {'name': 'pey', 'phone': '010-9999-1234', 'birth': '1118'}\n",
        "\n",
        "print('name' in a)\n",
        "print('email' in a)"
      ],
      "metadata": {
        "colab": {
          "base_uri": "https://localhost:8080/"
        },
        "id": "Yu2goNXGf46D",
        "outputId": "d7d234c3-cc5f-4edc-f79d-256363f5af85"
      },
      "execution_count": null,
      "outputs": [
        {
          "output_type": "stream",
          "name": "stdout",
          "text": [
            "True\n",
            "False\n"
          ]
        }
      ]
    },
    {
      "cell_type": "markdown",
      "source": [
        "##02-6 집합 자료형"
      ],
      "metadata": {
        "id": "lPM3IPnv9tqM"
      }
    },
    {
      "cell_type": "markdown",
      "source": [
        "###1. 집합 자료형은 어떻게 만들까?"
      ],
      "metadata": {
        "id": "tbnuL1NqgFSD"
      }
    },
    {
      "cell_type": "code",
      "source": [
        "# set 키워드를 사용해 생성\n",
        "\n",
        "s1 = set([1, 2, 3])\n",
        "print(s1)\n",
        "\n",
        "s2 = set(\"Hello\")\n",
        "print(s2)"
      ],
      "metadata": {
        "colab": {
          "base_uri": "https://localhost:8080/"
        },
        "id": "Fz_SR3fhgPxU",
        "outputId": "1ec480a8-35ee-4919-c15d-7d65985cae27"
      },
      "execution_count": null,
      "outputs": [
        {
          "output_type": "stream",
          "name": "stdout",
          "text": [
            "{1, 2, 3}\n",
            "{'o', 'e', 'H', 'l'}\n"
          ]
        }
      ]
    },
    {
      "cell_type": "markdown",
      "source": [
        "###2. 집합 자료형의 특징"
      ],
      "metadata": {
        "id": "3OQdwNTjgH6w"
      }
    },
    {
      "cell_type": "markdown",
      "source": [
        "- 중복을 허용하지 않는다.\n",
        "  \n",
        "    - 데이터의 중복을 제거하기 위한 필터로 종종 사용\n",
        "\n",
        "- 순서가 없다.\n",
        "\n",
        "    - 인덱싱을 통한 요솟값 획득 불가"
      ],
      "metadata": {
        "id": "nrnb4cRqgcTX"
      }
    },
    {
      "cell_type": "code",
      "source": [
        "s1 = set([1, 2, 3])\n",
        "l1 = list(s1)\n",
        "\n",
        "print(s1)\n",
        "print(l1)\n",
        "print(l1[0])"
      ],
      "metadata": {
        "colab": {
          "base_uri": "https://localhost:8080/"
        },
        "id": "V0decwveg0Bg",
        "outputId": "09cc3944-118c-481a-f6df-e5e9745fa6fc"
      },
      "execution_count": null,
      "outputs": [
        {
          "output_type": "stream",
          "name": "stdout",
          "text": [
            "{1, 2, 3}\n",
            "[1, 2, 3]\n",
            "1\n"
          ]
        }
      ]
    },
    {
      "cell_type": "code",
      "source": [
        "t1 = tuple(s1)\n",
        "\n",
        "print(s1)\n",
        "print(t1)\n",
        "print(t1[0])"
      ],
      "metadata": {
        "colab": {
          "base_uri": "https://localhost:8080/"
        },
        "id": "1ahM2JjthDC6",
        "outputId": "98427a56-89de-4dd9-f258-a71da709e9e1"
      },
      "execution_count": null,
      "outputs": [
        {
          "output_type": "stream",
          "name": "stdout",
          "text": [
            "{1, 2, 3}\n",
            "(1, 2, 3)\n",
            "1\n"
          ]
        }
      ]
    },
    {
      "cell_type": "markdown",
      "source": [
        "###3. 교집합, 합집합, 차집합 구하기"
      ],
      "metadata": {
        "id": "bj2jqd0RgKB6"
      }
    },
    {
      "cell_type": "code",
      "source": [
        "s1 = set([1, 2, 3, 4, 5, 6])\n",
        "s2 = set([4, 5, 6, 7, 8, 9])"
      ],
      "metadata": {
        "id": "aSP8iJvIhKuV"
      },
      "execution_count": null,
      "outputs": []
    },
    {
      "cell_type": "code",
      "source": [
        "# 교집합 구하기\n",
        "print(s1 & s2)\n",
        "print(s1.intersection(s2))"
      ],
      "metadata": {
        "colab": {
          "base_uri": "https://localhost:8080/"
        },
        "id": "_G53m_76hxQ2",
        "outputId": "872223e3-eeaf-4b4f-a2dd-b5eb435ac3b4"
      },
      "execution_count": null,
      "outputs": [
        {
          "output_type": "stream",
          "name": "stdout",
          "text": [
            "{4, 5, 6}\n",
            "{4, 5, 6}\n"
          ]
        }
      ]
    },
    {
      "cell_type": "code",
      "source": [
        "# 합집합 구하기\n",
        "print(s1 | s2)\n",
        "print(s1.union(s2))"
      ],
      "metadata": {
        "colab": {
          "base_uri": "https://localhost:8080/"
        },
        "id": "XPg_Utzihz_Z",
        "outputId": "8aba5bdc-c370-4c93-b5fa-a4e427cb40ec"
      },
      "execution_count": null,
      "outputs": [
        {
          "output_type": "stream",
          "name": "stdout",
          "text": [
            "{1, 2, 3, 4, 5, 6, 7, 8, 9}\n",
            "{1, 2, 3, 4, 5, 6, 7, 8, 9}\n"
          ]
        }
      ]
    },
    {
      "cell_type": "code",
      "source": [
        "# 차집합 구하기\n",
        "print(s1 - s2)\n",
        "print(s1.difference(s2))"
      ],
      "metadata": {
        "colab": {
          "base_uri": "https://localhost:8080/"
        },
        "id": "M7RBE7vUh2mu",
        "outputId": "fa8f5d28-910d-4510-982c-642a90155926"
      },
      "execution_count": null,
      "outputs": [
        {
          "output_type": "stream",
          "name": "stdout",
          "text": [
            "{1, 2, 3}\n",
            "{1, 2, 3}\n"
          ]
        }
      ]
    },
    {
      "cell_type": "markdown",
      "source": [
        "###4. 집합 자료형 관련 함수"
      ],
      "metadata": {
        "id": "FrkzErpHgMAQ"
      }
    },
    {
      "cell_type": "code",
      "source": [
        "# 값 1개 추가하기 - add\n",
        "\n",
        "s1 = set([1, 2, 3])\n",
        "print(s1)\n",
        "\n",
        "s1.add(4)\n",
        "print(s1)"
      ],
      "metadata": {
        "colab": {
          "base_uri": "https://localhost:8080/"
        },
        "id": "b8RXyE0Kh5wi",
        "outputId": "98ac78b7-06bf-4294-8d26-cd4348e0c317"
      },
      "execution_count": null,
      "outputs": [
        {
          "output_type": "stream",
          "name": "stdout",
          "text": [
            "{1, 2, 3}\n",
            "{1, 2, 3, 4}\n"
          ]
        }
      ]
    },
    {
      "cell_type": "code",
      "source": [
        "# 값 여러 개 추가하기 - update\n",
        "\n",
        "s1 = set([1, 2, 3])\n",
        "print(s1)\n",
        "\n",
        "s1.update([4, 5, 6])\n",
        "print(s1)"
      ],
      "metadata": {
        "colab": {
          "base_uri": "https://localhost:8080/"
        },
        "id": "V7A-s4Q5iECe",
        "outputId": "7ef4d13a-5ffe-43c6-a63c-7ba0fc390d35"
      },
      "execution_count": null,
      "outputs": [
        {
          "output_type": "stream",
          "name": "stdout",
          "text": [
            "{1, 2, 3}\n",
            "{1, 2, 3, 4, 5, 6}\n"
          ]
        }
      ]
    },
    {
      "cell_type": "code",
      "source": [
        "# 특정 값 제거하기 - remove\n",
        "\n",
        "s1 = set([1, 2, 3])\n",
        "print(s1)\n",
        "\n",
        "s1.remove(2)\n",
        "print(s1)"
      ],
      "metadata": {
        "colab": {
          "base_uri": "https://localhost:8080/"
        },
        "id": "wSjqOhJUiIbV",
        "outputId": "07cc6e3d-9340-4ac1-adec-dcf58c4b8179"
      },
      "execution_count": null,
      "outputs": [
        {
          "output_type": "stream",
          "name": "stdout",
          "text": [
            "{1, 2, 3}\n",
            "{1, 3}\n"
          ]
        }
      ]
    },
    {
      "cell_type": "markdown",
      "source": [
        "##02-7 불 자료형"
      ],
      "metadata": {
        "id": "QH5a-2aW9vvf"
      }
    },
    {
      "cell_type": "markdown",
      "source": [
        "###1. 불 자료형은 어떻게 사용할까?"
      ],
      "metadata": {
        "id": "Gdiwl-QbiOl1"
      }
    },
    {
      "cell_type": "code",
      "source": [
        "a = True\n",
        "b = False\n",
        "\n",
        "print(type(a))\n",
        "print(type(b)) # type(x)는 x의 자료형을 확인하는 파이썬의 내장 함수"
      ],
      "metadata": {
        "id": "2V2N6fiViWH8",
        "colab": {
          "base_uri": "https://localhost:8080/"
        },
        "outputId": "98a78054-784d-4aa4-c324-c5013dbc4168"
      },
      "execution_count": null,
      "outputs": [
        {
          "output_type": "stream",
          "name": "stdout",
          "text": [
            "<class 'bool'>\n",
            "<class 'bool'>\n"
          ]
        }
      ]
    },
    {
      "cell_type": "code",
      "source": [
        "print(1 == 1)\n",
        "print(2 > 1)\n",
        "print(2 < 1)"
      ],
      "metadata": {
        "colab": {
          "base_uri": "https://localhost:8080/"
        },
        "id": "uxLPPR0sipiV",
        "outputId": "10052d3c-69db-48d0-dccc-04d3822ac7be"
      },
      "execution_count": null,
      "outputs": [
        {
          "output_type": "stream",
          "name": "stdout",
          "text": [
            "True\n",
            "True\n",
            "False\n"
          ]
        }
      ]
    },
    {
      "cell_type": "markdown",
      "source": [
        "###2. 자료형의 참과 거짓"
      ],
      "metadata": {
        "id": "d1JgoiVViRMQ"
      }
    },
    {
      "cell_type": "markdown",
      "source": [
        "| 값         | 참 or 거짓 |\n",
        "|-----------|-----------|\n",
        "| `\"python\"` | 참       |\n",
        "| `\"\"`      | 거짓     |\n",
        "| `[1, 2, 3]` | 참     |\n",
        "| `[]`      | 거짓     |\n",
        "| `(1, 2, 3)` | 참     |\n",
        "| `()`      | 거짓     |\n",
        "| `{'a': 1}` | 참     |\n",
        "| `{}`      | 거짓     |\n",
        "| `1`       | 참       |\n",
        "| `0`       | 거짓     |\n",
        "| `None`    | 거짓     |\n",
        "\n",
        "- 문자열, 리스트, 튜플, 딕셔너리 등의 값이 비어 있으면 거짓\n",
        "\n",
        "- 숫자의 값이 0일 때 거짓\n",
        "\n",
        "- None은 거짓을 뜻함"
      ],
      "metadata": {
        "id": "amPXlz9njAEN"
      }
    },
    {
      "cell_type": "code",
      "source": [
        "a = [1, 2, 3, 4]\n",
        "\n",
        "while a:\n",
        "  print(a.pop())"
      ],
      "metadata": {
        "colab": {
          "base_uri": "https://localhost:8080/"
        },
        "id": "pSEVlzZ-jVHZ",
        "outputId": "a756e349-4669-434d-cd50-8551c491bd02"
      },
      "execution_count": null,
      "outputs": [
        {
          "output_type": "stream",
          "name": "stdout",
          "text": [
            "4\n",
            "3\n",
            "2\n",
            "1\n"
          ]
        }
      ]
    },
    {
      "cell_type": "code",
      "source": [
        "if []:\n",
        "  print(\"참\")\n",
        "else:\n",
        "  print(\"거짓\")\n",
        "\n",
        "if [1, 2, 3]:\n",
        "  print(\"참\")\n",
        "else:\n",
        "  print(\"거짓\")"
      ],
      "metadata": {
        "colab": {
          "base_uri": "https://localhost:8080/"
        },
        "id": "oBmK-SYYml5Z",
        "outputId": "7e72dfda-ccbe-4a71-ab5c-32a641842f78"
      },
      "execution_count": null,
      "outputs": [
        {
          "output_type": "stream",
          "name": "stdout",
          "text": [
            "거짓\n",
            "참\n"
          ]
        }
      ]
    },
    {
      "cell_type": "markdown",
      "source": [
        "###3. 불 연산"
      ],
      "metadata": {
        "id": "cP8LbAzIiSoH"
      }
    },
    {
      "cell_type": "code",
      "source": [
        "print(bool('python'))\n",
        "print(bool(''))\n",
        "\n",
        "print(bool(1 == 1))"
      ],
      "metadata": {
        "colab": {
          "base_uri": "https://localhost:8080/"
        },
        "id": "QSFvSOHgmwMW",
        "outputId": "3f11ffdb-7b13-44e9-db87-5cfefd7c47a1"
      },
      "execution_count": null,
      "outputs": [
        {
          "output_type": "stream",
          "name": "stdout",
          "text": [
            "True\n",
            "False\n",
            "True\n"
          ]
        }
      ]
    },
    {
      "cell_type": "markdown",
      "source": [
        "##02-8 자료형의 값을 저장하는 공간, 변수"
      ],
      "metadata": {
        "id": "-4Xeg1vEAUlo"
      }
    },
    {
      "cell_type": "markdown",
      "source": [
        "###1. 변수는 어떻게 만들까?"
      ],
      "metadata": {
        "id": "2b7mmuvMAZIS"
      }
    },
    {
      "cell_type": "code",
      "source": [
        "a = 1\n",
        "b = 'python'\n",
        "c = [1, 2, 3]\n",
        "\n",
        "#변수_이름 = 변수에_저장할_값"
      ],
      "metadata": {
        "id": "5rx5LNfgAjgD"
      },
      "execution_count": null,
      "outputs": []
    },
    {
      "cell_type": "markdown",
      "source": [
        "###2. 변수란?\n",
        "\n",
        "> __이름표__가 붙은 상자\n",
        "\n",
        "  - 변수를 선언하면, 상자(메모리 공간)가 생김\n",
        "\n",
        "  - 그 상자에 값(데이터)을 넣어두고, 이름표 (변수명)붙이기"
      ],
      "metadata": {
        "id": "A8sKeFp8Aa3E"
      }
    },
    {
      "cell_type": "code",
      "source": [
        "# 변수가 가르키는 메모리 주소 확인\n",
        "\n",
        "a = [1, 2, 3]\n",
        "id(a)"
      ],
      "metadata": {
        "colab": {
          "base_uri": "https://localhost:8080/"
        },
        "id": "TR8QpcUsCP-a",
        "outputId": "86c68c2f-a4df-4654-b825-bb0de8b92192"
      },
      "execution_count": null,
      "outputs": [
        {
          "output_type": "execute_result",
          "data": {
            "text/plain": [
              "132644208444224"
            ]
          },
          "metadata": {},
          "execution_count": 130
        }
      ]
    },
    {
      "cell_type": "markdown",
      "source": [
        "###3. 리스트를 복사하고자 할 때"
      ],
      "metadata": {
        "id": "xnZFpdS5Absa"
      }
    },
    {
      "cell_type": "code",
      "source": [
        "a = [1, 2, 3]\n",
        "b = a\n",
        "\n",
        "print(id(a))\n",
        "print(id(b))\n",
        "\n",
        "a is b"
      ],
      "metadata": {
        "colab": {
          "base_uri": "https://localhost:8080/"
        },
        "id": "VRXMEkIuCbh7",
        "outputId": "855fa6b2-0137-4c30-cffa-0d43e0aae60f"
      },
      "execution_count": null,
      "outputs": [
        {
          "output_type": "stream",
          "name": "stdout",
          "text": [
            "132644208531584\n",
            "132644208531584\n"
          ]
        },
        {
          "output_type": "execute_result",
          "data": {
            "text/plain": [
              "True"
            ]
          },
          "metadata": {},
          "execution_count": 131
        }
      ]
    },
    {
      "cell_type": "code",
      "source": [
        "a[1] = 4\n",
        "\n",
        "print(a)"
      ],
      "metadata": {
        "colab": {
          "base_uri": "https://localhost:8080/"
        },
        "id": "caorlX_NCj0R",
        "outputId": "7fef7c6e-8b45-4cee-f49b-ea6fae737b37"
      },
      "execution_count": null,
      "outputs": [
        {
          "output_type": "stream",
          "name": "stdout",
          "text": [
            "[1, 4, 3]\n"
          ]
        }
      ]
    },
    {
      "cell_type": "code",
      "source": [
        "print(b)"
      ],
      "metadata": {
        "id": "DIL4OcR0Cn1_",
        "colab": {
          "base_uri": "https://localhost:8080/"
        },
        "outputId": "c746923d-ae81-4b8e-a86c-610fbc62a5c7"
      },
      "execution_count": null,
      "outputs": [
        {
          "output_type": "stream",
          "name": "stdout",
          "text": [
            "[1, 4, 3]\n"
          ]
        }
      ]
    },
    {
      "cell_type": "markdown",
      "source": [
        "####[ : ] 이용하기"
      ],
      "metadata": {
        "id": "HKZORB9ZCu84"
      }
    },
    {
      "cell_type": "code",
      "source": [
        "a = [1, 2, 3]\n",
        "b = a[:]\n",
        "\n",
        "a[1] = 4\n",
        "\n",
        "print(a)"
      ],
      "metadata": {
        "colab": {
          "base_uri": "https://localhost:8080/"
        },
        "id": "s6S5TpjdC08g",
        "outputId": "fcbdfeea-f934-4572-c91d-31257fa92f38"
      },
      "execution_count": null,
      "outputs": [
        {
          "output_type": "stream",
          "name": "stdout",
          "text": [
            "[1, 4, 3]\n"
          ]
        }
      ]
    },
    {
      "cell_type": "code",
      "source": [
        "print(b)\n",
        "\n",
        "print(id(a), id(b))"
      ],
      "metadata": {
        "id": "4_nRTDbdC7p1",
        "colab": {
          "base_uri": "https://localhost:8080/"
        },
        "outputId": "bf9d9618-f761-4098-c501-2cfe5efe5925"
      },
      "execution_count": null,
      "outputs": [
        {
          "output_type": "stream",
          "name": "stdout",
          "text": [
            "[1, 2, 3]\n",
            "132644208224448 132644208300992\n"
          ]
        }
      ]
    },
    {
      "cell_type": "markdown",
      "source": [
        "#### copy 모듈 이용하기"
      ],
      "metadata": {
        "id": "6CBnhtIHDACQ"
      }
    },
    {
      "cell_type": "code",
      "source": [
        "from copy import copy\n",
        "\n",
        "a = [1, 2, 3]\n",
        "b = copy(a)\n",
        "\n",
        "print(id(a), id(b))\n",
        "\n",
        "b is a"
      ],
      "metadata": {
        "colab": {
          "base_uri": "https://localhost:8080/"
        },
        "id": "IrdL6AacDCtT",
        "outputId": "56b8e32b-b193-48c4-bb49-a133c35da3f8"
      },
      "execution_count": null,
      "outputs": [
        {
          "output_type": "stream",
          "name": "stdout",
          "text": [
            "132644387217088 132644208413888\n"
          ]
        },
        {
          "output_type": "execute_result",
          "data": {
            "text/plain": [
              "False"
            ]
          },
          "metadata": {},
          "execution_count": 138
        }
      ]
    },
    {
      "cell_type": "code",
      "source": [
        "a = [1, 2, 3]\n",
        "b = a.copy() # 리스트 자료형의 자체 함수\n",
        "\n",
        "b is a"
      ],
      "metadata": {
        "colab": {
          "base_uri": "https://localhost:8080/"
        },
        "id": "Ix_7oPGUDNBZ",
        "outputId": "c5464a7e-f46b-4919-c8f0-1ba90a2a7d37"
      },
      "execution_count": null,
      "outputs": [
        {
          "output_type": "execute_result",
          "data": {
            "text/plain": [
              "False"
            ]
          },
          "metadata": {},
          "execution_count": 139
        }
      ]
    },
    {
      "cell_type": "markdown",
      "source": [
        "###4. 변수를 만드는 여러가지 방법"
      ],
      "metadata": {
        "id": "FhuS0myTAgmZ"
      }
    },
    {
      "cell_type": "code",
      "source": [
        "# 튜플로 a, b에 값 대입\n",
        "a, b = ('python', 'life')\n",
        "print(a, b)\n",
        "\n",
        "(a, b) = 'python', 'life'\n",
        "print(a, b)\n",
        "\n",
        "# 리스트로 변수 만들기\n",
        "[a, b] = ['python', 'life']\n",
        "print(a, b)\n",
        "\n",
        "# 여러 개의 변수에 같은 값 대입 가능\n",
        "a = b = 'python'\n",
        "print(a, b)"
      ],
      "metadata": {
        "colab": {
          "base_uri": "https://localhost:8080/"
        },
        "id": "_Nlz_IZiDXr4",
        "outputId": "94833667-5b73-4730-c88a-e1d863bb4617"
      },
      "execution_count": null,
      "outputs": [
        {
          "output_type": "stream",
          "name": "stdout",
          "text": [
            "python life\n",
            "python life\n",
            "python life\n",
            "python python\n"
          ]
        }
      ]
    },
    {
      "cell_type": "code",
      "source": [
        "# 두 변수의 값을 매우 간단하게 변경 가능\n",
        "a = 3\n",
        "b = 5\n",
        "\n",
        "a, b = b, a\n",
        "print(a, b)"
      ],
      "metadata": {
        "colab": {
          "base_uri": "https://localhost:8080/"
        },
        "id": "-6eUrSiID9Oa",
        "outputId": "dc9e4376-f38b-425a-9388-91dde0376446"
      },
      "execution_count": null,
      "outputs": [
        {
          "output_type": "stream",
          "name": "stdout",
          "text": [
            "5 3\n"
          ]
        }
      ]
    },
    {
      "cell_type": "markdown",
      "source": [
        "__연습문제__\n",
        "============"
      ],
      "metadata": {
        "id": "3SyIzsK5x_Yy"
      }
    },
    {
      "cell_type": "markdown",
      "source": [
        "__문제 1: 변수와 숫자형__\n",
        "\n",
        "다음 조건을 만족하는 코드를 작성하세요.\n",
        "  - 변수 ___a___와 ***b***를 사용하여 ***result*** 변수를 만든다.\n",
        "  - ***result***의 값은 **15**가 되어야 한다.\n",
        "\n",
        "  "
      ],
      "metadata": {
        "id": "Xnoarp8byHYJ"
      }
    },
    {
      "cell_type": "code",
      "source": [
        "# 여기에 코드를 작성하세요\n",
        "\n",
        "print(result) # 출력: 15"
      ],
      "metadata": {
        "id": "NhN2CzjCx_4g",
        "colab": {
          "base_uri": "https://localhost:8080/"
        },
        "outputId": "598d6cd4-f6f8-4e51-dd14-c9d2db3c2b84"
      },
      "execution_count": null,
      "outputs": [
        {
          "output_type": "stream",
          "name": "stdout",
          "text": [
            "15\n"
          ]
        }
      ]
    },
    {
      "cell_type": "markdown",
      "source": [
        "__문제 2: 문자형__\n",
        "\n",
        "다음과 같은 결과를 출력하는 코드를 작성하세요\n",
        "  - 변수 ___text1, text2___를 사용하여 ___result___ 변수를 만든다.\n",
        "\n",
        "\n",
        "    Hello Python"
      ],
      "metadata": {
        "id": "5VvZSnYkzFZ-"
      }
    },
    {
      "cell_type": "code",
      "source": [
        "# 여기에 코드를 작성하세요\n",
        "\n",
        "print(result)"
      ],
      "metadata": {
        "id": "tiejgSmnzPyT",
        "colab": {
          "base_uri": "https://localhost:8080/"
        },
        "outputId": "0c5e7f6d-484e-49bf-d0ed-d0d5ceed32c8"
      },
      "execution_count": null,
      "outputs": [
        {
          "output_type": "stream",
          "name": "stdout",
          "text": [
            "Hello Python\n"
          ]
        }
      ]
    },
    {
      "cell_type": "markdown",
      "source": [
        "__문제 3: 리스트__\n",
        "\n",
        "다음 코드에서 ___numbers___ 리스트를 조작하여 다음과 같은 결과를 출력하는 코드를 작성하세요.\n",
        "\n",
        "    [10, 20, 30, 40, 50, 60]"
      ],
      "metadata": {
        "id": "SodQZpS5zYr5"
      }
    },
    {
      "cell_type": "code",
      "source": [
        "numbers = [10, 20, 30, 50]\n",
        "\n",
        "# 여기에 코드를 추가하세요\n",
        "\n",
        "print(numbers)"
      ],
      "metadata": {
        "id": "fjSBLFI7zYaG",
        "colab": {
          "base_uri": "https://localhost:8080/"
        },
        "outputId": "ce2a9150-a761-486d-ea97-b79a016046fd"
      },
      "execution_count": null,
      "outputs": [
        {
          "output_type": "stream",
          "name": "stdout",
          "text": [
            "[10, 20, 30, 40, 50, 60]\n"
          ]
        }
      ]
    },
    {
      "cell_type": "markdown",
      "source": [
        "**문제 4: 튜플, 딕셔너리, 집합 활용**\n",
        "\n",
        "다음 조건을 만족하는 코드를 작성하세요\n",
        "\n",
        "- 튜플을 사용하여 `(10, 20, 30)`을 변수 ***my_tuple***에 저장\n",
        "\n",
        "- 딕셔너리를 사용하여 `'name':'Alice', 'age':25`라는 데이터를 my_dict에 저장한다.\n",
        "\n",
        "- 집합을 사용하여 `{1, 2, 3, 4, 5}`를 my_set에 저장한다."
      ],
      "metadata": {
        "id": "T1Sa_x4FoUEh"
      }
    },
    {
      "cell_type": "code",
      "source": [
        "# 여기에 코드를 작성하세요\n",
        "\n",
        "print(my_tuple)  # 출력: (10, 20, 30)\n",
        "print(my_dict)   # 출력: {'name': 'Alice', 'age': 25}\n",
        "print(my_set)    # 출력: {1, 2, 3, 4, 5}"
      ],
      "metadata": {
        "id": "karpsN0jpAKC",
        "colab": {
          "base_uri": "https://localhost:8080/"
        },
        "outputId": "01772fba-6bc4-4188-bfa0-68221846e977"
      },
      "execution_count": null,
      "outputs": [
        {
          "output_type": "stream",
          "name": "stdout",
          "text": [
            "(10, 20, 30)\n",
            "{'name': 'Alice', 'age': 25}\n",
            "{1, 2, 3, 4, 5}\n"
          ]
        }
      ]
    },
    {
      "cell_type": "markdown",
      "source": [
        "**문제 5: 튜플과 집합 활용**\n",
        "\n",
        "다음과 같은 튜플이 주어졌을 때, 중복을 제거하고 오름차순으로 정렬된 리스트를 출력하는 코드를 작성하세요\n",
        "\n",
        "    my_tuple = (5, 3, 8, 3, 1, 5, 7, 8, 2)"
      ],
      "metadata": {
        "id": "UbYKVlrjpFB9"
      }
    },
    {
      "cell_type": "code",
      "source": [
        "# 여기에 코드를 작성하세요\n",
        "\n",
        "\n",
        "\n",
        "print(result)   # 출력: [1, 2, 3, 5, 7, 8]"
      ],
      "metadata": {
        "id": "gb-wjKm0ph88",
        "colab": {
          "base_uri": "https://localhost:8080/"
        },
        "outputId": "2ae01da8-5961-4d4e-c1fb-f71baebbb924"
      },
      "execution_count": null,
      "outputs": [
        {
          "output_type": "stream",
          "name": "stdout",
          "text": [
            "[1, 2, 3, 5, 7, 8]\n"
          ]
        }
      ]
    },
    {
      "cell_type": "markdown",
      "source": [
        "__연습문제 정답__\n",
        "============"
      ],
      "metadata": {
        "id": "rWk9G8Quvjpo"
      }
    },
    {
      "cell_type": "markdown",
      "source": [
        "__문제 1: 변수와 숫자형__\n",
        "\n",
        "다음 조건을 만족하는 코드를 작성하세요.\n",
        "  - 변수 ___a___와 ***b***를 사용하여 ***result*** 변수를 만든다.\n",
        "  - ***result***의 값은 **15**가 되어야 한다.\n",
        "\n",
        "  "
      ],
      "metadata": {
        "id": "bM8D1epivjpp"
      }
    },
    {
      "cell_type": "code",
      "source": [
        "# 여기에 코드를 작성하세요\n",
        "\n",
        "a = 10\n",
        "b = 5\n",
        "result = a + b\n",
        "\n",
        "print(result) # 출력: 15"
      ],
      "metadata": {
        "colab": {
          "base_uri": "https://localhost:8080/"
        },
        "outputId": "598d6cd4-f6f8-4e51-dd14-c9d2db3c2b84",
        "id": "Psaj8dwNvjpr"
      },
      "execution_count": null,
      "outputs": [
        {
          "output_type": "stream",
          "name": "stdout",
          "text": [
            "15\n"
          ]
        }
      ]
    },
    {
      "cell_type": "markdown",
      "source": [
        "__문제 2: 문자형__\n",
        "\n",
        "다음과 같은 결과를 출력하는 코드를 작성하세요\n",
        "  - 변수 ___text1, text2___를 사용하여 ___result___ 변수를 만든다.\n",
        "\n",
        "\n",
        "    Hello Python"
      ],
      "metadata": {
        "id": "Vbtt-ClZvjps"
      }
    },
    {
      "cell_type": "code",
      "source": [
        "# 여기에 코드를 작성하세요\n",
        "\n",
        "text1 = 'Hello'\n",
        "text2 = 'Python'\n",
        "result = text1 + ' ' + text2\n",
        "\n",
        "print(result)"
      ],
      "metadata": {
        "colab": {
          "base_uri": "https://localhost:8080/"
        },
        "outputId": "0c5e7f6d-484e-49bf-d0ed-d0d5ceed32c8",
        "id": "CQldwv-Yvjpt"
      },
      "execution_count": null,
      "outputs": [
        {
          "output_type": "stream",
          "name": "stdout",
          "text": [
            "Hello Python\n"
          ]
        }
      ]
    },
    {
      "cell_type": "markdown",
      "source": [
        "__문제 3: 리스트__\n",
        "\n",
        "다음 코드에서 ___numbers___ 리스트를 조작하여 다음과 같은 결과를 출력하는 코드를 작성하세요.\n",
        "\n",
        "    [10, 20, 30, 40, 50, 60]"
      ],
      "metadata": {
        "id": "X670CzcSvjpt"
      }
    },
    {
      "cell_type": "code",
      "source": [
        "numbers = [10, 20, 30, 50]\n",
        "\n",
        "# 여기에 코드를 추가하세요\n",
        "\n",
        "numbers.insert(3, 40)\n",
        "numbers.append(60)\n",
        "\n",
        "print(numbers)"
      ],
      "metadata": {
        "colab": {
          "base_uri": "https://localhost:8080/"
        },
        "outputId": "65b94ab6-f27a-4eb9-cc0f-0c51acb9f940",
        "id": "Qtu6S7i5vjpu"
      },
      "execution_count": null,
      "outputs": [
        {
          "output_type": "stream",
          "name": "stdout",
          "text": [
            "[10, 20, 30, 40, 50, 60]\n"
          ]
        }
      ]
    },
    {
      "cell_type": "markdown",
      "source": [
        "**문제 4: 튜플, 딕셔너리, 집합 활용**\n",
        "\n",
        "다음 조건을 만족하는 코드를 작성하세요\n",
        "\n",
        "- 튜플을 사용하여 `(10, 20, 30)`을 변수 ***my_tuple***에 저장\n",
        "\n",
        "- 딕셔너리를 사용하여 `'name':'Alice', 'age':25`라는 데이터를 my_dict에 저장한다.\n",
        "\n",
        "- 집합을 사용하여 `{1, 2, 3, 4, 5}`를 my_set에 저장한다."
      ],
      "metadata": {
        "id": "acWPiAUWvjpv"
      }
    },
    {
      "cell_type": "code",
      "source": [
        "# 여기에 코드를 작성하세요\n",
        "\n",
        "my_tuple = (10, 20, 30)\n",
        "my_dict = {'name': 'Alice', 'age': 25}\n",
        "my_set = {1, 2, 3, 4, 5}\n",
        "\n",
        "print(my_tuple)  # 출력: (10, 20, 30)\n",
        "print(my_dict)   # 출력: {'name': 'Alice', 'age': 25}\n",
        "print(my_set)    # 출력: {1, 2, 3, 4, 5}"
      ],
      "metadata": {
        "colab": {
          "base_uri": "https://localhost:8080/"
        },
        "outputId": "b7a095d9-9422-49a5-eaca-fd548b81b946",
        "id": "BnL3HHpbvjpw"
      },
      "execution_count": null,
      "outputs": [
        {
          "output_type": "stream",
          "name": "stdout",
          "text": [
            "(10, 20, 30)\n",
            "{'name': 'Alice', 'age': 25}\n",
            "{1, 2, 3, 4, 5}\n"
          ]
        }
      ]
    },
    {
      "cell_type": "markdown",
      "source": [
        "**문제 5: 튜플과 집합 활용**\n",
        "\n",
        "다음과 같은 튜플이 주어졌을 때, 중복을 제거하고 오름차순으로 정렬된 리스트를 출력하는 코드를 작성하세요\n",
        "\n",
        "    my_tuple = (5, 3, 8, 3, 1, 5, 7, 8, 2)"
      ],
      "metadata": {
        "id": "bT468Okbvjpx"
      }
    },
    {
      "cell_type": "code",
      "source": [
        "# 여기에 코드를 작성하세요\n",
        "\n",
        "my_tuple = (5, 3, 8, 3, 1, 5, 7, 8, 2)\n",
        "\n",
        "result = list(set(my_tuple))\n",
        "result.sort()\n",
        "# result = sorted(result)\n",
        "\n",
        "print(result)   # 출력: [1, 2, 3, 5, 7, 8]"
      ],
      "metadata": {
        "colab": {
          "base_uri": "https://localhost:8080/"
        },
        "outputId": "1487531b-3815-4b91-9c02-8e372f2efc7b",
        "id": "WBv1YavSvjpy"
      },
      "execution_count": null,
      "outputs": [
        {
          "output_type": "stream",
          "name": "stdout",
          "text": [
            "[1, 2, 3, 5, 7, 8]\n"
          ]
        }
      ]
    }
  ]
}